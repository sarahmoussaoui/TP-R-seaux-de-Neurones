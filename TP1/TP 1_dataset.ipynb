{
 "cells": [
  {
   "cell_type": "markdown",
   "metadata": {
    "id": "23HhZ0TZl0zP"
   },
   "source": [
    "# TP 1 Mesures de performance\n",
    "Dans ce TP, nous aimerions avoir un premier aperçu sur les algorithmes d'apprentissage automatique. Plus précisément, nous aimerions évaluer leurs performances en utilisant les métriques suivantes:\n",
    "- Matrice de conusion\n",
    "- Rappel\n",
    "- Précision\n",
    "- Taux de FP\n",
    "- Spécificité\n",
    "- Courbe ROC\n",
    "\n",
    "Les mesures devront être calculées sur la tâche de classification de nombres manuscrits.\n",
    "\n",
    "Le travail consiste à implementer ces métriques et à les comparer avec les métriques des librairies disponibles.\n",
    "\n",
    "Les algorithmes : K plus Proches Voisins devront être implementés."
   ]
  },
  {
   "cell_type": "markdown",
   "metadata": {
    "id": "RnUKQQfjl0ze"
   },
   "source": [
    "# Importation des librairies necessaires au travail"
   ]
  },
  {
   "cell_type": "code",
   "execution_count": 1,
   "metadata": {
    "executionInfo": {
     "elapsed": 1671,
     "status": "ok",
     "timestamp": 1646692651996,
     "user": {
      "displayName": "Mounir Dekali",
      "photoUrl": "https://lh3.googleusercontent.com/a-/AOh14Gg8ysiB3LFZobpTpBaxvF4VcyOV4pcw95wF6Mdyhw=s64",
      "userId": "18151484264085085052"
     },
     "user_tz": -60
    },
    "id": "YDZVV6GVl0zg"
   },
   "outputs": [],
   "source": [
    "import numpy as np\n",
    "import csv\n",
    "import pandas as pd\n",
    "import matplotlib.pyplot as plt\n",
    "from numpy import random\n",
    "from sklearn.neural_network import MLPClassifier\n",
    "from sklearn.model_selection import train_test_split\n",
    "from sklearn import svm\n",
    "from sklearn.tree import DecisionTreeClassifier\n",
    "from sklearn.neighbors import KNeighborsClassifier\n",
    "from sklearn.metrics import classification_report, confusion_matrix\n",
    "from sklearn.preprocessing import StandardScaler\n",
    "from sklearn.metrics import accuracy_score, precision_score, recall_score, f1_score\n"
   ]
  },
  {
   "cell_type": "code",
   "execution_count": 2,
   "metadata": {
    "executionInfo": {
     "elapsed": 2710,
     "status": "ok",
     "timestamp": 1646692656130,
     "user": {
      "displayName": "Mounir Dekali",
      "photoUrl": "https://lh3.googleusercontent.com/a-/AOh14Gg8ysiB3LFZobpTpBaxvF4VcyOV4pcw95wF6Mdyhw=s64",
      "userId": "18151484264085085052"
     },
     "user_tz": -60
    },
    "id": "Uqyb8vZ3l0zk"
   },
   "outputs": [],
   "source": [
    "# Pour RNC\n",
    "from sklearn.model_selection import KFold\n",
    "from sklearn.cluster import KMeans\n",
    "from tensorflow.keras.datasets import mnist\n",
    "from tensorflow.keras.utils import to_categorical\n",
    "from tensorflow.keras.models import Sequential\n",
    "from tensorflow.keras.layers import Conv2D\n",
    "from tensorflow.keras.layers import MaxPooling2D\n",
    "from tensorflow.keras.layers import Dense\n",
    "from tensorflow.keras.layers import Flatten\n",
    "from tensorflow.keras.layers import Input\n",
    "from tensorflow.keras.layers import Dropout\n",
    "from tensorflow.keras.optimizers import SGD"
   ]
  },
  {
   "cell_type": "markdown",
   "metadata": {
    "id": "_nT_H3aPl0zm"
   },
   "source": [
    "# Lecture des fichiers de données à classifier\n",
    "Pour ce TP, nous allons lire les données à partir d'un fichier csv.\n"
   ]
  },
  {
   "cell_type": "markdown",
   "metadata": {},
   "source": [
    "### Partie 1: Data.csv"
   ]
  },
  {
   "cell_type": "code",
   "execution_count": 3,
   "metadata": {
    "colab": {
     "base_uri": "https://localhost:8080/",
     "height": 363
    },
    "executionInfo": {
     "elapsed": 7,
     "status": "error",
     "timestamp": 1646692659670,
     "user": {
      "displayName": "Mounir Dekali",
      "photoUrl": "https://lh3.googleusercontent.com/a-/AOh14Gg8ysiB3LFZobpTpBaxvF4VcyOV4pcw95wF6Mdyhw=s64",
      "userId": "18151484264085085052"
     },
     "user_tz": -60
    },
    "id": "91b0p4qbl0zn",
    "outputId": "6122521a-5308-498d-e11e-17f66e01b07d"
   },
   "outputs": [
    {
     "name": "stdout",
     "output_type": "stream",
     "text": [
      "(5000, 400)\n"
     ]
    }
   ],
   "source": [
    "# données\n",
    "X = np.genfromtxt('data.csv', delimiter=',', dtype=int) # function that reads data from a tX_train file and stores it in an array, data is loaded as integers\n",
    "print(X.shape) # numbers of rows and columns\n",
    "df = pd.read_csv(\"data.csv\",nrows=5000) # loads 5000 rows of data into a panda dataframe"
   ]
  },
  {
   "cell_type": "code",
   "execution_count": 4,
   "metadata": {
    "colab": {
     "base_uri": "https://localhost:8080/"
    },
    "executionInfo": {
     "elapsed": 263,
     "status": "ok",
     "timestamp": 1646666818665,
     "user": {
      "displayName": "Mounir Dekali",
      "photoUrl": "https://lh3.googleusercontent.com/a-/AOh14Gg8ysiB3LFZobpTpBaxvF4VcyOV4pcw95wF6Mdyhw=s64",
      "userId": "18151484264085085052"
     },
     "user_tz": -60
    },
    "id": "j6KdcfC8l0zq",
    "outputId": "61a2ca31-b8d4-447d-e6f2-25d0ce9f8175"
   },
   "outputs": [
    {
     "data": {
      "text/plain": [
       "(5000,)"
      ]
     },
     "execution_count": 4,
     "metadata": {},
     "output_type": "execute_result"
    }
   ],
   "source": [
    "# étiquettes\n",
    "Y = np.genfromtxt('labels.csv', delimiter=',', dtype=int)\n",
    "Y.shape # 5000 labels corresponding to the data.csv rows respectivily"
   ]
  },
  {
   "cell_type": "markdown",
   "metadata": {
    "id": "TY2OixHCl0zs"
   },
   "source": [
    "Afficher aléatoirement quelques données de notre base"
   ]
  },
  {
   "cell_type": "code",
   "execution_count": 5,
   "metadata": {
    "colab": {
     "base_uri": "https://localhost:8080/",
     "height": 118
    },
    "executionInfo": {
     "elapsed": 2304,
     "status": "ok",
     "timestamp": 1646666823844,
     "user": {
      "displayName": "Mounir Dekali",
      "photoUrl": "https://lh3.googleusercontent.com/a-/AOh14Gg8ysiB3LFZobpTpBaxvF4VcyOV4pcw95wF6Mdyhw=s64",
      "userId": "18151484264085085052"
     },
     "user_tz": -60
    },
    "id": "QMTnUdBql0zu",
    "outputId": "5b2dda71-20a2-4ab8-e707-a2e19c0f2fc8"
   },
   "outputs": [
    {
     "data": {
      "image/png": "[encoded data removed]",
      "text/plain": [
       "<Figure size 1500x800 with 13 Axes>"
      ]
     },
     "metadata": {},
     "output_type": "display_data"
    }
   ],
   "source": [
    "plt.figure(figsize=(15,8))\n",
    "for i in range(13): #note: each 500 lines, there is a new value\n",
    "    c = random.randint(X.shape[0]) #pick a random line from the dataset \n",
    "    a = X[c,:].reshape((20, 20)) #shape of one number in the image \n",
    "    a=np.transpose(a) # la transposé (rendre les ligne des colonne et vice versa)\n",
    "    plt.subplot(1,13,i+1)\n",
    "    plt.title('label '+ str(Y[c]))\n",
    "    plt.imshow(a,cmap='gray')"
   ]
  },
  {
   "cell_type": "markdown",
   "metadata": {
    "id": "UM03Af2dl0zv"
   },
   "source": [
    "Notons que l'étiquette 10 concerne le chiffre 0. L'étiquette a été utilisée ainsi afin de faciliter les calculs conséquents."
   ]
  },
  {
   "cell_type": "markdown",
   "metadata": {
    "id": "s80Yb_gul0zx"
   },
   "source": [
    "# Implémentation des métriques demandées\n",
    "Ici il faut écrire les fonctions, puis les appeler dans la suite du code"
   ]
  },
  {
   "cell_type": "markdown",
   "metadata": {},
   "source": [
    "- Matrice de confusion :"
   ]
  },
  {
   "cell_type": "markdown",
   "metadata": {},
   "source": [
    "##### Global Matrix for all classes\n",
    "10 X 10 matrix where : \\\n",
    "row : true class \\\n",
    "column : predicted class \\\n",
    "diagonal elements represent the correct predictions \\\n",
    "off diagnoal elements represent misclassifications"
   ]
  },
  {
   "cell_type": "code",
   "execution_count": 6,
   "metadata": {},
   "outputs": [],
   "source": [
    "def compute_confusion_matrix(y_true, y_pred, num_classes):\n",
    "    \"\"\"\n",
    "    Compute the confusion matrix from scratch.\n",
    "\n",
    "    Args:\n",
    "        y_true (array): True labels \n",
    "        y_pred (array): Predicted labels\n",
    "        num_classes (int): Number of classes.\n",
    "\n",
    "    Returns:\n",
    "        confusion_matrix (array): Confusion matrix of shape [num_classes, num_classes].\n",
    "        the 10th row of the matrix represents the class 10 (digit 0)\n",
    "    \"\"\"\n",
    "    # Initialize the confusion matrix with zeros\n",
    "    cm = np.zeros((num_classes, num_classes), dtype=int)\n",
    "    \n",
    "    # Iterate through the true and predicted labels\n",
    "    for true_label, pred_label in zip(y_true, y_pred):\n",
    "        # Adjust labels to be 0-based (0-based indexing)\n",
    "        true_label_idx = true_label - 1  # Convert 1-10 to 0-9\n",
    "        pred_label_idx = pred_label - 1  # Convert 1-10 to 0-9\n",
    "        \n",
    "        # Increment the corresponding cell in the confusion matrix\n",
    "        cm[true_label_idx, pred_label_idx] += 1\n",
    "    \n",
    "    return cm      "
   ]
  },
  {
   "cell_type": "markdown",
   "metadata": {},
   "source": [
    "##### Matrix for each class\n",
    "we will generate 10 different matrices of 2X2 \\\n",
    "True Positive (TP)  False Negative (FN) \\\n",
    "False Positive (FP) True Negative (TN) \n",
    "\n"
   ]
  },
  {
   "cell_type": "code",
   "execution_count": 7,
   "metadata": {},
   "outputs": [],
   "source": [
    "def confusion_matrix_per_class(y_true, y_pred, num_classes):\n",
    "    \"\"\"\n",
    "    Compute the confusion matrix for each class (one-vs-all).\n",
    "\n",
    "    Args:\n",
    "        y_true (array): True labels \n",
    "        y_pred (array): Predicted labels \n",
    "        num_classes (int): Number of classes.\n",
    "\n",
    "    Returns:\n",
    "        class_cm (dict): A dictionary where keys are class labels and values are 2x2 confusion matrices.\n",
    "    \"\"\"\n",
    "    class_cm = {}\n",
    "    \n",
    "    for class_label in range(1, num_classes + 1): # num_classes +1 = 11 : because in range should go from 1 to 10\n",
    "        # Create binary labels for the current class : 1 for current class , 0 for other classes\n",
    "        y_true_binary = (y_true == class_label).astype(int)  # as type converts boolean value true or false to 1 or 0\n",
    "        y_pred_binary = (y_pred == class_label).astype(int)\n",
    "        \n",
    "        # Compute the 2x2 confusion matrix for the current class\n",
    "        tp = np.sum((y_true_binary == 1) & (y_pred_binary == 1))  # True Positives\n",
    "        tn = np.sum((y_true_binary == 0) & (y_pred_binary == 0))  # True Negatives\n",
    "        fp = np.sum((y_true_binary == 0) & (y_pred_binary == 1))  # False Positives\n",
    "        fn = np.sum((y_true_binary == 1) & (y_pred_binary == 0))  # False Negatives\n",
    "        \n",
    "        # Store the confusion matrix for the current class\n",
    "        class_cm[class_label] = np.array([[tn, fp], [fn, tp]])\n",
    "     \n",
    "    return class_cm"
   ]
  },
  {
   "cell_type": "markdown",
   "metadata": {},
   "source": [
    "- Accuracy = (TP + TN)/(TP + TN + FP + FN)"
   ]
  },
  {
   "cell_type": "markdown",
   "metadata": {},
   "source": [
    "##### Overall accuracy"
   ]
  },
  {
   "cell_type": "code",
   "execution_count": 8,
   "metadata": {},
   "outputs": [],
   "source": [
    "def overall_accuracy(y_true,y_pred):\n",
    "  correct_predictions = 0 # initialise counter for correct predictions TP+TN\n",
    "  for i in range(len(y_true)):\n",
    "    if(y_true[i]== y_pred[i]):\n",
    "      correct_predictions +=1\n",
    "  \n",
    "  overall_accuracy = correct_predictions / len(y_true) # len(y_true) = TP + TN + FP + FN\n",
    "\n",
    "  return(overall_accuracy)"
   ]
  },
  {
   "cell_type": "markdown",
   "metadata": {},
   "source": [
    "##### accuracy for each class"
   ]
  },
  {
   "cell_type": "code",
   "execution_count": 9,
   "metadata": {},
   "outputs": [],
   "source": [
    "def accuracy_per_class(y_true, y_pred, num_classes):\n",
    "    \"\"\"\n",
    "    Compute accuracy for each class.\n",
    "\n",
    "    Args:\n",
    "        y_true (array): True labels \n",
    "        y_pred (array): Predicted labels \n",
    "        num_classes (int): Number of classes.\n",
    "\n",
    "    Returns:\n",
    "        class_accuracy (dict): A dictionary where keys are class labels and values are accuracies.\n",
    "    \"\"\"\n",
    "    class_accuracy = {}\n",
    "    \n",
    "    for class_label in range(1, num_classes + 1):  # Classes are labeled from 1 to num_classes\n",
    "        # Indices of samples that belong to the current class\n",
    "        class_indices = (y_true == class_label) # boolean values 0 or 1 for rows of y_true corresponding to the class\n",
    "        \n",
    "        # Number of samples for the current class\n",
    "        total_samples = np.sum(class_indices) # sum of boolean values is going to be number of rows of the class\n",
    "        \n",
    "        if total_samples == 0:\n",
    "            # If there are no samples for this class, set accuracy to 0 or handle it as needed\n",
    "            class_accuracy[class_label] = 0. # float\n",
    "            continue\n",
    "        \n",
    "        # Number of correct predictions for the current class\n",
    "        correct_predictions = np.sum((y_true == class_label) & (y_pred == class_label))\n",
    "        \n",
    "        # Accuracy for the current class\n",
    "        accuracy = correct_predictions / total_samples\n",
    "        class_accuracy[class_label] = accuracy\n",
    "    \n",
    "    return class_accuracy"
   ]
  },
  {
   "cell_type": "markdown",
   "metadata": {
    "id": "-mRS4onu-52j"
   },
   "source": [
    "- Recall (True Positive Rate) = TP/(TP + FN)"
   ]
  },
  {
   "cell_type": "markdown",
   "metadata": {},
   "source": [
    "##### Recall for each class"
   ]
  },
  {
   "cell_type": "code",
   "execution_count": 10,
   "metadata": {
    "colab": {
     "background_save": true
    },
    "id": "ReRWcXEYgeQe"
   },
   "outputs": [],
   "source": [
    "def recall_per_class(y_true, y_pred, num_classes):\n",
    "    \"\"\"\n",
    "    Compute recall for each class.\n",
    "\n",
    "    Args:\n",
    "        y_true (array): True labels \n",
    "        y_pred (array): Predicted labels \n",
    "        num_classes (int): Number of classes.\n",
    "\n",
    "    Returns:\n",
    "        class_recall (dict): A dictionary where keys are class labels and values are recall values.\n",
    "    \"\"\"\n",
    "    class_recall = {}\n",
    "    \n",
    "    for class_label in range(1, num_classes + 1):  # Classes are labeled from 1 to num_classes\n",
    "        # True Positives (TP): Correctly predicted as the current class\n",
    "        tp = np.sum((y_true == class_label) & (y_pred == class_label))\n",
    "        \n",
    "        # False Negatives (FN): Belong to the current class but predicted as another class\n",
    "        fn = np.sum((y_true == class_label) & (y_pred != class_label))\n",
    "        \n",
    "        # Avoid division by zero\n",
    "        if (tp + fn) == 0:\n",
    "            recall = 0.0  # If there are no samples for this class, set recall to 0\n",
    "        else:\n",
    "            # Compute recall\n",
    "            recall = tp / (tp + fn)\n",
    "        \n",
    "        # Store the recall for the current class\n",
    "        class_recall[class_label] = recall\n",
    "    \n",
    "    return class_recall"
   ]
  },
  {
   "cell_type": "markdown",
   "metadata": {},
   "source": [
    "##### Overall Recall "
   ]
  },
  {
   "cell_type": "code",
   "execution_count": 11,
   "metadata": {},
   "outputs": [],
   "source": [
    "def overall_recall(y_true, y_pred, average='macro'):\n",
    "    \"\"\"\n",
    "    Compute overall recall.\n",
    "\n",
    "    Args:\n",
    "        y_true (array): True labels \n",
    "        y_pred (array): Predicted labels \n",
    "        average (string): Define the avraging methode (macro or weighted) \n",
    "\n",
    "    Returns:\n",
    "        overall_recall (float): Overall recall.\n",
    "        \n",
    "    \"\"\"\n",
    "    # Ensure y_true, y_pred are nb arrays \n",
    "    y_true = np.asarray(y_true)\n",
    "    y_pred = np.asarray(y_pred)\n",
    "\n",
    "    unique_classes = np.union1d(y_true, y_pred)\n",
    "    total_recall = 0\n",
    "    total_weight = 0\n",
    "    recalls = []       # Stores count of recall for each class  \n",
    "    class_counts = []  # Stores count of occurrences for each class  \n",
    "    # Compute recall for each class  \n",
    "    for class_label in unique_classes:\n",
    "        tp = np.sum((y_true == class_label) & (y_pred == class_label)) # true positive\n",
    "        fn = np.sum((y_true == class_label) & (y_pred != class_label)) # false negarive\n",
    "\n",
    "        if tp + fn == 0:\n",
    "            recall = 0\n",
    "        else:\n",
    "            recall = tp / (tp + fn)\n",
    "\n",
    "        recalls.append(recall)\n",
    "        class_counts.append(np.sum(y_true == class_label))\n",
    "    # Compute macro-average recall  \n",
    "    if average == 'macro':\n",
    "        total_recall = 0\n",
    "        for recall in recalls:\n",
    "            total_recall += recall\n",
    "        return total_recall / len(unique_classes)\n",
    "    # Compute weighted-average recall  \n",
    "    if average == 'weighted':\n",
    "        weighted_recall = 0\n",
    "        total_weight = 0\n",
    "        for i in range(len(recalls)):\n",
    "            weighted_recall += recalls[i] * class_counts[i]  # Weight recall by class count  \n",
    "            total_weight += class_counts[i]    # Sum total instances \n",
    "\n",
    "        if total_weight == 0:\n",
    "            return 0\n",
    "        return weighted_recall / total_weight\n",
    "\n",
    "    raise ValueError(\"Invalid average type. Choose 'macro' or 'weighted'.\")\n",
    "\n"
   ]
  },
  {
   "cell_type": "markdown",
   "metadata": {
    "id": "iy1P5tes-jM8"
   },
   "source": [
    "- Précision = TP/(TP + FP)"
   ]
  },
  {
   "cell_type": "markdown",
   "metadata": {
    "colab": {
     "background_save": true
    },
    "id": "bnHz28P0Z36s"
   },
   "source": [
    "##### Precision for each class\n"
   ]
  },
  {
   "cell_type": "code",
   "execution_count": 12,
   "metadata": {},
   "outputs": [],
   "source": [
    "def precision_per_class(y_true, y_pred, num_classes):\n",
    "    \n",
    "    class_precision = {}\n",
    "        \n",
    "    for class_label in range(1, num_classes + 1):  # Classes are labeled from 1 to num_classes\n",
    "         # True Positives (TP): Correctly predicted as the current class\n",
    "        TP = np.sum((y_true == class_label) & (y_pred == class_label))\n",
    "         # False Positives (FP): Predicted as this class but actually not this class\n",
    "        FP = np.sum((y_pred == class_label) & (y_true != class_label))\n",
    "        \n",
    "        # Avoid division by zero\n",
    "        if (TP + FP) == 0:\n",
    "            precision = 0.0  # If there are no samples for this class, set precison to 0\n",
    "        else:\n",
    "            # Compute precision\n",
    "            precision = TP / (TP + FP)\n",
    "         \n",
    "        # Store the precision for the current class\n",
    "        class_precision[class_label] = precision\n",
    "    \n",
    "    return class_precision\n",
    "    "
   ]
  },
  {
   "cell_type": "markdown",
   "metadata": {},
   "source": [
    "##### Overall Precision"
   ]
  },
  {
   "cell_type": "code",
   "execution_count": 13,
   "metadata": {},
   "outputs": [],
   "source": [
    "def overall_precision(y_true, y_pred, average='macro'):\n",
    "    \"\"\"\n",
    "    Compute overall precision.\n",
    "\n",
    "    Args:\n",
    "        y_true (array): True labels \n",
    "        y_pred (array): Predicted labels \n",
    "        average (string): Define the avraging equation (macro or weighted)\n",
    "\n",
    "    Returns:\n",
    "        overall_precision (float): Overall precision.\n",
    "        \n",
    "    \"\"\"\n",
    "   # Ensure y_true, y_pred are numpy arrays  \n",
    "    y_true = np.asarray(y_true)  \n",
    "    y_pred = np.asarray(y_pred)  \n",
    "\n",
    "# Get unique class labels from both true and predicted values  \n",
    "    unique_classes = np.union1d(y_true, y_pred)  \n",
    "    total_precision = 0  \n",
    "    total_weight = 0  \n",
    "    precisions = []  # Contains precision of each class  \n",
    "    class_counts = []  # Stores count of occurrences for each class  \n",
    "\n",
    "# Compute precision for each class  \n",
    "    for class_label in unique_classes:  \n",
    "        tp = np.sum((y_true == class_label) & (y_pred == class_label))  # True positives  \n",
    "        fp = np.sum((y_pred == class_label) & (y_true != class_label))  # False positives  \n",
    "\n",
    "        if tp + fp == 0:  \n",
    "            precision = 0  # Avoid division by zero  \n",
    "        else:  \n",
    "            precision = tp / (tp + fp)  \n",
    "\n",
    "        precisions.append(precision)  \n",
    "        class_counts.append(np.sum(y_true == class_label))  # Count occurrences of class in y_true  \n",
    "\n",
    "    # Compute macro-average precision  \n",
    "    if average == 'macro':  \n",
    "        total_precision = sum(precisions)  # Sum all class precisions  \n",
    "        return total_precision / len(unique_classes)  # Divide by the number of classes  \n",
    "\n",
    "    # Compute weighted-average precision  \n",
    "    if average == 'weighted':  \n",
    "        weighted_precision = 0  \n",
    "\n",
    "        for i in range(len(precisions)):  \n",
    "            weighted_precision += precisions[i] * class_counts[i]  # Weight precision by class count  \n",
    "            total_weight += class_counts[i]  # Sum total instances  \n",
    "\n",
    "        if total_weight == 0:  \n",
    "            return 0  # Avoid division by zero  \n",
    "        return weighted_precision / total_weight  \n",
    "\n",
    "    # Raise an error for invalid average type  \n",
    "    raise ValueError(\"Invalid average type. Choose 'macro' or 'weighted'.\")  \n",
    "\n",
    "\n"
   ]
  },
  {
   "cell_type": "markdown",
   "metadata": {
    "id": "2SUXNHkz-qd5"
   },
   "source": [
    "- Taux de FP (False Positive Rate) = FP / (FP + TN)"
   ]
  },
  {
   "cell_type": "markdown",
   "metadata": {
    "colab": {
     "background_save": true
    },
    "id": "r_o0qyv2l0z3"
   },
   "source": [
    "##### False Positive Rate for each class"
   ]
  },
  {
   "cell_type": "code",
   "execution_count": 14,
   "metadata": {},
   "outputs": [],
   "source": [
    "def FP_rate_per_class(y_true, y_pred, num_classes):\n",
    "    \n",
    "    class_FP_rate = {}\n",
    "        \n",
    "    for class_label in range(1, num_classes + 1):  # Classes are labeled from 1 to num_classes\n",
    "          # False Positives (FP): Predicted as this class but actually not this class\n",
    "        FP = np.sum((y_pred == class_label) & (y_true != class_label))\n",
    "         # True Negatives (TN)\n",
    "        TN = np.sum((y_true != class_label) & (y_pred != class_label))\n",
    "        \n",
    "        # Avoid division by zero\n",
    "        if (TN + FP) == 0:\n",
    "            FP_rate = 0.0  # If there are no samples for this class, set FP_rate to 0\n",
    "        else:\n",
    "            # Compute FP_rate\n",
    "            FP_rate = FP / (FP + TN)\n",
    "         \n",
    "        # Store the FP_rate for the current class\n",
    "        class_FP_rate[class_label] = FP_rate\n",
    "    \n",
    "    return class_FP_rate\n",
    "    "
   ]
  },
  {
   "cell_type": "markdown",
   "metadata": {},
   "source": [
    "##### Overall False Positive Rate"
   ]
  },
  {
   "cell_type": "code",
   "execution_count": 15,
   "metadata": {},
   "outputs": [],
   "source": [
    "\n",
    "\n",
    "def overall_FP_rate(y_true, y_pred):\n",
    "    \n",
    "    # Initialize variables to store total TN and FP\n",
    "    total_TN = 0\n",
    "    total_FP = 0\n",
    "    # Ensure y_true, y_pred are nb arrays \n",
    "    y_true = np.asarray(y_true)\n",
    "    y_pred = np.asarray(y_pred)\n",
    "    # find the number of classes\n",
    "    unique_classes = np.union1d(y_true, y_pred)\n",
    "\n",
    "    # Iterate through each class\n",
    "    for class_label in unique_classes:  # Classes from 0 to num_classes-1\n",
    "        # False Positives (FP): Predicted as this class but actually not this class\n",
    "        FP = np.sum((y_pred == class_label) & (y_true != class_label))\n",
    "        total_FP += FP\n",
    "        \n",
    "        # True Negatives (TN): Neither of this class, nor predicted as this class\n",
    "        TN = np.sum((y_true != class_label) & (y_pred != class_label))\n",
    "        total_TN += TN\n",
    "    \n",
    "    # Compute the overall false positive rate (FPR)\n",
    "    if (total_FP + total_TN) == 0:\n",
    "        overall_FP_rate = 0.0  # Avoid division by zero\n",
    "    else:\n",
    "        overall_FP_rate = total_FP / (total_FP + total_TN)\n",
    "    \n",
    "    return overall_FP_rate\n"
   ]
  },
  {
   "cell_type": "markdown",
   "metadata": {
    "id": "7gx9qcAK-wnc"
   },
   "source": [
    "- Spécificité (True Negative Rate) = TN / (TN + FP)"
   ]
  },
  {
   "cell_type": "markdown",
   "metadata": {
    "colab": {
     "background_save": true
    },
    "id": "DEXYGvurl0z5"
   },
   "source": [
    "##### Specificity for each class"
   ]
  },
  {
   "cell_type": "code",
   "execution_count": 16,
   "metadata": {},
   "outputs": [],
   "source": [
    "def Specificity_per_class(y_true, y_pred, num_classes):\n",
    "    \n",
    "    class_Specificity = {}\n",
    "        \n",
    "    for class_label in range(1, num_classes + 1):  # Classes are labeled from 1 to num_classes\n",
    "          # False Positives (FP): Predicted as this class but actually not this class\n",
    "        FP = np.sum((y_pred == class_label) & (y_true != class_label))\n",
    "         # True Negatives (TN)\n",
    "        TN = np.sum((y_true != class_label) & (y_pred != class_label))\n",
    "        \n",
    "        # Avoid division by zero\n",
    "        if (TN + FP) == 0:\n",
    "            Specificity = 0.0  # If there are no samples for this class, set Specificity to 0\n",
    "        else:\n",
    "            # Compute Specificity\n",
    "            Specificity = TN / (FP + TN)\n",
    "         \n",
    "        # Store the Specificity for the current class\n",
    "        class_Specificity[class_label] = Specificity\n",
    "    \n",
    "    return   class_Specificity\n",
    "    "
   ]
  },
  {
   "cell_type": "markdown",
   "metadata": {},
   "source": [
    "##### Overall Specificity "
   ]
  },
  {
   "cell_type": "code",
   "execution_count": 17,
   "metadata": {},
   "outputs": [],
   "source": [
    "def overall_Specificity(y_true, y_pred):\n",
    "    \n",
    "    # Initialize variables to store total TN and FP\n",
    "    total_TN = 0\n",
    "    total_FP = 0\n",
    "    \n",
    "    # Iterate through each class\n",
    "    # Extract unique classes from both y_true and y_pred\n",
    "    unique_classes = np.union1d(y_true, y_pred)  # Ensures all seen classes are considered\n",
    "\n",
    "\n",
    "    for class_label in unique_classes:  # Classes from 0 to num_classes-1\n",
    "        # False Positives (FP): Predicted as this class but actually not this class\n",
    "        FP = np.sum((y_pred == class_label) & (y_true != class_label))\n",
    "        total_FP += FP\n",
    "        \n",
    "        # True Negatives (TN): Neither of this class, nor predicted as this class\n",
    "        TN = np.sum((y_true != class_label) & (y_pred != class_label))\n",
    "        total_TN += TN\n",
    "    \n",
    "    # Compute the overall Specificity\n",
    "    if (total_FP + total_TN) == 0:\n",
    "        overall_Specificity = 0.0  # Avoid division by zero\n",
    "    else:\n",
    "        overall_Specificity = total_TN / (total_FP + total_TN)\n",
    "    \n",
    "    return overall_Specificity"
   ]
  },
  {
   "cell_type": "markdown",
   "metadata": {
    "id": "ENA_XiFMl0z5"
   },
   "source": [
    "- Courbe ROC"
   ]
  },
  {
   "cell_type": "code",
   "execution_count": 18,
   "metadata": {},
   "outputs": [],
   "source": [
    "def roc_curve(actual, predicted_probabilities, positive_label):\n",
    "    \"\"\"\n",
    "    Compute the ROC curve for a specific class.\n",
    "\n",
    "    Args:\n",
    "    actual (array-like): Ground truth labels.\n",
    "    predicted_probabilities (array-like): Predicted probabilities for the target class.\n",
    "    positive_label (int): The class considered as positive.\n",
    "\n",
    "    Returns:\n",
    "    tuple: Lists of FPR and TPR values.\n",
    "    \"\"\"\n",
    "    # Generate thresholds from the predicted probabilities\n",
    "    thresholds = sorted(set(predicted_probabilities), reverse=True)\n",
    "    \n",
    "    tpr_list = []  # True Positive Rate values\n",
    "    fpr_list = []  # False Positive Rate values\n",
    "    \n",
    "    for threshold in thresholds:\n",
    "        # Convert probabilities into binary predictions based on the threshold\n",
    "        predicted_labels = [1 if prob >= threshold else 0 for prob in predicted_probabilities]\n",
    "        \n",
    "        # Compute TPR (Recall) and FPR\n",
    "        tp = sum((actual == positive_label) & (predicted_labels == 1))\n",
    "        fn = sum((actual == positive_label) & (predicted_labels == 0))\n",
    "        fp = sum((actual != positive_label) & (predicted_labels == 1))\n",
    "        tn = sum((actual != positive_label) & (predicted_labels == 0))\n",
    "        \n",
    "        tpr = tp / (tp + fn) if (tp + fn) > 0 else 0\n",
    "        fpr = fp / (fp + tn) if (fp + tn) > 0 else 0\n",
    "        \n",
    "        # Append values to lists\n",
    "        tpr_list.append(tpr)\n",
    "        fpr_list.append(fpr)\n",
    "\n",
    "    return fpr_list, tpr_list\n"
   ]
  },
  {
   "cell_type": "markdown",
   "metadata": {},
   "source": [
    "##### affichage de la courbe "
   ]
  },
  {
   "cell_type": "code",
   "execution_count": 19,
   "metadata": {},
   "outputs": [],
   "source": [
    "def plot_roc_curve(fpr, tpr, positive_label):\n",
    "    \"\"\"\n",
    "    Plot the ROC curve using Matplotlib.\n",
    "\n",
    "    Args:\n",
    "    fpr (list): List of False Positive Rates.\n",
    "    tpr (list): List of True Positive Rates.\n",
    "    positive_label (int): The class being analyzed.\n",
    "    \"\"\"\n",
    "    plt.figure(figsize=(8, 6))\n",
    "    plt.plot(fpr, tpr, marker='o', linestyle='-', color='b', label=f'Class {positive_label}')\n",
    "    plt.plot([0, 1], [0, 1], 'k--', label='Random Classifier')  # Diagonal line for reference\n",
    "    plt.xlabel(\"False Positive Rate (FPR)\")\n",
    "    plt.ylabel(\"True Positive Rate (TPR)\")\n",
    "    plt.title(f\"ROC Curve for Class {positive_label}\")\n",
    "    plt.legend(loc=\"lower right\")\n",
    "    plt.grid()\n",
    "    plt.show()\n"
   ]
  },
  {
   "cell_type": "markdown",
   "metadata": {
    "id": "IHfn7fgbl0z6"
   },
   "source": [
    "# Classification"
   ]
  },
  {
   "cell_type": "markdown",
   "metadata": {
    "id": "PGKbOn3el0z7"
   },
   "source": [
    "Définir d'abord la base d'entrainement X_train, Y_train et la base de test X_traint, Y_traint"
   ]
  },
  {
   "cell_type": "code",
   "execution_count": 20,
   "metadata": {
    "executionInfo": {
     "elapsed": 250,
     "status": "ok",
     "timestamp": 1646667242179,
     "user": {
      "displayName": "Mounir Dekali",
      "photoUrl": "https://lh3.googleusercontent.com/a-/AOh14Gg8ysiB3LFZobpTpBaxvF4VcyOV4pcw95wF6Mdyhw=s64",
      "userId": "18151484264085085052"
     },
     "user_tz": -60
    },
    "id": "mH2tdgEPl0z7"
   },
   "outputs": [],
   "source": [
    "scaler = StandardScaler()\n",
    "scaler.fit(X)\n",
    "scaled_features = scaler.transform(X)\n",
    "X_train, X_test, Y_train, Y_test = train_test_split(\n",
    "      scaled_features, Y, test_size = 0.30)"
   ]
  },
  {
   "cell_type": "markdown",
   "metadata": {
    "id": "ZEArHIKJl0z8"
   },
   "source": [
    "# Méthode 0: K- Plus Proches Voisins"
   ]
  },
  {
   "cell_type": "markdown",
   "metadata": {
    "id": "Uh7xVfJUl0z9"
   },
   "source": [
    "Ici il faudra implémenter la méthode, puis la tester et vérifier les métriques en variant le nombre K"
   ]
  },
  {
   "cell_type": "markdown",
   "metadata": {},
   "source": [
    "### implementer la fonction qui calcule la distance Euclidienne"
   ]
  },
  {
   "cell_type": "code",
   "execution_count": 21,
   "metadata": {
    "id": "1lKZnt7zl0z9"
   },
   "outputs": [
    {
     "name": "stdout",
     "output_type": "stream",
     "text": [
      "9.486832980505138\n"
     ]
    }
   ],
   "source": [
    "def euclidean_distance(point1 : np.ndarray , point2 : np.ndarray)-> float:\n",
    "    \"\"\"\n",
    "    Calculate the euclidien distance between two points (numpy arrays)\n",
    "    \"\"\"\n",
    "    if point1.shape != point2.shape :\n",
    "        raise ValueError(\"Both points must have same dimentions\")\n",
    "    \n",
    "    distance =  np.sqrt(np.sum((point1 - point2)**2))\n",
    "    return distance\n",
    "\n",
    "#test \n",
    "a = np.array([5 , 3 ]); \n",
    "b = np.array([2 , 12 ]); \n",
    "\n",
    "print(euclidean_distance(a , b))"
   ]
  },
  {
   "cell_type": "markdown",
   "metadata": {},
   "source": [
    "### Implementer l'algorithme KNN"
   ]
  },
  {
   "cell_type": "code",
   "execution_count": 22,
   "metadata": {},
   "outputs": [
    {
     "name": "stdout",
     "output_type": "stream",
     "text": [
      "Predicted Label: 1\n",
      "Probability Distribution: [0.33333333 0.66666667 0.        ]\n"
     ]
    }
   ],
   "source": [
    "from collections import Counter\n",
    "\n",
    "def KNN(new_point: np.array, data: np.array, labels: np.array, k: int):\n",
    "    \"\"\"\n",
    "    This function uses the K-Nearest Neighbors (KNN) algorithm to predict the label of new_point\n",
    "    and return probability estimates for each label.\n",
    "        new_point : The data point to classify\n",
    "        data : A numpy array containing samples of labeled data (only the features)\n",
    "        labels : The labels of data\n",
    "        k: The number of nearest neighbors to consider.\n",
    "    \"\"\"\n",
    "    distances = []\n",
    "    \n",
    "    # 1. Calculate Euclidean distance with each point of the dataset\n",
    "    for i in range(data.shape[0]):  # Iterate through dataset samples\n",
    "        distances.append((euclidean_distance(data[i], new_point), labels[i]))\n",
    "    \n",
    "    # 2. Sort by distance\n",
    "    distances.sort(key=lambda pair: pair[0])\n",
    "    \n",
    "    # 3. Select the first k points\n",
    "    k_nearest = [distances[i][1] for i in range(k)]\n",
    "    \n",
    "    # 4. Compute label probabilities in matrix form\n",
    "    unique_labels = np.unique(labels)\n",
    "    label_counts = Counter(k_nearest)\n",
    "    total = sum(label_counts.values())\n",
    "    probabilities = np.zeros(len(unique_labels))\n",
    "    \n",
    "    for i, label in enumerate(unique_labels):\n",
    "        probabilities[i] = label_counts[label] / total if label in label_counts else 0.0\n",
    "    \n",
    "    # 5. Return the most common label as a prediction and the probability distribution matrix\n",
    "    pred_label = max(label_counts, key=label_counts.get)\n",
    "    \n",
    "    return pred_label, probabilities\n",
    "\n",
    "# Test the KNN function\n",
    "data = np.array([[1.0, 2.0], [2.0, 3.0], [3.0, 3.0], [5.0, 5.0], [6.0, 7.0], [10,9]])\n",
    "labels = np.array([0, 0, 1, 1, 1 , 7 ])\n",
    "new_point = np.array([3.5, 3.5])\n",
    "k = 3\n",
    "pred_label, probabilities = KNN(new_point, data, labels, k)\n",
    "print(f\"Predicted Label: {pred_label}\")\n",
    "print(f\"Probability Distribution: {probabilities}\")\n"
   ]
  },
  {
   "cell_type": "markdown",
   "metadata": {},
   "source": [
    "### Tester l'algorithme KNN sur le dataset degits images avec diffrents valeurs de K"
   ]
  },
  {
   "cell_type": "code",
   "execution_count": 25,
   "metadata": {},
   "outputs": [
    {
     "name": "stdout",
     "output_type": "stream",
     "text": [
      "KNN Evaluation\n",
      "\n",
      "\n",
      "Test with K =  3\n",
      "\n",
      "Confusion Matrix (Tabular Format):\n",
      "     0    1    2    3    4    5    6    7    8    9\n",
      "0  151    0    1    1    0    0    1    0    1    0\n",
      "1    4  105    8    2    1    4    1    6    0    2\n",
      "2    5    3  136    1    2    0    1    5    3    1\n",
      "3    4    3    0  115    0    0    0    1   17    0\n",
      "4    1    0   13    1  126    6    0    5    6    0\n",
      "5    2    1    0    1    1  139    0    2    0    0\n",
      "6    4    0    0    6    0    0  127    0   10    0\n",
      "7    4    2    5    2   17    2    0  133    2    2\n",
      "8    3    2    3    3    0    0    5    0  129    1\n",
      "9    1    0    0    0    2    3    0    0    0  143\n",
      "Accuracy = 0.87, Precision = 0.87, Recall = 0.87, Specificity = 0.99 , FP_rate=0.01\n"
     ]
    },
    {
     "ename": "KeyboardInterrupt",
     "evalue": "",
     "output_type": "error",
     "traceback": [
      "\u001b[1;31m---------------------------------------------------------------------------\u001b[0m",
      "\u001b[1;31mKeyboardInterrupt\u001b[0m                         Traceback (most recent call last)",
      "Cell \u001b[1;32mIn[25], line 16\u001b[0m\n\u001b[0;32m     14\u001b[0m y_pred \u001b[38;5;241m=\u001b[39m []\n\u001b[0;32m     15\u001b[0m \u001b[38;5;28;01mfor\u001b[39;00m sample \u001b[38;5;129;01min\u001b[39;00m X_test:\n\u001b[1;32m---> 16\u001b[0m     y, _  \u001b[38;5;241m=\u001b[39m \u001b[43mKNN\u001b[49m\u001b[43m(\u001b[49m\u001b[43msample\u001b[49m\u001b[43m,\u001b[49m\u001b[43m \u001b[49m\u001b[43mX_train\u001b[49m\u001b[43m,\u001b[49m\u001b[43m \u001b[49m\u001b[43my_train\u001b[49m\u001b[43m,\u001b[49m\u001b[43m \u001b[49m\u001b[43mk\u001b[49m\u001b[43m)\u001b[49m \n\u001b[0;32m     17\u001b[0m     y_pred\u001b[38;5;241m.\u001b[39mappend(y)\n\u001b[0;32m     18\u001b[0m y_pred \u001b[38;5;241m=\u001b[39m np\u001b[38;5;241m.\u001b[39marray(y_pred)  \u001b[38;5;66;03m# Convert list to NumPy array\u001b[39;00m\n",
      "Cell \u001b[1;32mIn[22], line 16\u001b[0m, in \u001b[0;36mKNN\u001b[1;34m(new_point, data, labels, k)\u001b[0m\n\u001b[0;32m     14\u001b[0m \u001b[38;5;66;03m# 1. Calculate Euclidean distance with each point of the dataset\u001b[39;00m\n\u001b[0;32m     15\u001b[0m \u001b[38;5;28;01mfor\u001b[39;00m i \u001b[38;5;129;01min\u001b[39;00m \u001b[38;5;28mrange\u001b[39m(data\u001b[38;5;241m.\u001b[39mshape[\u001b[38;5;241m0\u001b[39m]):  \u001b[38;5;66;03m# Iterate through dataset samples\u001b[39;00m\n\u001b[1;32m---> 16\u001b[0m     distances\u001b[38;5;241m.\u001b[39mappend((\u001b[43meuclidean_distance\u001b[49m\u001b[43m(\u001b[49m\u001b[43mdata\u001b[49m\u001b[43m[\u001b[49m\u001b[43mi\u001b[49m\u001b[43m]\u001b[49m\u001b[43m,\u001b[49m\u001b[43m \u001b[49m\u001b[43mnew_point\u001b[49m\u001b[43m)\u001b[49m, labels[i]))\n\u001b[0;32m     18\u001b[0m \u001b[38;5;66;03m# 2. Sort by distance\u001b[39;00m\n\u001b[0;32m     19\u001b[0m distances\u001b[38;5;241m.\u001b[39msort(key\u001b[38;5;241m=\u001b[39m\u001b[38;5;28;01mlambda\u001b[39;00m pair: pair[\u001b[38;5;241m0\u001b[39m])\n",
      "Cell \u001b[1;32mIn[21], line 8\u001b[0m, in \u001b[0;36meuclidean_distance\u001b[1;34m(point1, point2)\u001b[0m\n\u001b[0;32m      5\u001b[0m \u001b[38;5;28;01mif\u001b[39;00m point1\u001b[38;5;241m.\u001b[39mshape \u001b[38;5;241m!=\u001b[39m point2\u001b[38;5;241m.\u001b[39mshape :\n\u001b[0;32m      6\u001b[0m     \u001b[38;5;28;01mraise\u001b[39;00m \u001b[38;5;167;01mValueError\u001b[39;00m(\u001b[38;5;124m\"\u001b[39m\u001b[38;5;124mBoth points must have same dimentions\u001b[39m\u001b[38;5;124m\"\u001b[39m)\n\u001b[1;32m----> 8\u001b[0m distance \u001b[38;5;241m=\u001b[39m  np\u001b[38;5;241m.\u001b[39msqrt(\u001b[43mnp\u001b[49m\u001b[38;5;241;43m.\u001b[39;49m\u001b[43msum\u001b[49m\u001b[43m(\u001b[49m\u001b[43m(\u001b[49m\u001b[43mpoint1\u001b[49m\u001b[43m \u001b[49m\u001b[38;5;241;43m-\u001b[39;49m\u001b[43m \u001b[49m\u001b[43mpoint2\u001b[49m\u001b[43m)\u001b[49m\u001b[38;5;241;43m*\u001b[39;49m\u001b[38;5;241;43m*\u001b[39;49m\u001b[38;5;241;43m2\u001b[39;49m\u001b[43m)\u001b[49m)\n\u001b[0;32m      9\u001b[0m \u001b[38;5;28;01mreturn\u001b[39;00m distance\n",
      "File \u001b[1;32m<__array_function__ internals>:180\u001b[0m, in \u001b[0;36msum\u001b[1;34m(*args, **kwargs)\u001b[0m\n",
      "File \u001b[1;32mc:\\Users\\jn_fe\\anaconda3\\lib\\site-packages\\numpy\\core\\fromnumeric.py:2285\u001b[0m, in \u001b[0;36msum\u001b[1;34m(a, axis, dtype, out, keepdims, initial, where)\u001b[0m\n\u001b[0;32m   2162\u001b[0m \u001b[38;5;129m@array_function_dispatch\u001b[39m(_sum_dispatcher)\n\u001b[0;32m   2163\u001b[0m \u001b[38;5;28;01mdef\u001b[39;00m \u001b[38;5;21msum\u001b[39m(a, axis\u001b[38;5;241m=\u001b[39m\u001b[38;5;28;01mNone\u001b[39;00m, dtype\u001b[38;5;241m=\u001b[39m\u001b[38;5;28;01mNone\u001b[39;00m, out\u001b[38;5;241m=\u001b[39m\u001b[38;5;28;01mNone\u001b[39;00m, keepdims\u001b[38;5;241m=\u001b[39mnp\u001b[38;5;241m.\u001b[39m_NoValue,\n\u001b[0;32m   2164\u001b[0m         initial\u001b[38;5;241m=\u001b[39mnp\u001b[38;5;241m.\u001b[39m_NoValue, where\u001b[38;5;241m=\u001b[39mnp\u001b[38;5;241m.\u001b[39m_NoValue):\n\u001b[0;32m   2165\u001b[0m \u001b[38;5;250m    \u001b[39m\u001b[38;5;124;03m\"\"\"\u001b[39;00m\n\u001b[0;32m   2166\u001b[0m \u001b[38;5;124;03m    Sum of array elements over a given axis.\u001b[39;00m\n\u001b[0;32m   2167\u001b[0m \n\u001b[1;32m   (...)\u001b[0m\n\u001b[0;32m   2283\u001b[0m \u001b[38;5;124;03m    15\u001b[39;00m\n\u001b[0;32m   2284\u001b[0m \u001b[38;5;124;03m    \"\"\"\u001b[39;00m\n\u001b[1;32m-> 2285\u001b[0m     \u001b[38;5;28;01mif\u001b[39;00m \u001b[38;5;28;43misinstance\u001b[39;49m\u001b[43m(\u001b[49m\u001b[43ma\u001b[49m\u001b[43m,\u001b[49m\u001b[43m \u001b[49m\u001b[43m_gentype\u001b[49m\u001b[43m)\u001b[49m:\n\u001b[0;32m   2286\u001b[0m         \u001b[38;5;66;03m# 2018-02-25, 1.15.0\u001b[39;00m\n\u001b[0;32m   2287\u001b[0m         warnings\u001b[38;5;241m.\u001b[39mwarn(\n\u001b[0;32m   2288\u001b[0m             \u001b[38;5;124m\"\u001b[39m\u001b[38;5;124mCalling np.sum(generator) is deprecated, and in the future will give a different result. \u001b[39m\u001b[38;5;124m\"\u001b[39m\n\u001b[0;32m   2289\u001b[0m             \u001b[38;5;124m\"\u001b[39m\u001b[38;5;124mUse np.sum(np.fromiter(generator)) or the python sum builtin instead.\u001b[39m\u001b[38;5;124m\"\u001b[39m,\n\u001b[0;32m   2290\u001b[0m             \u001b[38;5;167;01mDeprecationWarning\u001b[39;00m, stacklevel\u001b[38;5;241m=\u001b[39m\u001b[38;5;241m3\u001b[39m)\n\u001b[0;32m   2292\u001b[0m         res \u001b[38;5;241m=\u001b[39m _sum_(a)\n",
      "\u001b[1;31mKeyboardInterrupt\u001b[0m: "
     ]
    }
   ],
   "source": [
    "scaler = StandardScaler()\n",
    "scaler.fit(X)\n",
    "scaled_features = scaler.transform(X)\n",
    "X_train, X_test, y_train, y_test = train_test_split(\n",
    "      scaled_features, Y, test_size = 0.30)\n",
    "\n",
    "\n",
    "\n",
    "print(\"KNN Evaluation\")\n",
    "# Evaluate KNN with diffrent K values   : \n",
    "num_classes = 10 # 10 digits from 0 to 0 to 9\n",
    "\n",
    "for k in range(3,15,4):\n",
    "    y_pred = []\n",
    "    for sample in X_test:\n",
    "        y, _  = KNN(sample, X_train, y_train, k) \n",
    "        y_pred.append(y)\n",
    "    y_pred = np.array(y_pred)  # Convert list to NumPy array\n",
    "    # compute matrics\n",
    "    print (\"\\n\\nTest with K = \",k)\n",
    "    # Compute the confusion matrix\n",
    "    cm = compute_confusion_matrix(y_true=y_test, y_pred=y_pred, num_classes=num_classes)\n",
    "    # Convert to DataFrame for better readability\n",
    "    cm_df = pd.DataFrame(cm, index=range(num_classes), columns=range(num_classes))\n",
    "    # Print formatted confusion matrix\n",
    "    print(\"\\nConfusion Matrix (Tabular Format):\")\n",
    "    print(cm_df.to_string())\n",
    "\n",
    "\n",
    "    # Calculate accuracy \n",
    "    accuracy = overall_accuracy(y_test , y_pred ) \n",
    "    precision = overall_precision(y_test, y_pred , average=\"macro\") \n",
    "    recall = overall_recall(y_test, y_pred , average='weighted')\n",
    "    Specificity = overall_Specificity(y_test, y_pred )\n",
    "    FP_rate = overall_FP_rate(y_test, y_pred )\n",
    "\n",
    "\n",
    "    \n",
    "    print(f\"Accuracy = {accuracy:.2f}, Precision = {precision:.2f}, Recall = {recall:.2f}, Specificity = {Specificity:.2f} , FP_rate={FP_rate:.2f}\")\n",
    "\n"
   ]
  },
  {
   "cell_type": "markdown",
   "metadata": {
    "id": "v9wv0lPTl0z-",
    "scrolled": false
   },
   "source": [
    "# Méthode 1: MVS\n",
    "Machine à Vecteurs de Support"
   ]
  },
  {
   "cell_type": "code",
   "execution_count": null,
   "metadata": {
    "colab": {
     "background_save": true
    },
    "id": "I87X5WBKl0z_"
   },
   "outputs": [],
   "source": [
    "scaler = StandardScaler()\n",
    "scaler.fit(X)\n",
    "scaled_features = scaler.transform(X)\n",
    "X_train, X_test, Y_train, Y_test = train_test_split(\n",
    "      scaled_features, Y, test_size = 0.30)\n",
    "\n",
    "#Créer le modèle\n",
    "model= svm.SVC(kernel='linear') \n",
    "# entrainement \n",
    "model.fit(X_train, Y_train)\n",
    "# Prediction\n",
    "y_pred = model.predict(X_test)"
   ]
  },
  {
   "cell_type": "code",
   "execution_count": null,
   "metadata": {
    "colab": {
     "background_save": true
    },
    "id": "qC8bd0uCl0z_"
   },
   "outputs": [
    {
     "name": "stdout",
     "output_type": "stream",
     "text": [
      "6\n"
     ]
    },
    {
     "data": {
      "text/plain": [
       "<matplotlib.image.AxesImage at 0x2af36b5b4d0>"
      ]
     },
     "execution_count": 27,
     "metadata": {},
     "output_type": "execute_result"
    },
    {
     "data": {
      "image/png": "[encoded data removed]",
      "text/plain": [
       "<Figure size 640x480 with 1 Axes>"
      ]
     },
     "metadata": {},
     "output_type": "display_data"
    }
   ],
   "source": [
    "# tester une image\n",
    "c= 3\n",
    "print (y_pred[c])\n",
    "a = X_train[c,:].reshape((20, 20))\n",
    "a=np.transpose(a)\n",
    "plt.title('label '+ str(Y_train[c]))\n",
    "plt.imshow(a,cmap='gray')"
   ]
  },
  {
   "cell_type": "markdown",
   "metadata": {},
   "source": [
    "##### Calling all metrics"
   ]
  },
  {
   "cell_type": "code",
   "execution_count": null,
   "metadata": {},
   "outputs": [
    {
     "name": "stdout",
     "output_type": "stream",
     "text": [
      "Accuracy = 1.00, Precision = 1.00, Recall = 1.00, FP_rate = 0.00\n",
      "[[364   0   0   0   0   0   0   0   0   0]\n",
      " [  0 358   0   0   0   0   0   0   0   0]\n",
      " [  0   0 354   0   0   0   0   0   0   0]\n",
      " [  0   0   0 360   0   0   0   0   0   0]\n",
      " [  0   0   0   0 325   0   0   0   0   0]\n",
      " [  0   0   0   0   0 343   0   0   0   0]\n",
      " [  0   0   0   0   0   0 342   0   0   0]\n",
      " [  0   0   0   0   0   0   0 349   0   0]\n",
      " [  0   0   0   0   0   0   0   0 361   0]\n",
      " [  0   0   0   0   0   0   0   0   0 344]]\n"
     ]
    }
   ],
   "source": [
    "accuracy = overall_accuracy(Y_train , y_pred) \n",
    "precision = overall_precision(Y_train, y_pred) \n",
    "recall = overall_recall(Y_train, y_pred)\n",
    "FP_rate = overall_FP_rate(Y_train, y_pred)\n",
    "print(f\"Accuracy = {accuracy:.2f}, Precision = {precision:.2f}, Recall = {recall:.2f}, FP_rate = {FP_rate:.2f}\")\n",
    "print(compute_confusion_matrix(Y_train,y_pred,10))\n",
    "\n"
   ]
  },
  {
   "cell_type": "markdown",
   "metadata": {
    "id": "kF8Vvak9l00A"
   },
   "source": [
    "# Méthode 2: Arbres de décision\n"
   ]
  },
  {
   "cell_type": "code",
   "execution_count": null,
   "metadata": {
    "colab": {
     "background_save": true
    },
    "id": "SOGXAVhGl00B"
   },
   "outputs": [],
   "source": [
    "scaler = StandardScaler()\n",
    "scaler.fit(X)\n",
    "scaled_features = scaler.transform(X)\n",
    "X_train, X_test, Y_train, Y_test = train_test_split(\n",
    "      scaled_features, Y, test_size = 0.30)\n",
    "\n",
    "# Créer le modèle\n",
    "model = DecisionTreeClassifier()\n",
    "# Entrainer le modèle\n",
    "model = model.fit(X_train, Y_train)\n",
    "# Prediction\n",
    "y_pred = model.predict(X_train)"
   ]
  },
  {
   "cell_type": "code",
   "execution_count": null,
   "metadata": {
    "colab": {
     "background_save": true
    },
    "id": "jcndAmvbl00B"
   },
   "outputs": [
    {
     "name": "stdout",
     "output_type": "stream",
     "text": [
      "5\n"
     ]
    },
    {
     "data": {
      "text/plain": [
       "<matplotlib.image.AxesImage at 0x2af36e5cd50>"
      ]
     },
     "execution_count": 30,
     "metadata": {},
     "output_type": "execute_result"
    },
    {
     "data": {
      "image/png": "[encoded data removed]",
      "text/plain": [
       "<Figure size 640x480 with 1 Axes>"
      ]
     },
     "metadata": {},
     "output_type": "display_data"
    }
   ],
   "source": [
    "# tester une image\n",
    "c= 3\n",
    "print (y_pred[c])\n",
    "a = X_train[c,:].reshape((20, 20))\n",
    "a=np.transpose(a)\n",
    "plt.title('label '+ str(Y_train[c]))\n",
    "plt.imshow(a,cmap='gray')"
   ]
  },
  {
   "cell_type": "markdown",
   "metadata": {},
   "source": [
    "#### Metrics"
   ]
  },
  {
   "cell_type": "code",
   "execution_count": null,
   "metadata": {},
   "outputs": [
    {
     "name": "stdout",
     "output_type": "stream",
     "text": [
      "Accuracy = 1.00, Precision = 1.00, Recall = 1.00, FP_rate = 0.00\n",
      "[[334   0   0   0   0   0   0   0   0   0]\n",
      " [  0 356   0   0   0   0   0   0   0   0]\n",
      " [  0   0 359   0   0   0   0   0   0   0]\n",
      " [  0   0   0 358   0   0   0   0   0   0]\n",
      " [  0   0   0   0 340   0   0   0   0   0]\n",
      " [  0   0   0   0   0 355   0   0   0   0]\n",
      " [  0   0   0   0   0   0 354   0   0   0]\n",
      " [  0   0   0   0   0   0   0 355   0   0]\n",
      " [  0   0   0   0   0   0   0   0 337   0]\n",
      " [  0   0   0   0   0   0   0   0   0 352]]\n"
     ]
    }
   ],
   "source": [
    "accuracy = overall_accuracy(Y_train , y_pred) \n",
    "precision = overall_precision(Y_train, y_pred) \n",
    "recall = overall_recall(Y_train, y_pred)\n",
    "FP_rate = overall_FP_rate(Y_train, y_pred)\n",
    "print(f\"Accuracy = {accuracy:.2f}, Precision = {precision:.2f}, Recall = {recall:.2f}, FP_rate = {FP_rate:.2f}\")\n",
    "print(compute_confusion_matrix(Y_train,y_pred,10))\n",
    "\n"
   ]
  },
  {
   "cell_type": "markdown",
   "metadata": {
    "id": "4rZNPN91l00C"
   },
   "source": [
    "# Méthode 3: RN \n",
    "Réseaux de neurones Perceptron"
   ]
  },
  {
   "cell_type": "code",
   "execution_count": null,
   "metadata": {
    "colab": {
     "background_save": true
    },
    "id": "ZqseGqptl00E"
   },
   "outputs": [
    {
     "data": {
      "text/html": [
       "<style>#sk-container-id-1 {color: black;}#sk-container-id-1 pre{padding: 0;}#sk-container-id-1 div.sk-toggleable {background-color: white;}#sk-container-id-1 label.sk-toggleable__label {cursor: pointer;display: block;width: 100%;margin-bottom: 0;padding: 0.3em;box-sizing: border-box;text-align: center;}#sk-container-id-1 label.sk-toggleable__label-arrow:before {content: \"▸\";float: left;margin-right: 0.25em;color: #696969;}#sk-container-id-1 label.sk-toggleable__label-arrow:hover:before {color: black;}#sk-container-id-1 div.sk-estimator:hover label.sk-toggleable__label-arrow:before {color: black;}#sk-container-id-1 div.sk-toggleable__content {max-height: 0;max-width: 0;overflow: hidden;text-align: left;background-color: #f0f8ff;}#sk-container-id-1 div.sk-toggleable__content pre {margin: 0.2em;color: black;border-radius: 0.25em;background-color: #f0f8ff;}#sk-container-id-1 input.sk-toggleable__control:checked~div.sk-toggleable__content {max-height: 200px;max-width: 100%;overflow: auto;}#sk-container-id-1 input.sk-toggleable__control:checked~label.sk-toggleable__label-arrow:before {content: \"▾\";}#sk-container-id-1 div.sk-estimator input.sk-toggleable__control:checked~label.sk-toggleable__label {background-color: #d4ebff;}#sk-container-id-1 div.sk-label input.sk-toggleable__control:checked~label.sk-toggleable__label {background-color: #d4ebff;}#sk-container-id-1 input.sk-hidden--visually {border: 0;clip: rect(1px 1px 1px 1px);clip: rect(1px, 1px, 1px, 1px);height: 1px;margin: -1px;overflow: hidden;padding: 0;position: absolute;width: 1px;}#sk-container-id-1 div.sk-estimator {font-family: monospace;background-color: #f0f8ff;border: 1px dotted black;border-radius: 0.25em;box-sizing: border-box;margin-bottom: 0.5em;}#sk-container-id-1 div.sk-estimator:hover {background-color: #d4ebff;}#sk-container-id-1 div.sk-parallel-item::after {content: \"\";width: 100%;border-bottom: 1px solid gray;flex-grow: 1;}#sk-container-id-1 div.sk-label:hover label.sk-toggleable__label {background-color: #d4ebff;}#sk-container-id-1 div.sk-serial::before {content: \"\";position: absolute;border-left: 1px solid gray;box-sizing: border-box;top: 0;bottom: 0;left: 50%;z-index: 0;}#sk-container-id-1 div.sk-serial {display: flex;flex-direction: column;align-items: center;background-color: white;padding-right: 0.2em;padding-left: 0.2em;position: relative;}#sk-container-id-1 div.sk-item {position: relative;z-index: 1;}#sk-container-id-1 div.sk-parallel {display: flex;align-items: stretch;justify-content: center;background-color: white;position: relative;}#sk-container-id-1 div.sk-item::before, #sk-container-id-1 div.sk-parallel-item::before {content: \"\";position: absolute;border-left: 1px solid gray;box-sizing: border-box;top: 0;bottom: 0;left: 50%;z-index: -1;}#sk-container-id-1 div.sk-parallel-item {display: flex;flex-direction: column;z-index: 1;position: relative;background-color: white;}#sk-container-id-1 div.sk-parallel-item:first-child::after {align-self: flex-end;width: 50%;}#sk-container-id-1 div.sk-parallel-item:last-child::after {align-self: flex-start;width: 50%;}#sk-container-id-1 div.sk-parallel-item:only-child::after {width: 0;}#sk-container-id-1 div.sk-dashed-wrapped {border: 1px dashed gray;margin: 0 0.4em 0.5em 0.4em;box-sizing: border-box;padding-bottom: 0.4em;background-color: white;}#sk-container-id-1 div.sk-label label {font-family: monospace;font-weight: bold;display: inline-block;line-height: 1.2em;}#sk-container-id-1 div.sk-label-container {text-align: center;}#sk-container-id-1 div.sk-container {/* jupyter's `normalize.less` sets `[hidden] { display: none; }` but bootstrap.min.css set `[hidden] { display: none !important; }` so we also need the `!important` here to be able to override the default hidden behavior on the sphinx rendered scikit-learn.org. See: https://github.com/scikit-learn/scikit-learn/issues/21755 */display: inline-block !important;position: relative;}#sk-container-id-1 div.sk-text-repr-fallback {display: none;}</style><div id=\"sk-container-id-1\" class=\"sk-top-container\"><div class=\"sk-text-repr-fallback\"><pre>MLPClassifier(alpha=1e-05, hidden_layer_sizes=25, max_iter=100000, solver=&#x27;sgd&#x27;)</pre><b>In a Jupyter environment, please rerun this cell to show the HTML representation or trust the notebook. <br />On GitHub, the HTML representation is unable to render, please try loading this page with nbviewer.org.</b></div><div class=\"sk-container\" hidden><div class=\"sk-item\"><div class=\"sk-estimator sk-toggleable\"><input class=\"sk-toggleable__control sk-hidden--visually\" id=\"sk-estimator-id-1\" type=\"checkbox\" checked><label for=\"sk-estimator-id-1\" class=\"sk-toggleable__label sk-toggleable__label-arrow\">MLPClassifier</label><div class=\"sk-toggleable__content\"><pre>MLPClassifier(alpha=1e-05, hidden_layer_sizes=25, max_iter=100000, solver=&#x27;sgd&#x27;)</pre></div></div></div></div></div>"
      ],
      "text/plain": [
       "MLPClassifier(alpha=1e-05, hidden_layer_sizes=25, max_iter=100000, solver='sgd')"
      ]
     },
     "execution_count": 32,
     "metadata": {},
     "output_type": "execute_result"
    }
   ],
   "source": [
    "scaler = StandardScaler()\n",
    "scaler.fit(X)\n",
    "scaled_features = scaler.transform(X)\n",
    "X_train, X_test, Y_train, Y_test = train_test_split(\n",
    "      scaled_features, Y, test_size = 0.30)\n",
    "\n",
    "model = MLPClassifier(solver='sgd', alpha=1e-5, hidden_layer_sizes=(25),max_iter=100000)\n",
    "X_train, X_train, Y_train, Y_train = train_test_split(X, Y, random_state=0, test_size=0.7)\n",
    "model.fit(X_train, Y_train)"
   ]
  },
  {
   "cell_type": "code",
   "execution_count": null,
   "metadata": {
    "colab": {
     "background_save": true
    },
    "id": "4M7gZVVWl00F"
   },
   "outputs": [],
   "source": [
    "# Choisir un image de test \n",
    "c=0"
   ]
  },
  {
   "cell_type": "code",
   "execution_count": null,
   "metadata": {
    "colab": {
     "background_save": true
    },
    "id": "Xy0Rda31l00F",
    "scrolled": true
   },
   "outputs": [
    {
     "data": {
      "text/plain": [
       "array([2])"
      ]
     },
     "execution_count": 34,
     "metadata": {},
     "output_type": "execute_result"
    }
   ],
   "source": [
    "model.predict([X_train[c,:]])"
   ]
  },
  {
   "cell_type": "code",
   "execution_count": null,
   "metadata": {
    "colab": {
     "background_save": true
    },
    "id": "QN122JmZl00G"
   },
   "outputs": [
    {
     "data": {
      "text/plain": [
       "array([[0.09113031, 0.11078661, 0.09737893, 0.08916916, 0.10551747,\n",
       "        0.1007646 , 0.09789425, 0.09931144, 0.10847968, 0.09956756]])"
      ]
     },
     "execution_count": 35,
     "metadata": {},
     "output_type": "execute_result"
    }
   ],
   "source": [
    "# pour ROC, il faudra les probabilités:\n",
    "model.predict_proba([X_train[c,:]])"
   ]
  },
  {
   "cell_type": "markdown",
   "metadata": {
    "id": "5bnMb0U1l00H"
   },
   "source": [
    "Afficher l'image testée"
   ]
  },
  {
   "cell_type": "code",
   "execution_count": null,
   "metadata": {
    "colab": {
     "background_save": true
    },
    "id": "wX7-5roHl00H"
   },
   "outputs": [
    {
     "data": {
      "text/plain": [
       "<matplotlib.image.AxesImage at 0x2af367eed90>"
      ]
     },
     "execution_count": 36,
     "metadata": {},
     "output_type": "execute_result"
    },
    {
     "data": {
      "image/png": "[encoded data removed]",
      "text/plain": [
       "<Figure size 640x480 with 1 Axes>"
      ]
     },
     "metadata": {},
     "output_type": "display_data"
    }
   ],
   "source": [
    "a = X_train[c,:].reshape((20, 20))\n",
    "a=np.transpose(a)\n",
    "plt.title('label '+ str(Y_train[c]))\n",
    "plt.imshow(a,cmap='gray')"
   ]
  },
  {
   "cell_type": "markdown",
   "metadata": {},
   "source": [
    "##### Metrics"
   ]
  },
  {
   "cell_type": "code",
   "execution_count": null,
   "metadata": {},
   "outputs": [
    {
     "name": "stdout",
     "output_type": "stream",
     "text": [
      "Accuracy = 0.10, Precision = 0.10, Recall = 0.10, FP_rate = 0.10\n",
      "[[32 34 40 35 33 36 37 36 32 36]\n",
      " [30 42 35 38 45 28 41 35 32 28]\n",
      " [33 34 34 34 43 33 35 32 40 40]\n",
      " [30 36 35 32 31 35 37 30 38 34]\n",
      " [39 35 31 34 41 35 31 44 29 32]\n",
      " [35 39 33 43 31 36 32 23 35 36]\n",
      " [38 27 34 41 37 40 29 42 23 39]\n",
      " [21 42 37 35 28 42 47 31 35 32]\n",
      " [39 30 44 29 25 39 24 44 37 40]\n",
      " [37 37 36 37 26 31 41 38 36 35]]\n"
     ]
    }
   ],
   "source": [
    "accuracy = overall_accuracy(Y_train , y_pred) \n",
    "precision = overall_precision(Y_train, y_pred) \n",
    "recall = overall_recall(Y_train, y_pred)\n",
    "FP_rate = overall_FP_rate(Y_train, y_pred)\n",
    "print(f\"Accuracy = {accuracy:.2f}, Precision = {precision:.2f}, Recall = {recall:.2f}, FP_rate = {FP_rate:.2f}\")\n",
    "print(compute_confusion_matrix(Y_train,y_pred,10))\n"
   ]
  },
  {
   "cell_type": "code",
   "execution_count": null,
   "metadata": {},
   "outputs": [
    {
     "name": "stdout",
     "output_type": "stream",
     "text": [
      "Plotting ROC curve for class 9\n",
      "\n"
     ]
    },
    {
     "data": {
      "image/png": "[encoded data removed]",
      "text/plain": [
       "<Figure size 800x600 with 1 Axes>"
      ]
     },
     "metadata": {},
     "output_type": "display_data"
    }
   ],
   "source": [
    "# plotting the roc curve for class c\n",
    "import random\n",
    "\n",
    "# Prédire les probabilités des classes\n",
    "y_pred_proba = model.predict_proba(X_test)  \n",
    "# Choisir une classe comme positive \n",
    "positive_label = random.randint(1,10) \n",
    "#  Extraire les probabilités de la classe positive\n",
    "y_prob = y_pred_proba[:, positive_label]\n",
    "\n",
    "print(f'Plotting ROC curve for class {c}\\n')\n",
    "fpr_list, tpr_list = roc_curve(Y_test,y_prob,positive_label)\n",
    "plot_roc_curve(fpr_list, tpr_list,positive_label)"
   ]
  },
  {
   "cell_type": "markdown",
   "metadata": {
    "id": "lXTjUzQal00J"
   },
   "source": [
    "# Méthode 4: RNC\n",
    "Réseaux de Neurones Convolutifs"
   ]
  },
  {
   "cell_type": "markdown",
   "metadata": {
    "id": "_txSaLVpl00L"
   },
   "source": [
    "# Appliquer les métriques implementées pour voir le résultat"
   ]
  },
  {
   "cell_type": "code",
   "execution_count": null,
   "metadata": {
    "colab": {
     "background_save": true
    },
    "id": "nkZxFuQKl00M"
   },
   "outputs": [],
   "source": []
  }
 ],
 "metadata": {
  "colab": {
   "collapsed_sections": [],
   "name": "TP 1 Mesures de performance.ipynb",
   "provenance": []
  },
  "kernelspec": {
   "display_name": "base",
   "language": "python",
   "name": "python3"
  },
  "language_info": {
   "codemirror_mode": {
    "name": "ipython",
    "version": 3
   },
   "file_extension": ".py",
   "mimetype": "text/x-python",
   "name": "python",
   "nbconvert_exporter": "python",
   "pygments_lexer": "ipython3",
   "version": "3.10.9"
  }
 },
 "nbformat": 4,
 "nbformat_minor": 1
}
