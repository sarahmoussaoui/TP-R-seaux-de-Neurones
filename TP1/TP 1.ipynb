{
 "cells": [
  {
   "cell_type": "markdown",
   "metadata": {
    "id": "23HhZ0TZl0zP"
   },
   "source": [
    "# TP 1 Mesures de performance\n",
    "Dans ce TP, nous aimerions avoir un premier aperçu sur les algorithmes d'apprentissage automatique. Plus précisément, nous aimerions évaluer leurs performances en utilisant les métriques suivantes:\n",
    "- Matrice de conusion\n",
    "- Rappel\n",
    "- Précision\n",
    "- Taux de FP\n",
    "- Spécificité\n",
    "- Courbe ROC\n",
    "\n",
    "Les mesures devront être calculées sur la tâche de classification de nombres manuscrits.\n",
    "\n",
    "Le travail consiste à implementer ces métriques et à les comparer avec les métriques des librairies disponibles.\n",
    "\n",
    "Les algorithmes : K plus Proches Voisins devront être implementés."
   ]
  },
  {
   "cell_type": "markdown",
   "metadata": {
    "id": "RnUKQQfjl0ze"
   },
   "source": [
    "# Importation des librairies necessaires au travail"
   ]
  },
  {
   "cell_type": "code",
   "execution_count": 80,
   "metadata": {
    "executionInfo": {
     "elapsed": 1671,
     "status": "ok",
     "timestamp": 1646692651996,
     "user": {
      "displayName": "Mounir Dekali",
      "photoUrl": "https://lh3.googleusercontent.com/a-/AOh14Gg8ysiB3LFZobpTpBaxvF4VcyOV4pcw95wF6Mdyhw=s64",
      "userId": "18151484264085085052"
     },
     "user_tz": -60
    },
    "id": "YDZVV6GVl0zg"
   },
   "outputs": [],
   "source": [
    "import numpy as np\n",
    "import csv\n",
    "import pandas as pd\n",
    "import matplotlib.pyplot as plt\n",
    "from numpy import random\n",
    "from sklearn.neural_network import MLPClassifier\n",
    "from sklearn.model_selection import train_test_split\n",
    "from sklearn import svm\n",
    "from sklearn.tree import DecisionTreeClassifier\n",
    "from sklearn.neighbors import KNeighborsClassifier\n",
    "from sklearn.metrics import classification_report, confusion_matrix\n",
    "from sklearn.preprocessing import StandardScaler\n",
    "from sklearn.metrics import accuracy_score, precision_score, recall_score, f1_score\n"
   ]
  },
  {
   "cell_type": "code",
   "execution_count": 81,
   "metadata": {
    "executionInfo": {
     "elapsed": 2710,
     "status": "ok",
     "timestamp": 1646692656130,
     "user": {
      "displayName": "Mounir Dekali",
      "photoUrl": "https://lh3.googleusercontent.com/a-/AOh14Gg8ysiB3LFZobpTpBaxvF4VcyOV4pcw95wF6Mdyhw=s64",
      "userId": "18151484264085085052"
     },
     "user_tz": -60
    },
    "id": "Uqyb8vZ3l0zk"
   },
   "outputs": [],
   "source": [
    "# Pour RNC\n",
    "from sklearn.model_selection import KFold\n",
    "from sklearn.cluster import KMeans\n",
    "from tensorflow.keras.datasets import mnist\n",
    "from tensorflow.keras.utils import to_categorical\n",
    "from tensorflow.keras.models import Sequential\n",
    "from tensorflow.keras.layers import Conv2D\n",
    "from tensorflow.keras.layers import MaxPooling2D\n",
    "from tensorflow.keras.layers import Dense\n",
    "from tensorflow.keras.layers import Flatten\n",
    "from tensorflow.keras.layers import Input\n",
    "from tensorflow.keras.layers import Dropout\n",
    "from tensorflow.keras.optimizers import SGD"
   ]
  },
  {
   "cell_type": "markdown",
   "metadata": {
    "id": "_nT_H3aPl0zm"
   },
   "source": [
    "# Lecture des fichiers de données à classifier\n",
    "Pour ce TP, nous allons lire les données à partir d'un fichier csv."
   ]
  },
  {
   "cell_type": "markdown",
   "metadata": {
    "id": "c-UeYc9GaCzZ"
   },
   "source": []
  },
  {
   "cell_type": "code",
   "execution_count": 107,
   "metadata": {
    "colab": {
     "base_uri": "https://localhost:8080/",
     "height": 363
    },
    "executionInfo": {
     "elapsed": 7,
     "status": "error",
     "timestamp": 1646692659670,
     "user": {
      "displayName": "Mounir Dekali",
      "photoUrl": "https://lh3.googleusercontent.com/a-/AOh14Gg8ysiB3LFZobpTpBaxvF4VcyOV4pcw95wF6Mdyhw=s64",
      "userId": "18151484264085085052"
     },
     "user_tz": -60
    },
    "id": "91b0p4qbl0zn",
    "outputId": "6122521a-5308-498d-e11e-17f66e01b07d"
   },
   "outputs": [
    {
     "name": "stdout",
     "output_type": "stream",
     "text": [
      "(5000, 400)\n"
     ]
    }
   ],
   "source": [
    "# données\n",
    "X = np.genfromtxt('data.csv', delimiter=',', dtype=int) # function that reads data from a tX_train file and stores it in an array, data is loaded as integers\n",
    "print(X.shape) # numbers of rows and columns\n",
    "df = pd.read_csv(\"data.csv\",nrows=5000) # loads 5000 rows of data into a panda dataframe"
   ]
  },
  {
   "cell_type": "code",
   "execution_count": 108,
   "metadata": {
    "colab": {
     "base_uri": "https://localhost:8080/"
    },
    "executionInfo": {
     "elapsed": 263,
     "status": "ok",
     "timestamp": 1646666818665,
     "user": {
      "displayName": "Mounir Dekali",
      "photoUrl": "https://lh3.googleusercontent.com/a-/AOh14Gg8ysiB3LFZobpTpBaxvF4VcyOV4pcw95wF6Mdyhw=s64",
      "userId": "18151484264085085052"
     },
     "user_tz": -60
    },
    "id": "j6KdcfC8l0zq",
    "outputId": "61a2ca31-b8d4-447d-e6f2-25d0ce9f8175"
   },
   "outputs": [
    {
     "data": {
      "text/plain": [
       "(5000,)"
      ]
     },
     "execution_count": 108,
     "metadata": {},
     "output_type": "execute_result"
    }
   ],
   "source": [
    "# étiquettes\n",
    "Y = np.genfromtxt('labels.csv', delimiter=',', dtype=int)\n",
    "Y.shape # 5000 labels corresponding to the data.csv rows respectivily"
   ]
  },
  {
   "cell_type": "markdown",
   "metadata": {
    "id": "TY2OixHCl0zs"
   },
   "source": [
    "Afficher aléatoirement quelques données de notre base"
   ]
  },
  {
   "cell_type": "code",
   "execution_count": 84,
   "metadata": {
    "colab": {
     "base_uri": "https://localhost:8080/",
     "height": 118
    },
    "executionInfo": {
     "elapsed": 2304,
     "status": "ok",
     "timestamp": 1646666823844,
     "user": {
      "displayName": "Mounir Dekali",
      "photoUrl": "https://lh3.googleusercontent.com/a-/AOh14Gg8ysiB3LFZobpTpBaxvF4VcyOV4pcw95wF6Mdyhw=s64",
      "userId": "18151484264085085052"
     },
     "user_tz": -60
    },
    "id": "QMTnUdBql0zu",
    "outputId": "5b2dda71-20a2-4ab8-e707-a2e19c0f2fc8"
   },
   "outputs": [
    {
     "data": {
      "image/png": "[encoded data removed]",
      "text/plain": [
       "<Figure size 1500x800 with 13 Axes>"
      ]
     },
     "metadata": {},
     "output_type": "display_data"
    }
   ],
   "source": [
    "plt.figure(figsize=(15,8))\n",
    "for i in range(13): #note: each 500 lines, there is a new value\n",
    "    c = random.randint(X.shape[0]) #pick a random line from the dataset \n",
    "    a = X[c,:].reshape((20, 20)) #shape of one number in the image \n",
    "    a=np.transpose(a) # la transposé (rendre les ligne des colonne et vice versa)\n",
    "    plt.subplot(1,13,i+1)\n",
    "    plt.title('label '+ str(Y[c]))\n",
    "    plt.imshow(a,cmap='gray')"
   ]
  },
  {
   "cell_type": "markdown",
   "metadata": {
    "id": "UM03Af2dl0zv"
   },
   "source": [
    "Notons que l'étiquette 10 concerne le chiffre 0. L'étiquette a été utilisée ainsi afin de faciliter les calculs conséquents."
   ]
  },
  {
   "cell_type": "markdown",
   "metadata": {
    "id": "s80Yb_gul0zx"
   },
   "source": [
    "# Implémentation des métriques demandées\n",
    "Ici il faut écrire les fonctions, puis les appeler dans la suite du code"
   ]
  },
  {
   "cell_type": "markdown",
   "metadata": {},
   "source": [
    "- Matrice de confusion :"
   ]
  },
  {
   "cell_type": "markdown",
   "metadata": {},
   "source": [
    "##### Global Matrix for all classes\n",
    "10 X 10 matrix where : \\\n",
    "row : true class \\\n",
    "column : predicted class \\\n",
    "diagonal elements represent the correct predictions \\\n",
    "off diagnoal elements represent misclassifications"
   ]
  },
  {
   "cell_type": "code",
   "execution_count": 85,
   "metadata": {},
   "outputs": [],
   "source": [
    "def compute_confusion_matrix(y_true, y_pred, num_classes):\n",
    "    \"\"\"\n",
    "    Compute the confusion matrix from scratch.\n",
    "\n",
    "    Args:\n",
    "        y_true (array): True labels \n",
    "        y_pred (array): Predicted labels\n",
    "        num_classes (int): Number of classes.\n",
    "\n",
    "    Returns:\n",
    "        confusion_matrix (array): Confusion matrix of shape [num_classes, num_classes].\n",
    "        the 10th row of the matrix represents the class 10 (digit 0)\n",
    "    \"\"\"\n",
    "    # Initialize the confusion matrix with zeros\n",
    "    cm = np.zeros((num_classes, num_classes), dtype=int)\n",
    "    \n",
    "    # Iterate through the true and predicted labels\n",
    "    for true_label, pred_label in zip(y_true, y_pred):\n",
    "        # Adjust labels to be 0-based (0-based indexing)\n",
    "        true_label_idx = true_label - 1  # Convert 1-10 to 0-9\n",
    "        pred_label_idx = pred_label - 1  # Convert 1-10 to 0-9\n",
    "        \n",
    "        # Increment the corresponding cell in the confusion matrix\n",
    "        cm[true_label_idx, pred_label_idx] += 1\n",
    "    \n",
    "    return cm      "
   ]
  },
  {
   "cell_type": "markdown",
   "metadata": {},
   "source": [
    "##### Matrix for each class\n",
    "we will generate 10 different matrices of 2X2 \\\n",
    "True Positive (TP)  False Negative (FN) \\\n",
    "False Positive (FP) True Negative (TN) \n",
    "\n"
   ]
  },
  {
   "cell_type": "code",
   "execution_count": 86,
   "metadata": {},
   "outputs": [],
   "source": [
    "def confusion_matrix_per_class(y_true, y_pred, num_classes):\n",
    "    \"\"\"\n",
    "    Compute the confusion matrix for each class (one-vs-all).\n",
    "\n",
    "    Args:\n",
    "        y_true (array): True labels \n",
    "        y_pred (array): Predicted labels \n",
    "        num_classes (int): Number of classes.\n",
    "\n",
    "    Returns:\n",
    "        class_cm (dict): A dictionary where keys are class labels and values are 2x2 confusion matrices.\n",
    "    \"\"\"\n",
    "    class_cm = {}\n",
    "    \n",
    "    for class_label in range(1, num_classes + 1): # num_classes +1 = 11 : because in range should go from 1 to 10\n",
    "        # Create binary labels for the current class : 1 for current class , 0 for other classes\n",
    "        y_true_binary = (y_true == class_label).astype(int)  # as type converts boolean value true or false to 1 or 0\n",
    "        y_pred_binary = (y_pred == class_label).astype(int)\n",
    "        \n",
    "        # Compute the 2x2 confusion matrix for the current class\n",
    "        tp = np.sum((y_true_binary == 1) & (y_pred_binary == 1))  # True Positives\n",
    "        tn = np.sum((y_true_binary == 0) & (y_pred_binary == 0))  # True Negatives\n",
    "        fp = np.sum((y_true_binary == 0) & (y_pred_binary == 1))  # False Positives\n",
    "        fn = np.sum((y_true_binary == 1) & (y_pred_binary == 0))  # False Negatives\n",
    "        \n",
    "        # Store the confusion matrix for the current class\n",
    "        class_cm[class_label] = np.array([[tn, fp], [fn, tp]])\n",
    "     \n",
    "    return class_cm"
   ]
  },
  {
   "cell_type": "markdown",
   "metadata": {},
   "source": [
    "- Accuracy = (TP + TN)/(TP + TN + FP + FN)"
   ]
  },
  {
   "cell_type": "markdown",
   "metadata": {},
   "source": [
    "##### Overall accuracy"
   ]
  },
  {
   "cell_type": "code",
   "execution_count": 87,
   "metadata": {},
   "outputs": [],
   "source": [
    "def overall_accuracy(y_true,y_pred):\n",
    "  correct_predictions = 0 # initialise counter for correct predictions TP+TN\n",
    "  for i in range(len(y_true)):\n",
    "    if(y_true[i]== y_pred[i]):\n",
    "      correct_predictions +=1\n",
    "  \n",
    "  overall_accuracy = correct_predictions / len(y_true) # len(y_true) = TP + TN + FP + FN\n",
    "\n",
    "  return(overall_accuracy)"
   ]
  },
  {
   "cell_type": "markdown",
   "metadata": {},
   "source": [
    "##### accuracy for each class"
   ]
  },
  {
   "cell_type": "code",
   "execution_count": 88,
   "metadata": {},
   "outputs": [],
   "source": [
    "def accuracy_per_class(y_true, y_pred, num_classes):\n",
    "    \"\"\"\n",
    "    Compute accuracy for each class.\n",
    "\n",
    "    Args:\n",
    "        y_true (array): True labels \n",
    "        y_pred (array): Predicted labels \n",
    "        num_classes (int): Number of classes.\n",
    "\n",
    "    Returns:\n",
    "        class_accuracy (dict): A dictionary where keys are class labels and values are accuracies.\n",
    "    \"\"\"\n",
    "    class_accuracy = {}\n",
    "    \n",
    "    for class_label in range(1, num_classes + 1):  # Classes are labeled from 1 to num_classes\n",
    "        # Indices of samples that belong to the current class\n",
    "        class_indices = (y_true == class_label) # boolean values 0 or 1 for rows of y_true corresponding to the class\n",
    "        \n",
    "        # Number of samples for the current class\n",
    "        total_samples = np.sum(class_indices) # sum of boolean values is going to be number of rows of the class\n",
    "        \n",
    "        if total_samples == 0:\n",
    "            # If there are no samples for this class, set accuracy to 0 or handle it as needed\n",
    "            class_accuracy[class_label] = 0. # float\n",
    "            continue\n",
    "        \n",
    "        # Number of correct predictions for the current class\n",
    "        correct_predictions = np.sum((y_true == class_label) & (y_pred == class_label))\n",
    "        \n",
    "        # Accuracy for the current class\n",
    "        accuracy = correct_predictions / total_samples\n",
    "        class_accuracy[class_label] = accuracy\n",
    "    \n",
    "    return class_accuracy"
   ]
  },
  {
   "cell_type": "markdown",
   "metadata": {
    "id": "-mRS4onu-52j"
   },
   "source": [
    "- Recall (True Positive Rate) = TP/(TP + FN)"
   ]
  },
  {
   "cell_type": "markdown",
   "metadata": {},
   "source": [
    "##### Recall for each class"
   ]
  },
  {
   "cell_type": "code",
   "execution_count": 89,
   "metadata": {
    "colab": {
     "background_save": true
    },
    "id": "ReRWcXEYgeQe"
   },
   "outputs": [],
   "source": [
    "def recall_per_class(y_true, y_pred, num_classes):\n",
    "    \"\"\"\n",
    "    Compute recall for each class.\n",
    "\n",
    "    Args:\n",
    "        y_true (array): True labels \n",
    "        y_pred (array): Predicted labels \n",
    "        num_classes (int): Number of classes.\n",
    "\n",
    "    Returns:\n",
    "        class_recall (dict): A dictionary where keys are class labels and values are recall values.\n",
    "    \"\"\"\n",
    "    class_recall = {}\n",
    "    \n",
    "    for class_label in range(1, num_classes + 1):  # Classes are labeled from 1 to num_classes\n",
    "        # True Positives (TP): Correctly predicted as the current class\n",
    "        tp = np.sum((y_true == class_label) & (y_pred == class_label))\n",
    "        \n",
    "        # False Negatives (FN): Belong to the current class but predicted as another class\n",
    "        fn = np.sum((y_true == class_label) & (y_pred != class_label))\n",
    "        \n",
    "        # Avoid division by zero\n",
    "        if (tp + fn) == 0:\n",
    "            recall = 0.0  # If there are no samples for this class, set recall to 0\n",
    "        else:\n",
    "            # Compute recall\n",
    "            recall = tp / (tp + fn)\n",
    "        \n",
    "        # Store the recall for the current class\n",
    "        class_recall[class_label] = recall\n",
    "    \n",
    "    return class_recall"
   ]
  },
  {
   "cell_type": "markdown",
   "metadata": {},
   "source": [
    "##### Overall Recall "
   ]
  },
  {
   "cell_type": "code",
   "execution_count": 90,
   "metadata": {},
   "outputs": [],
   "source": [
    "def overall_recall(y_true, y_pred, num_classes):\n",
    "    \"\"\"\n",
    "    Compute overall recall.\n",
    "\n",
    "    Args:\n",
    "        y_true (array): True labels \n",
    "        y_pred (array): Predicted labels \n",
    "        num_classes (int): Number of classes.\n",
    "\n",
    "    Returns:\n",
    "        overall_recall (float): Overall recall.\n",
    "    \"\"\"\n",
    "    # Initialize variables to store total TP and FN\n",
    "    total_tp = 0\n",
    "    total_fn = 0\n",
    "    \n",
    "    # Iterate over each class\n",
    "    for class_label in range(1, num_classes + 1):\n",
    "        # True Positives (TP): Correctly predicted as the current class\n",
    "        tp = np.sum((y_true == class_label) & (y_pred == class_label))\n",
    "        total_tp += tp\n",
    "        \n",
    "        # False Negatives (FN): Belong to the current class but predicted as another class\n",
    "        fn = np.sum((y_true == class_label) & (y_pred != class_label))\n",
    "        total_fn += fn\n",
    "    \n",
    "    # Compute overall recall\n",
    "    if (total_tp + total_fn) == 0:\n",
    "        overall_recall = 0.0  # Avoid division by zero\n",
    "    else:\n",
    "        overall_recall = total_tp / (total_tp + total_fn)\n",
    "    \n",
    "    return overall_recall"
   ]
  },
  {
   "cell_type": "markdown",
   "metadata": {
    "id": "iy1P5tes-jM8"
   },
   "source": [
    "- Précision = TP/(TP + FP)"
   ]
  },
  {
   "cell_type": "markdown",
   "metadata": {
    "colab": {
     "background_save": true
    },
    "id": "bnHz28P0Z36s"
   },
   "source": [
    "##### Precision for each class\n"
   ]
  },
  {
   "cell_type": "code",
   "execution_count": 91,
   "metadata": {},
   "outputs": [],
   "source": [
    "def precision_per_class(y_true, y_pred, num_classes):\n",
    "    \n",
    "    class_precision = {}\n",
    "        \n",
    "    for class_label in range(1, num_classes + 1):  # Classes are labeled from 1 to num_classes\n",
    "         # True Positives (TP): Correctly predicted as the current class\n",
    "        TP = np.sum((y_true == class_label) & (y_pred == class_label))\n",
    "         # False Positives (FP): Predicted as this class but actually not this class\n",
    "        FP = np.sum((y_pred == class_label) & (y_true != class_label))\n",
    "        \n",
    "        # Avoid division by zero\n",
    "        if (TP + FP) == 0:\n",
    "            precision = 0.0  # If there are no samples for this class, set precison to 0\n",
    "        else:\n",
    "            # Compute precision\n",
    "            precision = TP / (TP + FP)\n",
    "         \n",
    "        # Store the precision for the current class\n",
    "        class_precision[class_label] = precision\n",
    "    \n",
    "    return class_precision\n",
    "    "
   ]
  },
  {
   "cell_type": "markdown",
   "metadata": {},
   "source": [
    "##### Overall Precision"
   ]
  },
  {
   "cell_type": "code",
   "execution_count": 92,
   "metadata": {},
   "outputs": [],
   "source": [
    "def overall_precision(y_true, y_pred, num_classes):\n",
    "    \n",
    "    # Initialize variables to store total TP and FP\n",
    "    total_TP = 0\n",
    "    total_FP = 0\n",
    "    \n",
    "    # Iterate over each class\n",
    "    for class_label in range(1, num_classes + 1):\n",
    "        # True Positives (TP): Correctly predicted as the current class\n",
    "        tp = np.sum((y_true == class_label) & (y_pred == class_label))\n",
    "        total_TP += tp\n",
    "        \n",
    "         # False Positives (FP): Predicted as this class but actually not this class\n",
    "        FP = np.sum((y_pred == class_label) & (y_true != class_label))\n",
    "        total_FP += FP\n",
    "    \n",
    "    # Compute overall precision\n",
    "    if (total_TP + total_FP) == 0:\n",
    "        overall_precision = 0.0  # Avoid division by zero\n",
    "    else:\n",
    "        overall_precision = total_TP / (total_TP + total_FP)\n",
    "    \n",
    "    return overall_precision"
   ]
  },
  {
   "cell_type": "markdown",
   "metadata": {
    "id": "2SUXNHkz-qd5"
   },
   "source": [
    "- Taux de FP (False Positive Rate) = FP / (FP + TN)"
   ]
  },
  {
   "cell_type": "markdown",
   "metadata": {
    "colab": {
     "background_save": true
    },
    "id": "r_o0qyv2l0z3"
   },
   "source": [
    "##### False Positive Rate for each class"
   ]
  },
  {
   "cell_type": "code",
   "execution_count": 93,
   "metadata": {},
   "outputs": [],
   "source": [
    "def FP_rate_per_class(y_true, y_pred, num_classes):\n",
    "    \n",
    "    class_FP_rate = {}\n",
    "        \n",
    "    for class_label in range(1, num_classes + 1):  # Classes are labeled from 1 to num_classes\n",
    "          # False Positives (FP): Predicted as this class but actually not this class\n",
    "        FP = np.sum((y_pred == class_label) & (y_true != class_label))\n",
    "         # True Negatives (TN)\n",
    "        TN = np.sum((y_true != class_label) & (y_pred != class_label))\n",
    "        \n",
    "        # Avoid division by zero\n",
    "        if (TN + FP) == 0:\n",
    "            FP_rate = 0.0  # If there are no samples for this class, set FP_rate to 0\n",
    "        else:\n",
    "            # Compute FP_rate\n",
    "            FP_rate = FP / (FP + TN)\n",
    "         \n",
    "        # Store the FP_rate for the current class\n",
    "        class_FP_rate[class_label] = FP_rate\n",
    "    \n",
    "    return class_FP_rate\n",
    "    "
   ]
  },
  {
   "cell_type": "markdown",
   "metadata": {},
   "source": [
    "##### Overall False Positive Rate"
   ]
  },
  {
   "cell_type": "code",
   "execution_count": 94,
   "metadata": {},
   "outputs": [],
   "source": [
    "def overall_FP_rate(y_true, y_pred, num_classes):\n",
    "    \n",
    "    # Initialize variables to store total TN and FP\n",
    "    total_TN = 0\n",
    "    total_FP = 0\n",
    "    \n",
    "    # Iterate through each class\n",
    "    for class_label in range(num_classes):  # Classes from 0 to num_classes-1\n",
    "        # False Positives (FP): Predicted as this class but actually not this class\n",
    "        FP = np.sum((y_pred == class_label) & (y_true != class_label))\n",
    "        total_FP += FP\n",
    "        \n",
    "        # True Negatives (TN): Neither of this class, nor predicted as this class\n",
    "        TN = np.sum((y_true != class_label) & (y_pred != class_label))\n",
    "        total_TN += TN\n",
    "    \n",
    "    # Compute the overall false positive rate (FPR)\n",
    "    if (total_FP + total_TN) == 0:\n",
    "        overall_FP_rate = 0.0  # Avoid division by zero\n",
    "    else:\n",
    "        overall_FP_rate = total_FP / (total_FP + total_TN)\n",
    "    \n",
    "    return overall_FP_rate\n"
   ]
  },
  {
   "cell_type": "markdown",
   "metadata": {
    "id": "7gx9qcAK-wnc"
   },
   "source": [
    "- Spécificité (True Negative Rate) = TN / (TN + FP)"
   ]
  },
  {
   "cell_type": "markdown",
   "metadata": {
    "colab": {
     "background_save": true
    },
    "id": "DEXYGvurl0z5"
   },
   "source": [
    "##### Specificity for each class"
   ]
  },
  {
   "cell_type": "code",
   "execution_count": 95,
   "metadata": {},
   "outputs": [],
   "source": [
    "def Specificity_per_class(y_true, y_pred, num_classes):\n",
    "    \n",
    "    class_Specificity = {}\n",
    "        \n",
    "    for class_label in range(1, num_classes + 1):  # Classes are labeled from 1 to num_classes\n",
    "          # False Positives (FP): Predicted as this class but actually not this class\n",
    "        FP = np.sum((y_pred == class_label) & (y_true != class_label))\n",
    "         # True Negatives (TN)\n",
    "        TN = np.sum((y_true != class_label) & (y_pred != class_label))\n",
    "        \n",
    "        # Avoid division by zero\n",
    "        if (TN + FP) == 0:\n",
    "            Specificity = 0.0  # If there are no samples for this class, set Specificity to 0\n",
    "        else:\n",
    "            # Compute Specificity\n",
    "            Specificity = TN / (FP + TN)\n",
    "         \n",
    "        # Store the Specificity for the current class\n",
    "        class_Specificity[class_label] = Specificity\n",
    "    \n",
    "    return   class_Specificity\n",
    "    "
   ]
  },
  {
   "cell_type": "markdown",
   "metadata": {},
   "source": [
    "##### Overall Specificity "
   ]
  },
  {
   "cell_type": "code",
   "execution_count": 96,
   "metadata": {},
   "outputs": [],
   "source": [
    "def overall_Specificity(y_true, y_pred, num_classes):\n",
    "    \n",
    "    # Initialize variables to store total TN and FP\n",
    "    total_TN = 0\n",
    "    total_FP = 0\n",
    "    \n",
    "    # Iterate through each class\n",
    "    for class_label in range(num_classes):  # Classes from 0 to num_classes-1\n",
    "        # False Positives (FP): Predicted as this class but actually not this class\n",
    "        FP = np.sum((y_pred == class_label) & (y_true != class_label))\n",
    "        total_FP += FP\n",
    "        \n",
    "        # True Negatives (TN): Neither of this class, nor predicted as this class\n",
    "        TN = np.sum((y_true != class_label) & (y_pred != class_label))\n",
    "        total_TN += TN\n",
    "    \n",
    "    # Compute the overall Specificity\n",
    "    if (total_FP + total_TN) == 0:\n",
    "        overall_Specificity = 0.0  # Avoid division by zero\n",
    "    else:\n",
    "        overall_Specificity = total_TN / (total_FP + total_TN)\n",
    "    \n",
    "    return overall_Specificity"
   ]
  },
  {
   "cell_type": "markdown",
   "metadata": {
    "id": "ENA_XiFMl0z5"
   },
   "source": [
    "- Courbe ROC"
   ]
  },
  {
   "cell_type": "code",
   "execution_count": 97,
   "metadata": {},
   "outputs": [],
   "source": [
    "def roc_curve(actual, predicted_probabilities, positive_label):\n",
    "    \"\"\"\n",
    "    Compute the ROC curve for a specific class.\n",
    "\n",
    "    Args:\n",
    "    actual (array-like): Ground truth labels.\n",
    "    predicted_probabilities (array-like): Predicted probabilities for the target class.\n",
    "    positive_label (int): The class considered as positive.\n",
    "\n",
    "    Returns:\n",
    "    tuple: Lists of FPR and TPR values.\n",
    "    \"\"\"\n",
    "    # Generate thresholds from the predicted probabilities\n",
    "    thresholds = sorted(set(predicted_probabilities), reverse=True)\n",
    "    \n",
    "    tpr_list = []  # True Positive Rate values\n",
    "    fpr_list = []  # False Positive Rate values\n",
    "    \n",
    "    for threshold in thresholds:\n",
    "        # Convert probabilities into binary predictions based on the threshold\n",
    "        predicted_labels = [1 if prob >= threshold else 0 for prob in predicted_probabilities]\n",
    "        \n",
    "        # Compute TPR (Recall) and FPR\n",
    "        tp = sum((actual == positive_label) & (predicted_labels == 1))\n",
    "        fn = sum((actual == positive_label) & (predicted_labels == 0))\n",
    "        fp = sum((actual != positive_label) & (predicted_labels == 1))\n",
    "        tn = sum((actual != positive_label) & (predicted_labels == 0))\n",
    "        \n",
    "        tpr = tp / (tp + fn) if (tp + fn) > 0 else 0\n",
    "        fpr = fp / (fp + tn) if (fp + tn) > 0 else 0\n",
    "        \n",
    "        # Append values to lists\n",
    "        tpr_list.append(tpr)\n",
    "        fpr_list.append(fpr)\n",
    "\n",
    "    return fpr_list, tpr_list\n"
   ]
  },
  {
   "cell_type": "markdown",
   "metadata": {},
   "source": [
    "##### affichage de la courbe "
   ]
  },
  {
   "cell_type": "code",
   "execution_count": 98,
   "metadata": {},
   "outputs": [],
   "source": [
    "def plot_roc_curve(fpr, tpr, positive_label):\n",
    "    \"\"\"\n",
    "    Plot the ROC curve using Matplotlib.\n",
    "\n",
    "    Args:\n",
    "    fpr (list): List of False Positive Rates.\n",
    "    tpr (list): List of True Positive Rates.\n",
    "    positive_label (int): The class being analyzed.\n",
    "    \"\"\"\n",
    "    plt.figure(figsize=(8, 6))\n",
    "    plt.plot(fpr, tpr, marker='o', linestyle='-', color='b', label=f'Class {positive_label}')\n",
    "    plt.plot([0, 1], [0, 1], 'k--', label='Random Classifier')  # Diagonal line for reference\n",
    "    plt.xlabel(\"False Positive Rate (FPR)\")\n",
    "    plt.ylabel(\"True Positive Rate (TPR)\")\n",
    "    plt.title(f\"ROC Curve for Class {positive_label}\")\n",
    "    plt.legend(loc=\"lower right\")\n",
    "    plt.grid()\n",
    "    plt.show()\n"
   ]
  },
  {
   "cell_type": "markdown",
   "metadata": {
    "id": "IHfn7fgbl0z6"
   },
   "source": [
    "# Classification"
   ]
  },
  {
   "cell_type": "markdown",
   "metadata": {
    "id": "PGKbOn3el0z7"
   },
   "source": [
    "Définir d'abord la base d'entrainement X_train, Y_train et la base de test X_traint, Y_traint"
   ]
  },
  {
   "cell_type": "code",
   "execution_count": 109,
   "metadata": {
    "executionInfo": {
     "elapsed": 250,
     "status": "ok",
     "timestamp": 1646667242179,
     "user": {
      "displayName": "Mounir Dekali",
      "photoUrl": "https://lh3.googleusercontent.com/a-/AOh14Gg8ysiB3LFZobpTpBaxvF4VcyOV4pcw95wF6Mdyhw=s64",
      "userId": "18151484264085085052"
     },
     "user_tz": -60
    },
    "id": "mH2tdgEPl0z7"
   },
   "outputs": [],
   "source": [
    "scaler = StandardScaler()\n",
    "scaler.fit(X)\n",
    "scaled_features = scaler.transform(X)\n",
    "X_train, X_test, Y_train, Y_test = train_test_split(\n",
    "      scaled_features, Y, test_size = 0.30)"
   ]
  },
  {
   "cell_type": "markdown",
   "metadata": {
    "id": "ZEArHIKJl0z8"
   },
   "source": [
    "# Méthode 0: K- Plus Proches Voisins"
   ]
  },
  {
   "cell_type": "markdown",
   "metadata": {
    "id": "Uh7xVfJUl0z9"
   },
   "source": [
    "Ici il faudra implémenter la méthode, puis la tester et vérifier les métriques en variant le nombre K"
   ]
  },
  {
   "cell_type": "markdown",
   "metadata": {},
   "source": [
    "### implementer la fonction qui calcule la distance Euclidienne"
   ]
  },
  {
   "cell_type": "code",
   "execution_count": null,
   "metadata": {
    "id": "1lKZnt7zl0z9"
   },
   "outputs": [
    {
     "name": "stdout",
     "output_type": "stream",
     "text": [
      "9.486832980505138\n"
     ]
    }
   ],
   "source": [
    "def euclidean_distance(point1 : np.ndarray , point2 : np.ndarray)-> float:\n",
    "    \"\"\"\n",
    "    Calculate the euclidien distance between two points (numpy arrays)\n",
    "    \"\"\"\n",
    "    if point1.shape != point2.shape :\n",
    "        raise ValueError(\"Both points must have same dimentions\")\n",
    "    \n",
    "    distance =  np.sqrt(np.sum((point1 - point2)**2))\n",
    "    return distance\n",
    "\n",
    "#test \n",
    "a = np.array([5 , 3 ]); \n",
    "b = np.array([2 , 12 ]); \n",
    "\n",
    "print(euclidean_distance(a , b))"
   ]
  },
  {
   "cell_type": "markdown",
   "metadata": {},
   "source": [
    "### Implementer l'algorithme KNN"
   ]
  },
  {
   "cell_type": "code",
   "execution_count": 101,
   "metadata": {},
   "outputs": [],
   "source": [
    "def KNN(new_point : np.array , data : np.array , lables :np.array, k:int):\n",
    "    \"\"\"\n",
    "    This function uses the K-Nearest Neighbors (KNN) algorithme to predict the lable of new_point\n",
    "        new_point : is the data we want to classify\n",
    "        data : a numpy array containes samples of lables data (only the features)\n",
    "        lables : the lables of data\n",
    "        k: The number of nearest neighbors to consider.\n",
    "    \"\"\"\n",
    "    distances = []\n",
    "    # 1. Calculate euclidienne distance with each point of the dataset \n",
    "\n",
    "    for i in range(data.shape[0]): # Iterate throught  dataset samples\n",
    "        distances.append(( euclidean_distance(data[i] , new_point),lables[i]))\n",
    "\n",
    "    # 2. Sort by distance\n",
    "    distances.sort(key=lambda pair: pair[0])\n",
    "\n",
    "    #3. Select the first k points\n",
    "    k_nearest = [distances[i][1] for i in range(0,k)]\n",
    "\n",
    "    #4. Return the most commun lebel as a prediction for \n",
    "    pred_lable= max(set(k_nearest), key=k_nearest.count)\n",
    "    return pred_lable\n",
    "        \n"
   ]
  },
  {
   "cell_type": "markdown",
   "metadata": {},
   "source": [
    "### Tester l'algorithme KNN sur le dataset iris flowers avec diffrents valeurs de K"
   ]
  },
  {
   "cell_type": "code",
   "execution_count": 104,
   "metadata": {},
   "outputs": [
    {
     "name": "stdout",
     "output_type": "stream",
     "text": [
      "k = 2: Accuracy = 0.93, Precision = 0.94, Recall = 0.93, F1-score = 0.93\n",
      "[[11  0  0  0  0  0  0  0  0  0]\n",
      " [ 2 10  0  0  0  0  0  0  0  0]\n",
      " [ 0  0  0  0  0  0  0  0  0  0]\n",
      " [ 0  0  0  0  0  0  0  0  0  0]\n",
      " [ 0  0  0  0  0  0  0  0  0  0]\n",
      " [ 0  0  0  0  0  0  0  0  0  0]\n",
      " [ 0  0  0  0  0  0  0  0  0  0]\n",
      " [ 0  0  0  0  0  0  0  0  0  0]\n",
      " [ 0  0  0  0  0  0  0  0  0  0]\n",
      " [ 0  0  0  0  0  0  0  0  0  7]]\n",
      "\n",
      "\n",
      "\n",
      "k = 3: Accuracy = 0.97, Precision = 0.97, Recall = 0.97, F1-score = 0.97\n",
      "[[11  0  0  0  0  0  0  0  0  0]\n",
      " [ 1 11  0  0  0  0  0  0  0  0]\n",
      " [ 0  0  0  0  0  0  0  0  0  0]\n",
      " [ 0  0  0  0  0  0  0  0  0  0]\n",
      " [ 0  0  0  0  0  0  0  0  0  0]\n",
      " [ 0  0  0  0  0  0  0  0  0  0]\n",
      " [ 0  0  0  0  0  0  0  0  0  0]\n",
      " [ 0  0  0  0  0  0  0  0  0  0]\n",
      " [ 0  0  0  0  0  0  0  0  0  0]\n",
      " [ 0  0  0  0  0  0  0  0  0  7]]\n",
      "\n",
      "\n",
      "\n",
      "k = 4: Accuracy = 0.93, Precision = 0.94, Recall = 0.93, F1-score = 0.93\n",
      "[[11  0  0  0  0  0  0  0  0  0]\n",
      " [ 2 10  0  0  0  0  0  0  0  0]\n",
      " [ 0  0  0  0  0  0  0  0  0  0]\n",
      " [ 0  0  0  0  0  0  0  0  0  0]\n",
      " [ 0  0  0  0  0  0  0  0  0  0]\n",
      " [ 0  0  0  0  0  0  0  0  0  0]\n",
      " [ 0  0  0  0  0  0  0  0  0  0]\n",
      " [ 0  0  0  0  0  0  0  0  0  0]\n",
      " [ 0  0  0  0  0  0  0  0  0  0]\n",
      " [ 0  0  0  0  0  0  0  0  0  7]]\n",
      "\n",
      "\n",
      "\n",
      "k = 5: Accuracy = 0.93, Precision = 0.94, Recall = 0.93, F1-score = 0.93\n",
      "[[11  0  0  0  0  0  0  0  0  0]\n",
      " [ 2 10  0  0  0  0  0  0  0  0]\n",
      " [ 0  0  0  0  0  0  0  0  0  0]\n",
      " [ 0  0  0  0  0  0  0  0  0  0]\n",
      " [ 0  0  0  0  0  0  0  0  0  0]\n",
      " [ 0  0  0  0  0  0  0  0  0  0]\n",
      " [ 0  0  0  0  0  0  0  0  0  0]\n",
      " [ 0  0  0  0  0  0  0  0  0  0]\n",
      " [ 0  0  0  0  0  0  0  0  0  0]\n",
      " [ 0  0  0  0  0  0  0  0  0  7]]\n",
      "\n",
      "\n",
      "\n",
      "k = 6: Accuracy = 0.90, Precision = 0.92, Recall = 0.90, F1-score = 0.90\n",
      "[[11  0  0  0  0  0  0  0  0  0]\n",
      " [ 3  9  0  0  0  0  0  0  0  0]\n",
      " [ 0  0  0  0  0  0  0  0  0  0]\n",
      " [ 0  0  0  0  0  0  0  0  0  0]\n",
      " [ 0  0  0  0  0  0  0  0  0  0]\n",
      " [ 0  0  0  0  0  0  0  0  0  0]\n",
      " [ 0  0  0  0  0  0  0  0  0  0]\n",
      " [ 0  0  0  0  0  0  0  0  0  0]\n",
      " [ 0  0  0  0  0  0  0  0  0  0]\n",
      " [ 0  0  0  0  0  0  0  0  0  7]]\n",
      "\n",
      "\n",
      "\n",
      "k = 7: Accuracy = 0.90, Precision = 0.92, Recall = 0.90, F1-score = 0.90\n",
      "[[11  0  0  0  0  0  0  0  0  0]\n",
      " [ 3  9  0  0  0  0  0  0  0  0]\n",
      " [ 0  0  0  0  0  0  0  0  0  0]\n",
      " [ 0  0  0  0  0  0  0  0  0  0]\n",
      " [ 0  0  0  0  0  0  0  0  0  0]\n",
      " [ 0  0  0  0  0  0  0  0  0  0]\n",
      " [ 0  0  0  0  0  0  0  0  0  0]\n",
      " [ 0  0  0  0  0  0  0  0  0  0]\n",
      " [ 0  0  0  0  0  0  0  0  0  0]\n",
      " [ 0  0  0  0  0  0  0  0  0  7]]\n",
      "\n",
      "\n",
      "\n",
      "k = 8: Accuracy = 0.90, Precision = 0.92, Recall = 0.90, F1-score = 0.90\n",
      "[[11  0  0  0  0  0  0  0  0  0]\n",
      " [ 3  9  0  0  0  0  0  0  0  0]\n",
      " [ 0  0  0  0  0  0  0  0  0  0]\n",
      " [ 0  0  0  0  0  0  0  0  0  0]\n",
      " [ 0  0  0  0  0  0  0  0  0  0]\n",
      " [ 0  0  0  0  0  0  0  0  0  0]\n",
      " [ 0  0  0  0  0  0  0  0  0  0]\n",
      " [ 0  0  0  0  0  0  0  0  0  0]\n",
      " [ 0  0  0  0  0  0  0  0  0  0]\n",
      " [ 0  0  0  0  0  0  0  0  0  7]]\n",
      "\n",
      "\n",
      "\n",
      "k = 9: Accuracy = 0.90, Precision = 0.92, Recall = 0.90, F1-score = 0.90\n",
      "[[11  0  0  0  0  0  0  0  0  0]\n",
      " [ 3  9  0  0  0  0  0  0  0  0]\n",
      " [ 0  0  0  0  0  0  0  0  0  0]\n",
      " [ 0  0  0  0  0  0  0  0  0  0]\n",
      " [ 0  0  0  0  0  0  0  0  0  0]\n",
      " [ 0  0  0  0  0  0  0  0  0  0]\n",
      " [ 0  0  0  0  0  0  0  0  0  0]\n",
      " [ 0  0  0  0  0  0  0  0  0  0]\n",
      " [ 0  0  0  0  0  0  0  0  0  0]\n",
      " [ 0  0  0  0  0  0  0  0  0  7]]\n",
      "\n",
      "\n",
      "\n"
     ]
    }
   ],
   "source": [
    "from sklearn import datasets\n",
    "\n",
    "# Load the Iris dataset\n",
    "iris = datasets.load_iris()\n",
    "X = iris.data  # Features (sepal & petal measurements)\n",
    "y = iris.target  # Labels (0 = setosa, 1 = versicolor, 2 = virginica)\n",
    "\n",
    "# Split data to test KNN : \n",
    "X_train, X_test, y_train, y_test  = train_test_split(X,y, test_size=0.2, random_state=17)\n",
    "\n",
    "\n",
    "# Evaluate KNN with diffrent K values   : \n",
    "for k in range(2,10):\n",
    "    y_pred = [KNN(sample, X_train, y_train, k) for sample in X_test]\n",
    "    # Calculate accuracy \n",
    "    accuracy = accuracy_score(y_test , y_pred) \n",
    "    precision = precision_score(y_test, y_pred, average='weighted') \n",
    "    recall = recall_score(y_test, y_pred, average='weighted')\n",
    "    f1 = f1_score(y_test, y_pred, average='weighted')\n",
    "\n",
    "    print(f\"k = {k}: Accuracy = {accuracy:.2f}, Precision = {precision:.2f}, Recall = {recall:.2f}, F1-score = {f1:.2f}\")\n",
    "    print(compute_confusion_matrix(y_test,y_pred,10))\n",
    "    print('\\n\\n')\n"
   ]
  },
  {
   "cell_type": "markdown",
   "metadata": {
    "id": "v9wv0lPTl0z-",
    "scrolled": false
   },
   "source": [
    "# Méthode 1: MVS\n",
    "Machine à Vecteurs de Support"
   ]
  },
  {
   "cell_type": "code",
   "execution_count": 110,
   "metadata": {
    "colab": {
     "background_save": true
    },
    "id": "I87X5WBKl0z_"
   },
   "outputs": [],
   "source": [
    "#Créer le modèle\n",
    "model= svm.SVC(kernel='linear') \n",
    "# entrainement \n",
    "model.fit(X_train, Y_train)\n",
    "# Prediction\n",
    "y_pred = model.predict(X_train)"
   ]
  },
  {
   "cell_type": "code",
   "execution_count": null,
   "metadata": {
    "colab": {
     "background_save": true
    },
    "id": "qC8bd0uCl0z_"
   },
   "outputs": [
    {
     "name": "stdout",
     "output_type": "stream",
     "text": [
      "1\n"
     ]
    },
    {
     "data": {
      "text/plain": [
       "<matplotlib.image.AxesImage at 0x2cd55689220>"
      ]
     },
     "execution_count": 34,
     "metadata": {},
     "output_type": "execute_result"
    },
    {
     "data": {
      "image/png": "[encoded data removed]",
      "text/plain": [
       "<Figure size 640x480 with 1 Axes>"
      ]
     },
     "metadata": {},
     "output_type": "display_data"
    }
   ],
   "source": [
    "# tester une image\n",
    "c= 3\n",
    "print (y_pred[c])\n",
    "a = X_train[c,:].reshape((20, 20))\n",
    "a=np.transpose(a)\n",
    "plt.title('label '+ str(Y_train[c]))\n",
    "plt.imshow(a,cmap='gray')"
   ]
  },
  {
   "cell_type": "markdown",
   "metadata": {},
   "source": [
    "##### Calling all metrics"
   ]
  },
  {
   "cell_type": "code",
   "execution_count": 111,
   "metadata": {},
   "outputs": [
    {
     "name": "stdout",
     "output_type": "stream",
     "text": [
      "Accuracy = 1.00, Precision = 1.00, Recall = 1.00, FP_rate = 0.90\n",
      "[[360   0   0   0   0   0   0   0   0   0]\n",
      " [  0 338   0   0   0   0   0   0   0   0]\n",
      " [  0   0 346   0   0   0   0   0   0   0]\n",
      " [  0   0   0 364   0   0   0   0   0   0]\n",
      " [  0   0   0   0 355   0   0   0   0   0]\n",
      " [  0   0   0   0   0 352   0   0   0   0]\n",
      " [  0   0   0   0   0   0 359   0   0   0]\n",
      " [  0   0   0   0   0   0   0 339   0   0]\n",
      " [  0   0   0   0   0   0   0   0 330   0]\n",
      " [  0   0   0   0   0   0   0   0   0 357]]\n"
     ]
    }
   ],
   "source": [
    "accuracy = overall_accuracy(Y_train , y_pred) \n",
    "precision = overall_precision(Y_train, y_pred, 10) \n",
    "recall = overall_recall(Y_train, y_pred, 10)\n",
    "FP_rate = overall_FP_rate(Y_train, y_pred,10)\n",
    "print(f\"Accuracy = {accuracy:.2f}, Precision = {precision:.2f}, Recall = {recall:.2f}, FP_rate = {f1:.2f}\")\n",
    "print(compute_confusion_matrix(Y_train,y_pred,10))\n",
    "\n"
   ]
  },
  {
   "cell_type": "markdown",
   "metadata": {
    "id": "kF8Vvak9l00A"
   },
   "source": [
    "# Méthode 2: Arbres de décision\n"
   ]
  },
  {
   "cell_type": "code",
   "execution_count": 112,
   "metadata": {
    "colab": {
     "background_save": true
    },
    "id": "SOGXAVhGl00B"
   },
   "outputs": [],
   "source": [
    "# Créer le modèle\n",
    "model = DecisionTreeClassifier()\n",
    "# Entrainer le modèle\n",
    "model = model.fit(X_train, Y_train)\n",
    "# Prediction\n",
    "y_pred = model.predict(X_train)"
   ]
  },
  {
   "cell_type": "code",
   "execution_count": 114,
   "metadata": {
    "colab": {
     "background_save": true
    },
    "id": "jcndAmvbl00B"
   },
   "outputs": [
    {
     "name": "stdout",
     "output_type": "stream",
     "text": [
      "8\n"
     ]
    },
    {
     "data": {
      "text/plain": [
       "<matplotlib.image.AxesImage at 0x2cd531d5a60>"
      ]
     },
     "execution_count": 114,
     "metadata": {},
     "output_type": "execute_result"
    },
    {
     "data": {
      "image/png": "[encoded data removed]",
      "text/plain": [
       "<Figure size 640x480 with 1 Axes>"
      ]
     },
     "metadata": {},
     "output_type": "display_data"
    }
   ],
   "source": [
    "# tester une image\n",
    "c= 3\n",
    "print (y_pred[c])\n",
    "a = X_train[c,:].reshape((20, 20))\n",
    "a=np.transpose(a)\n",
    "plt.title('label '+ str(Y_train[c]))\n",
    "plt.imshow(a,cmap='gray')"
   ]
  },
  {
   "cell_type": "markdown",
   "metadata": {},
   "source": [
    "#### Metrics"
   ]
  },
  {
   "cell_type": "code",
   "execution_count": 115,
   "metadata": {},
   "outputs": [
    {
     "name": "stdout",
     "output_type": "stream",
     "text": [
      "Accuracy = 1.00, Precision = 1.00, Recall = 1.00, FP_rate = 0.90\n",
      "[[360   0   0   0   0   0   0   0   0   0]\n",
      " [  0 338   0   0   0   0   0   0   0   0]\n",
      " [  0   0 346   0   0   0   0   0   0   0]\n",
      " [  0   0   0 364   0   0   0   0   0   0]\n",
      " [  0   0   0   0 355   0   0   0   0   0]\n",
      " [  0   0   0   0   0 352   0   0   0   0]\n",
      " [  0   0   0   0   0   0 359   0   0   0]\n",
      " [  0   0   0   0   0   0   0 339   0   0]\n",
      " [  0   0   0   0   0   0   0   0 330   0]\n",
      " [  0   0   0   0   0   0   0   0   0 357]]\n"
     ]
    }
   ],
   "source": [
    "accuracy = overall_accuracy(Y_train , y_pred) \n",
    "precision = overall_precision(Y_train, y_pred, 10) \n",
    "recall = overall_recall(Y_train, y_pred, 10)\n",
    "FP_rate = overall_FP_rate(Y_train, y_pred,10)\n",
    "print(f\"Accuracy = {accuracy:.2f}, Precision = {precision:.2f}, Recall = {recall:.2f}, FP_rate = {f1:.2f}\")\n",
    "print(compute_confusion_matrix(Y_train,y_pred,10))\n",
    "\n"
   ]
  },
  {
   "cell_type": "markdown",
   "metadata": {
    "id": "4rZNPN91l00C"
   },
   "source": [
    "# Méthode 3: RN \n",
    "Réseaux de neurones Perceptron"
   ]
  },
  {
   "cell_type": "code",
   "execution_count": 116,
   "metadata": {
    "colab": {
     "background_save": true
    },
    "id": "ZqseGqptl00E"
   },
   "outputs": [
    {
     "data": {
      "text/html": [
       "<style>#sk-container-id-1 {\n",
       "  /* Definition of color scheme common for light and dark mode */\n",
       "  --sklearn-color-text: #000;\n",
       "  --sklearn-color-text-muted: #666;\n",
       "  --sklearn-color-line: gray;\n",
       "  /* Definition of color scheme for unfitted estimators */\n",
       "  --sklearn-color-unfitted-level-0: #fff5e6;\n",
       "  --sklearn-color-unfitted-level-1: #f6e4d2;\n",
       "  --sklearn-color-unfitted-level-2: #ffe0b3;\n",
       "  --sklearn-color-unfitted-level-3: chocolate;\n",
       "  /* Definition of color scheme for fitted estimators */\n",
       "  --sklearn-color-fitted-level-0: #f0f8ff;\n",
       "  --sklearn-color-fitted-level-1: #d4ebff;\n",
       "  --sklearn-color-fitted-level-2: #b3dbfd;\n",
       "  --sklearn-color-fitted-level-3: cornflowerblue;\n",
       "\n",
       "  /* Specific color for light theme */\n",
       "  --sklearn-color-text-on-default-background: var(--sg-text-color, var(--theme-code-foreground, var(--jp-content-font-color1, black)));\n",
       "  --sklearn-color-background: var(--sg-background-color, var(--theme-background, var(--jp-layout-color0, white)));\n",
       "  --sklearn-color-border-box: var(--sg-text-color, var(--theme-code-foreground, var(--jp-content-font-color1, black)));\n",
       "  --sklearn-color-icon: #696969;\n",
       "\n",
       "  @media (prefers-color-scheme: dark) {\n",
       "    /* Redefinition of color scheme for dark theme */\n",
       "    --sklearn-color-text-on-default-background: var(--sg-text-color, var(--theme-code-foreground, var(--jp-content-font-color1, white)));\n",
       "    --sklearn-color-background: var(--sg-background-color, var(--theme-background, var(--jp-layout-color0, #111)));\n",
       "    --sklearn-color-border-box: var(--sg-text-color, var(--theme-code-foreground, var(--jp-content-font-color1, white)));\n",
       "    --sklearn-color-icon: #878787;\n",
       "  }\n",
       "}\n",
       "\n",
       "#sk-container-id-1 {\n",
       "  color: var(--sklearn-color-text);\n",
       "}\n",
       "\n",
       "#sk-container-id-1 pre {\n",
       "  padding: 0;\n",
       "}\n",
       "\n",
       "#sk-container-id-1 input.sk-hidden--visually {\n",
       "  border: 0;\n",
       "  clip: rect(1px 1px 1px 1px);\n",
       "  clip: rect(1px, 1px, 1px, 1px);\n",
       "  height: 1px;\n",
       "  margin: -1px;\n",
       "  overflow: hidden;\n",
       "  padding: 0;\n",
       "  position: absolute;\n",
       "  width: 1px;\n",
       "}\n",
       "\n",
       "#sk-container-id-1 div.sk-dashed-wrapped {\n",
       "  border: 1px dashed var(--sklearn-color-line);\n",
       "  margin: 0 0.4em 0.5em 0.4em;\n",
       "  box-sizing: border-box;\n",
       "  padding-bottom: 0.4em;\n",
       "  background-color: var(--sklearn-color-background);\n",
       "}\n",
       "\n",
       "#sk-container-id-1 div.sk-container {\n",
       "  /* jupyter's `normalize.less` sets `[hidden] { display: none; }`\n",
       "     but bootstrap.min.css set `[hidden] { display: none !important; }`\n",
       "     so we also need the `!important` here to be able to override the\n",
       "     default hidden behavior on the sphinx rendered scikit-learn.org.\n",
       "     See: https://github.com/scikit-learn/scikit-learn/issues/21755 */\n",
       "  display: inline-block !important;\n",
       "  position: relative;\n",
       "}\n",
       "\n",
       "#sk-container-id-1 div.sk-text-repr-fallback {\n",
       "  display: none;\n",
       "}\n",
       "\n",
       "div.sk-parallel-item,\n",
       "div.sk-serial,\n",
       "div.sk-item {\n",
       "  /* draw centered vertical line to link estimators */\n",
       "  background-image: linear-gradient(var(--sklearn-color-text-on-default-background), var(--sklearn-color-text-on-default-background));\n",
       "  background-size: 2px 100%;\n",
       "  background-repeat: no-repeat;\n",
       "  background-position: center center;\n",
       "}\n",
       "\n",
       "/* Parallel-specific style estimator block */\n",
       "\n",
       "#sk-container-id-1 div.sk-parallel-item::after {\n",
       "  content: \"\";\n",
       "  width: 100%;\n",
       "  border-bottom: 2px solid var(--sklearn-color-text-on-default-background);\n",
       "  flex-grow: 1;\n",
       "}\n",
       "\n",
       "#sk-container-id-1 div.sk-parallel {\n",
       "  display: flex;\n",
       "  align-items: stretch;\n",
       "  justify-content: center;\n",
       "  background-color: var(--sklearn-color-background);\n",
       "  position: relative;\n",
       "}\n",
       "\n",
       "#sk-container-id-1 div.sk-parallel-item {\n",
       "  display: flex;\n",
       "  flex-direction: column;\n",
       "}\n",
       "\n",
       "#sk-container-id-1 div.sk-parallel-item:first-child::after {\n",
       "  align-self: flex-end;\n",
       "  width: 50%;\n",
       "}\n",
       "\n",
       "#sk-container-id-1 div.sk-parallel-item:last-child::after {\n",
       "  align-self: flex-start;\n",
       "  width: 50%;\n",
       "}\n",
       "\n",
       "#sk-container-id-1 div.sk-parallel-item:only-child::after {\n",
       "  width: 0;\n",
       "}\n",
       "\n",
       "/* Serial-specific style estimator block */\n",
       "\n",
       "#sk-container-id-1 div.sk-serial {\n",
       "  display: flex;\n",
       "  flex-direction: column;\n",
       "  align-items: center;\n",
       "  background-color: var(--sklearn-color-background);\n",
       "  padding-right: 1em;\n",
       "  padding-left: 1em;\n",
       "}\n",
       "\n",
       "\n",
       "/* Toggleable style: style used for estimator/Pipeline/ColumnTransformer box that is\n",
       "clickable and can be expanded/collapsed.\n",
       "- Pipeline and ColumnTransformer use this feature and define the default style\n",
       "- Estimators will overwrite some part of the style using the `sk-estimator` class\n",
       "*/\n",
       "\n",
       "/* Pipeline and ColumnTransformer style (default) */\n",
       "\n",
       "#sk-container-id-1 div.sk-toggleable {\n",
       "  /* Default theme specific background. It is overwritten whether we have a\n",
       "  specific estimator or a Pipeline/ColumnTransformer */\n",
       "  background-color: var(--sklearn-color-background);\n",
       "}\n",
       "\n",
       "/* Toggleable label */\n",
       "#sk-container-id-1 label.sk-toggleable__label {\n",
       "  cursor: pointer;\n",
       "  display: flex;\n",
       "  width: 100%;\n",
       "  margin-bottom: 0;\n",
       "  padding: 0.5em;\n",
       "  box-sizing: border-box;\n",
       "  text-align: center;\n",
       "  align-items: start;\n",
       "  justify-content: space-between;\n",
       "  gap: 0.5em;\n",
       "}\n",
       "\n",
       "#sk-container-id-1 label.sk-toggleable__label .caption {\n",
       "  font-size: 0.6rem;\n",
       "  font-weight: lighter;\n",
       "  color: var(--sklearn-color-text-muted);\n",
       "}\n",
       "\n",
       "#sk-container-id-1 label.sk-toggleable__label-arrow:before {\n",
       "  /* Arrow on the left of the label */\n",
       "  content: \"▸\";\n",
       "  float: left;\n",
       "  margin-right: 0.25em;\n",
       "  color: var(--sklearn-color-icon);\n",
       "}\n",
       "\n",
       "#sk-container-id-1 label.sk-toggleable__label-arrow:hover:before {\n",
       "  color: var(--sklearn-color-text);\n",
       "}\n",
       "\n",
       "/* Toggleable content - dropdown */\n",
       "\n",
       "#sk-container-id-1 div.sk-toggleable__content {\n",
       "  max-height: 0;\n",
       "  max-width: 0;\n",
       "  overflow: hidden;\n",
       "  text-align: left;\n",
       "  /* unfitted */\n",
       "  background-color: var(--sklearn-color-unfitted-level-0);\n",
       "}\n",
       "\n",
       "#sk-container-id-1 div.sk-toggleable__content.fitted {\n",
       "  /* fitted */\n",
       "  background-color: var(--sklearn-color-fitted-level-0);\n",
       "}\n",
       "\n",
       "#sk-container-id-1 div.sk-toggleable__content pre {\n",
       "  margin: 0.2em;\n",
       "  border-radius: 0.25em;\n",
       "  color: var(--sklearn-color-text);\n",
       "  /* unfitted */\n",
       "  background-color: var(--sklearn-color-unfitted-level-0);\n",
       "}\n",
       "\n",
       "#sk-container-id-1 div.sk-toggleable__content.fitted pre {\n",
       "  /* unfitted */\n",
       "  background-color: var(--sklearn-color-fitted-level-0);\n",
       "}\n",
       "\n",
       "#sk-container-id-1 input.sk-toggleable__control:checked~div.sk-toggleable__content {\n",
       "  /* Expand drop-down */\n",
       "  max-height: 200px;\n",
       "  max-width: 100%;\n",
       "  overflow: auto;\n",
       "}\n",
       "\n",
       "#sk-container-id-1 input.sk-toggleable__control:checked~label.sk-toggleable__label-arrow:before {\n",
       "  content: \"▾\";\n",
       "}\n",
       "\n",
       "/* Pipeline/ColumnTransformer-specific style */\n",
       "\n",
       "#sk-container-id-1 div.sk-label input.sk-toggleable__control:checked~label.sk-toggleable__label {\n",
       "  color: var(--sklearn-color-text);\n",
       "  background-color: var(--sklearn-color-unfitted-level-2);\n",
       "}\n",
       "\n",
       "#sk-container-id-1 div.sk-label.fitted input.sk-toggleable__control:checked~label.sk-toggleable__label {\n",
       "  background-color: var(--sklearn-color-fitted-level-2);\n",
       "}\n",
       "\n",
       "/* Estimator-specific style */\n",
       "\n",
       "/* Colorize estimator box */\n",
       "#sk-container-id-1 div.sk-estimator input.sk-toggleable__control:checked~label.sk-toggleable__label {\n",
       "  /* unfitted */\n",
       "  background-color: var(--sklearn-color-unfitted-level-2);\n",
       "}\n",
       "\n",
       "#sk-container-id-1 div.sk-estimator.fitted input.sk-toggleable__control:checked~label.sk-toggleable__label {\n",
       "  /* fitted */\n",
       "  background-color: var(--sklearn-color-fitted-level-2);\n",
       "}\n",
       "\n",
       "#sk-container-id-1 div.sk-label label.sk-toggleable__label,\n",
       "#sk-container-id-1 div.sk-label label {\n",
       "  /* The background is the default theme color */\n",
       "  color: var(--sklearn-color-text-on-default-background);\n",
       "}\n",
       "\n",
       "/* On hover, darken the color of the background */\n",
       "#sk-container-id-1 div.sk-label:hover label.sk-toggleable__label {\n",
       "  color: var(--sklearn-color-text);\n",
       "  background-color: var(--sklearn-color-unfitted-level-2);\n",
       "}\n",
       "\n",
       "/* Label box, darken color on hover, fitted */\n",
       "#sk-container-id-1 div.sk-label.fitted:hover label.sk-toggleable__label.fitted {\n",
       "  color: var(--sklearn-color-text);\n",
       "  background-color: var(--sklearn-color-fitted-level-2);\n",
       "}\n",
       "\n",
       "/* Estimator label */\n",
       "\n",
       "#sk-container-id-1 div.sk-label label {\n",
       "  font-family: monospace;\n",
       "  font-weight: bold;\n",
       "  display: inline-block;\n",
       "  line-height: 1.2em;\n",
       "}\n",
       "\n",
       "#sk-container-id-1 div.sk-label-container {\n",
       "  text-align: center;\n",
       "}\n",
       "\n",
       "/* Estimator-specific */\n",
       "#sk-container-id-1 div.sk-estimator {\n",
       "  font-family: monospace;\n",
       "  border: 1px dotted var(--sklearn-color-border-box);\n",
       "  border-radius: 0.25em;\n",
       "  box-sizing: border-box;\n",
       "  margin-bottom: 0.5em;\n",
       "  /* unfitted */\n",
       "  background-color: var(--sklearn-color-unfitted-level-0);\n",
       "}\n",
       "\n",
       "#sk-container-id-1 div.sk-estimator.fitted {\n",
       "  /* fitted */\n",
       "  background-color: var(--sklearn-color-fitted-level-0);\n",
       "}\n",
       "\n",
       "/* on hover */\n",
       "#sk-container-id-1 div.sk-estimator:hover {\n",
       "  /* unfitted */\n",
       "  background-color: var(--sklearn-color-unfitted-level-2);\n",
       "}\n",
       "\n",
       "#sk-container-id-1 div.sk-estimator.fitted:hover {\n",
       "  /* fitted */\n",
       "  background-color: var(--sklearn-color-fitted-level-2);\n",
       "}\n",
       "\n",
       "/* Specification for estimator info (e.g. \"i\" and \"?\") */\n",
       "\n",
       "/* Common style for \"i\" and \"?\" */\n",
       "\n",
       ".sk-estimator-doc-link,\n",
       "a:link.sk-estimator-doc-link,\n",
       "a:visited.sk-estimator-doc-link {\n",
       "  float: right;\n",
       "  font-size: smaller;\n",
       "  line-height: 1em;\n",
       "  font-family: monospace;\n",
       "  background-color: var(--sklearn-color-background);\n",
       "  border-radius: 1em;\n",
       "  height: 1em;\n",
       "  width: 1em;\n",
       "  text-decoration: none !important;\n",
       "  margin-left: 0.5em;\n",
       "  text-align: center;\n",
       "  /* unfitted */\n",
       "  border: var(--sklearn-color-unfitted-level-1) 1pt solid;\n",
       "  color: var(--sklearn-color-unfitted-level-1);\n",
       "}\n",
       "\n",
       ".sk-estimator-doc-link.fitted,\n",
       "a:link.sk-estimator-doc-link.fitted,\n",
       "a:visited.sk-estimator-doc-link.fitted {\n",
       "  /* fitted */\n",
       "  border: var(--sklearn-color-fitted-level-1) 1pt solid;\n",
       "  color: var(--sklearn-color-fitted-level-1);\n",
       "}\n",
       "\n",
       "/* On hover */\n",
       "div.sk-estimator:hover .sk-estimator-doc-link:hover,\n",
       ".sk-estimator-doc-link:hover,\n",
       "div.sk-label-container:hover .sk-estimator-doc-link:hover,\n",
       ".sk-estimator-doc-link:hover {\n",
       "  /* unfitted */\n",
       "  background-color: var(--sklearn-color-unfitted-level-3);\n",
       "  color: var(--sklearn-color-background);\n",
       "  text-decoration: none;\n",
       "}\n",
       "\n",
       "div.sk-estimator.fitted:hover .sk-estimator-doc-link.fitted:hover,\n",
       ".sk-estimator-doc-link.fitted:hover,\n",
       "div.sk-label-container:hover .sk-estimator-doc-link.fitted:hover,\n",
       ".sk-estimator-doc-link.fitted:hover {\n",
       "  /* fitted */\n",
       "  background-color: var(--sklearn-color-fitted-level-3);\n",
       "  color: var(--sklearn-color-background);\n",
       "  text-decoration: none;\n",
       "}\n",
       "\n",
       "/* Span, style for the box shown on hovering the info icon */\n",
       ".sk-estimator-doc-link span {\n",
       "  display: none;\n",
       "  z-index: 9999;\n",
       "  position: relative;\n",
       "  font-weight: normal;\n",
       "  right: .2ex;\n",
       "  padding: .5ex;\n",
       "  margin: .5ex;\n",
       "  width: min-content;\n",
       "  min-width: 20ex;\n",
       "  max-width: 50ex;\n",
       "  color: var(--sklearn-color-text);\n",
       "  box-shadow: 2pt 2pt 4pt #999;\n",
       "  /* unfitted */\n",
       "  background: var(--sklearn-color-unfitted-level-0);\n",
       "  border: .5pt solid var(--sklearn-color-unfitted-level-3);\n",
       "}\n",
       "\n",
       ".sk-estimator-doc-link.fitted span {\n",
       "  /* fitted */\n",
       "  background: var(--sklearn-color-fitted-level-0);\n",
       "  border: var(--sklearn-color-fitted-level-3);\n",
       "}\n",
       "\n",
       ".sk-estimator-doc-link:hover span {\n",
       "  display: block;\n",
       "}\n",
       "\n",
       "/* \"?\"-specific style due to the `<a>` HTML tag */\n",
       "\n",
       "#sk-container-id-1 a.estimator_doc_link {\n",
       "  float: right;\n",
       "  font-size: 1rem;\n",
       "  line-height: 1em;\n",
       "  font-family: monospace;\n",
       "  background-color: var(--sklearn-color-background);\n",
       "  border-radius: 1rem;\n",
       "  height: 1rem;\n",
       "  width: 1rem;\n",
       "  text-decoration: none;\n",
       "  /* unfitted */\n",
       "  color: var(--sklearn-color-unfitted-level-1);\n",
       "  border: var(--sklearn-color-unfitted-level-1) 1pt solid;\n",
       "}\n",
       "\n",
       "#sk-container-id-1 a.estimator_doc_link.fitted {\n",
       "  /* fitted */\n",
       "  border: var(--sklearn-color-fitted-level-1) 1pt solid;\n",
       "  color: var(--sklearn-color-fitted-level-1);\n",
       "}\n",
       "\n",
       "/* On hover */\n",
       "#sk-container-id-1 a.estimator_doc_link:hover {\n",
       "  /* unfitted */\n",
       "  background-color: var(--sklearn-color-unfitted-level-3);\n",
       "  color: var(--sklearn-color-background);\n",
       "  text-decoration: none;\n",
       "}\n",
       "\n",
       "#sk-container-id-1 a.estimator_doc_link.fitted:hover {\n",
       "  /* fitted */\n",
       "  background-color: var(--sklearn-color-fitted-level-3);\n",
       "}\n",
       "</style><div id=\"sk-container-id-1\" class=\"sk-top-container\"><div class=\"sk-text-repr-fallback\"><pre>MLPClassifier(alpha=1e-05, hidden_layer_sizes=25, max_iter=100000, solver=&#x27;sgd&#x27;)</pre><b>In a Jupyter environment, please rerun this cell to show the HTML representation or trust the notebook. <br />On GitHub, the HTML representation is unable to render, please try loading this page with nbviewer.org.</b></div><div class=\"sk-container\" hidden><div class=\"sk-item\"><div class=\"sk-estimator fitted sk-toggleable\"><input class=\"sk-toggleable__control sk-hidden--visually\" id=\"sk-estimator-id-1\" type=\"checkbox\" checked><label for=\"sk-estimator-id-1\" class=\"sk-toggleable__label fitted sk-toggleable__label-arrow\"><div><div>MLPClassifier</div></div><div><a class=\"sk-estimator-doc-link fitted\" rel=\"noreferrer\" target=\"_blank\" href=\"https://scikit-learn.org/1.6/modules/generated/sklearn.neural_network.MLPClassifier.html\">?<span>Documentation for MLPClassifier</span></a><span class=\"sk-estimator-doc-link fitted\">i<span>Fitted</span></span></div></label><div class=\"sk-toggleable__content fitted\"><pre>MLPClassifier(alpha=1e-05, hidden_layer_sizes=25, max_iter=100000, solver=&#x27;sgd&#x27;)</pre></div> </div></div></div></div>"
      ],
      "text/plain": [
       "MLPClassifier(alpha=1e-05, hidden_layer_sizes=25, max_iter=100000, solver='sgd')"
      ]
     },
     "execution_count": 116,
     "metadata": {},
     "output_type": "execute_result"
    }
   ],
   "source": [
    "model = MLPClassifier(solver='sgd', alpha=1e-5, hidden_layer_sizes=(25),max_iter=100000)\n",
    "X_train, X_train, Y_train, Y_train = train_test_split(X, Y, random_state=0, test_size=0.7)\n",
    "model.fit(X_train, Y_train)"
   ]
  },
  {
   "cell_type": "code",
   "execution_count": 117,
   "metadata": {
    "colab": {
     "background_save": true
    },
    "id": "4M7gZVVWl00F"
   },
   "outputs": [],
   "source": [
    "# Choisir un image de test \n",
    "c=0"
   ]
  },
  {
   "cell_type": "code",
   "execution_count": 118,
   "metadata": {
    "colab": {
     "background_save": true
    },
    "id": "Xy0Rda31l00F",
    "scrolled": true
   },
   "outputs": [
    {
     "data": {
      "text/plain": [
       "array([10])"
      ]
     },
     "execution_count": 118,
     "metadata": {},
     "output_type": "execute_result"
    }
   ],
   "source": [
    "model.predict([X_train[c,:]])"
   ]
  },
  {
   "cell_type": "code",
   "execution_count": 119,
   "metadata": {
    "colab": {
     "background_save": true
    },
    "id": "QN122JmZl00G"
   },
   "outputs": [
    {
     "data": {
      "text/plain": [
       "array([[4.75535689e-57, 8.60409826e-74, 7.74768620e-87, 3.90135697e-63,\n",
       "        9.63494717e-56, 3.53907791e-67, 1.98455374e-79, 6.01887517e-92,\n",
       "        9.19013781e-13, 1.00000000e+00]])"
      ]
     },
     "execution_count": 119,
     "metadata": {},
     "output_type": "execute_result"
    }
   ],
   "source": [
    "# pour ROC, il faudra les probabilités:\n",
    "model.predict_proba([X_train[c,:]])"
   ]
  },
  {
   "cell_type": "markdown",
   "metadata": {
    "id": "5bnMb0U1l00H"
   },
   "source": [
    "Afficher l'image testée"
   ]
  },
  {
   "cell_type": "code",
   "execution_count": 121,
   "metadata": {
    "colab": {
     "background_save": true
    },
    "id": "wX7-5roHl00H"
   },
   "outputs": [
    {
     "data": {
      "text/plain": [
       "<matplotlib.image.AxesImage at 0x2cd520ce3c0>"
      ]
     },
     "execution_count": 121,
     "metadata": {},
     "output_type": "execute_result"
    },
    {
     "data": {
      "image/png": "[encoded data removed]",
      "text/plain": [
       "<Figure size 640x480 with 1 Axes>"
      ]
     },
     "metadata": {},
     "output_type": "display_data"
    }
   ],
   "source": [
    "a = X_train[c,:].reshape((20, 20))\n",
    "a=np.transpose(a)\n",
    "plt.title('label '+ str(Y_train[c]))\n",
    "plt.imshow(a,cmap='gray')"
   ]
  },
  {
   "cell_type": "markdown",
   "metadata": {},
   "source": [
    "##### Metrics"
   ]
  },
  {
   "cell_type": "code",
   "execution_count": null,
   "metadata": {},
   "outputs": [
    {
     "name": "stdout",
     "output_type": "stream",
     "text": [
      "Accuracy = 0.10, Precision = 0.10, Recall = 0.10, FP_rate = 0.90\n",
      "[[38 40 29 46 35 34 30 33 30 36]\n",
      " [39 29 41 33 27 32 36 41 39 37]\n",
      " [34 30 28 49 32 38 37 40 35 35]\n",
      " [32 36 37 35 42 27 41 28 26 34]\n",
      " [40 31 38 34 38 39 35 28 42 26]\n",
      " [35 35 40 31 37 30 35 34 32 34]\n",
      " [36 32 25 39 36 34 35 34 39 40]\n",
      " [31 29 34 30 37 42 46 38 29 34]\n",
      " [39 38 34 37 38 35 32 28 32 38]\n",
      " [36 38 40 30 33 41 32 35 26 43]]\n"
     ]
    }
   ],
   "source": [
    "accuracy = overall_accuracy(Y_train , y_pred) \n",
    "precision = overall_precision(Y_train, y_pred, 10) \n",
    "recall = overall_recall(Y_train, y_pred, 10)\n",
    "FP_rate = overall_FP_rate(Y_train, y_pred,10)\n",
    "print(f\"Accuracy = {accuracy:.2f}, Precision = {precision:.2f}, Recall = {recall:.2f}, FP_rate = {f1:.2f}\")\n",
    "print(compute_confusion_matrix(Y_train,y_pred,10))\n"
   ]
  },
  {
   "cell_type": "code",
   "execution_count": 132,
   "metadata": {},
   "outputs": [
    {
     "name": "stdout",
     "output_type": "stream",
     "text": [
      "Plotting ROC curve for class 9\n",
      "\n"
     ]
    },
    {
     "data": {
      "image/png": "[encoded data removed]",
      "text/plain": [
       "<Figure size 800x600 with 1 Axes>"
      ]
     },
     "metadata": {},
     "output_type": "display_data"
    }
   ],
   "source": [
    "# plotting the roc curve for class c\n",
    "import random\n",
    "c = random.randint(1,10)\n",
    "print(f'Plotting ROC curve for class {c}\\n')\n",
    "fpr_list, tpr_list = roc_curve(Y_test,y_pred,c)\n",
    "plot_roc_curve(fpr_list, tpr_list,c)"
   ]
  },
  {
   "cell_type": "markdown",
   "metadata": {
    "id": "lXTjUzQal00J"
   },
   "source": [
    "# Méthode 4: RNC\n",
    "Réseaux de Neurones Convolutifs"
   ]
  },
  {
   "cell_type": "markdown",
   "metadata": {
    "id": "_txSaLVpl00L"
   },
   "source": [
    "# Appliquer les métriques implementées pour voir le résultat"
   ]
  },
  {
   "cell_type": "code",
   "execution_count": null,
   "metadata": {
    "colab": {
     "background_save": true
    },
    "id": "nkZxFuQKl00M"
   },
   "outputs": [],
   "source": []
  }
 ],
 "metadata": {
  "colab": {
   "collapsed_sections": [],
   "name": "TP 1 Mesures de performance.ipynb",
   "provenance": []
  },
  "kernelspec": {
   "display_name": "Python 3",
   "language": "python",
   "name": "python3"
  },
  "language_info": {
   "codemirror_mode": {
    "name": "ipython",
    "version": 3
   },
   "file_extension": ".py",
   "mimetype": "text/x-python",
   "name": "python",
   "nbconvert_exporter": "python",
   "pygments_lexer": "ipython3",
   "version": "3.12.2"
  }
 },
 "nbformat": 4,
 "nbformat_minor": 1
}
