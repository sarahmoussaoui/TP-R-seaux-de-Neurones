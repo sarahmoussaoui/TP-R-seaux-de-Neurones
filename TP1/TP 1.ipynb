{
 "cells": [
  {
   "cell_type": "markdown",
   "metadata": {
    "id": "23HhZ0TZl0zP"
   },
   "source": [
    "# TP 1 Mesures de performance\n",
    "Dans ce TP, nous aimerions avoir un premier aperçu sur les algorithmes d'apprentissage automatique. Plus précisément, nous aimerions évaluer leurs performances en utilisant les métriques suivantes:\n",
    "- Matrice de conusion\n",
    "- Rappel\n",
    "- Précision\n",
    "- Taux de FP\n",
    "- Spécificité\n",
    "- Courbe ROC\n",
    "\n",
    "Les mesures devront être calculées sur la tâche de classification de nombres manuscrits.\n",
    "\n",
    "Le travail consiste à implementer ces métriques et à les comparer avec les métriques des librairies disponibles.\n",
    "\n",
    "Les algorithmes : K plus Proches Voisins devront être implementés."
   ]
  },
  {
   "cell_type": "markdown",
   "metadata": {
    "id": "RnUKQQfjl0ze"
   },
   "source": [
    "# Importation des librairies necessaires au travail"
   ]
  },
  {
   "cell_type": "code",
   "execution_count": 31,
   "metadata": {
    "executionInfo": {
     "elapsed": 1671,
     "status": "ok",
     "timestamp": 1646692651996,
     "user": {
      "displayName": "Mounir Dekali",
      "photoUrl": "https://lh3.googleusercontent.com/a-/AOh14Gg8ysiB3LFZobpTpBaxvF4VcyOV4pcw95wF6Mdyhw=s64",
      "userId": "18151484264085085052"
     },
     "user_tz": -60
    },
    "id": "YDZVV6GVl0zg"
   },
   "outputs": [],
   "source": [
    "import numpy as np\n",
    "import csv\n",
    "import pandas as pd\n",
    "import matplotlib.pyplot as plt\n",
    "from numpy import random\n",
    "from sklearn.neural_network import MLPClassifier\n",
    "from sklearn.model_selection import train_test_split\n",
    "from sklearn import svm\n",
    "from sklearn.tree import DecisionTreeClassifier\n",
    "from sklearn.neighbors import KNeighborsClassifier\n",
    "from sklearn.metrics import classification_report, confusion_matrix\n",
    "from sklearn.preprocessing import StandardScaler\n",
    "from sklearn.metrics import accuracy_score, precision_score, recall_score\n",
    "import pandas as pd\n"
   ]
  },
  {
   "cell_type": "code",
   "execution_count": 32,
   "metadata": {
    "executionInfo": {
     "elapsed": 2710,
     "status": "ok",
     "timestamp": 1646692656130,
     "user": {
      "displayName": "Mounir Dekali",
      "photoUrl": "https://lh3.googleusercontent.com/a-/AOh14Gg8ysiB3LFZobpTpBaxvF4VcyOV4pcw95wF6Mdyhw=s64",
      "userId": "18151484264085085052"
     },
     "user_tz": -60
    },
    "id": "Uqyb8vZ3l0zk"
   },
   "outputs": [],
   "source": [
    "# Pour RNC\n",
    "from sklearn.model_selection import KFold\n",
    "from sklearn.cluster import KMeans\n",
    "from tensorflow.keras.datasets import mnist\n",
    "from tensorflow.keras.utils import to_categorical\n",
    "from tensorflow.keras.models import Sequential\n",
    "from tensorflow.keras.layers import Conv2D\n",
    "from tensorflow.keras.layers import MaxPooling2D\n",
    "from tensorflow.keras.layers import Dense\n",
    "from tensorflow.keras.layers import Flatten\n",
    "from tensorflow.keras.layers import Input\n",
    "from tensorflow.keras.layers import Dropout\n",
    "from tensorflow.keras.optimizers import SGD"
   ]
  },
  {
   "cell_type": "markdown",
   "metadata": {
    "id": "_nT_H3aPl0zm"
   },
   "source": [
    "# Lecture des fichiers de données à classifier\n",
    "Pour ce TP, nous allons lire les données à partir d'un fichier csv."
   ]
  },
  {
   "cell_type": "markdown",
   "metadata": {
    "id": "c-UeYc9GaCzZ"
   },
   "source": []
  },
  {
   "cell_type": "code",
   "execution_count": 33,
   "metadata": {
    "colab": {
     "base_uri": "https://localhost:8080/",
     "height": 363
    },
    "executionInfo": {
     "elapsed": 7,
     "status": "error",
     "timestamp": 1646692659670,
     "user": {
      "displayName": "Mounir Dekali",
      "photoUrl": "https://lh3.googleusercontent.com/a-/AOh14Gg8ysiB3LFZobpTpBaxvF4VcyOV4pcw95wF6Mdyhw=s64",
      "userId": "18151484264085085052"
     },
     "user_tz": -60
    },
    "id": "91b0p4qbl0zn",
    "outputId": "6122521a-5308-498d-e11e-17f66e01b07d"
   },
   "outputs": [
    {
     "name": "stdout",
     "output_type": "stream",
     "text": [
      "(5000, 400)\n"
     ]
    }
   ],
   "source": [
    "# données\n",
    "X = np.genfromtxt('data.csv', delimiter=',', dtype=int) # function that reads data from a txt file and stores it in an array, data is loaded as integers\n",
    "print(X.shape) # numbers of rows and columns\n",
    "df = pd.read_csv(\"data.csv\",nrows=5000) # loads 5000 rows of data into a panda dataframe"
   ]
  },
  {
   "cell_type": "code",
   "execution_count": 34,
   "metadata": {
    "colab": {
     "base_uri": "https://localhost:8080/"
    },
    "executionInfo": {
     "elapsed": 263,
     "status": "ok",
     "timestamp": 1646666818665,
     "user": {
      "displayName": "Mounir Dekali",
      "photoUrl": "https://lh3.googleusercontent.com/a-/AOh14Gg8ysiB3LFZobpTpBaxvF4VcyOV4pcw95wF6Mdyhw=s64",
      "userId": "18151484264085085052"
     },
     "user_tz": -60
    },
    "id": "j6KdcfC8l0zq",
    "outputId": "61a2ca31-b8d4-447d-e6f2-25d0ce9f8175"
   },
   "outputs": [
    {
     "data": {
      "text/plain": [
       "(5000,)"
      ]
     },
     "execution_count": 34,
     "metadata": {},
     "output_type": "execute_result"
    }
   ],
   "source": [
    "# étiquettes\n",
    "Y = np.genfromtxt('labels.csv', delimiter=',', dtype=int)\n",
    "Y.shape # 5000 labels corresponding to the data.csv rows respectivily"
   ]
  },
  {
   "cell_type": "markdown",
   "metadata": {
    "id": "TY2OixHCl0zs"
   },
   "source": [
    "Afficher aléatoirement quelques données de notre base"
   ]
  },
  {
   "cell_type": "code",
   "execution_count": 35,
   "metadata": {
    "colab": {
     "base_uri": "https://localhost:8080/",
     "height": 118
    },
    "executionInfo": {
     "elapsed": 2304,
     "status": "ok",
     "timestamp": 1646666823844,
     "user": {
      "displayName": "Mounir Dekali",
      "photoUrl": "https://lh3.googleusercontent.com/a-/AOh14Gg8ysiB3LFZobpTpBaxvF4VcyOV4pcw95wF6Mdyhw=s64",
      "userId": "18151484264085085052"
     },
     "user_tz": -60
    },
    "id": "QMTnUdBql0zu",
    "outputId": "5b2dda71-20a2-4ab8-e707-a2e19c0f2fc8"
   },
   "outputs": [
    {
     "data": {
      "image/png": "[encoded data removed]",
      "text/plain": [
       "<Figure size 1500x800 with 13 Axes>"
      ]
     },
     "metadata": {},
     "output_type": "display_data"
    }
   ],
   "source": [
    "plt.figure(figsize=(15,8))\n",
    "for i in range(13): #note: each 500 lines, there is a new value\n",
    "    c = random.randint(X.shape[0]) #pick a random line from the dataset \n",
    "    a = X[c,:].reshape((20, 20)) #shape of one number in the image \n",
    "    a=np.transpose(a) # la transposé (rendre les ligne des colonne et vice versa)\n",
    "    plt.subplot(1,13,i+1)\n",
    "    plt.title('label '+ str(Y[c]))\n",
    "    plt.imshow(a,cmap='gray')"
   ]
  },
  {
   "cell_type": "markdown",
   "metadata": {
    "id": "UM03Af2dl0zv"
   },
   "source": [
    "Notons que l'étiquette 10 concerne le chiffre 0. L'étiquette a été utilisée ainsi afin de faciliter les calculs conséquents."
   ]
  },
  {
   "cell_type": "markdown",
   "metadata": {
    "id": "s80Yb_gul0zx"
   },
   "source": [
    "# Implémentation des métriques demandées\n",
    "Ici il faut écrire les fonctions, puis les appeler dans la suite du code"
   ]
  },
  {
   "cell_type": "markdown",
   "metadata": {},
   "source": [
    "- Matrice de confusion :"
   ]
  },
  {
   "cell_type": "markdown",
   "metadata": {},
   "source": [
    "##### Global Matrix for all classes\n",
    "10 X 10 matrix where : \\\n",
    "row : true class \\\n",
    "column : predicted class \\\n",
    "diagonal elements represent the correct predictions \\\n",
    "off diagnoal elements represent misclassifications"
   ]
  },
  {
   "cell_type": "code",
   "execution_count": 36,
   "metadata": {},
   "outputs": [],
   "source": [
    "def compute_confusion_matrix(y_true, y_pred, num_classes):\n",
    "    \"\"\"\n",
    "    Compute the confusion matrix from scratch.\n",
    "\n",
    "    Args:\n",
    "        y_true (array): True labels \n",
    "        y_pred (array): Predicted labels\n",
    "        num_classes (int): Number of classes.\n",
    "\n",
    "    Returns:\n",
    "        confusion_matrix (array): Confusion matrix of shape [num_classes, num_classes].\n",
    "        the 10th row of the matrix represents the class 10 (digit 0)\n",
    "    \"\"\"\n",
    "    # Initialize the confusion matrix with zeros\n",
    "    cm = np.zeros((num_classes, num_classes), dtype=int)\n",
    "    \n",
    "    # Iterate through the true and predicted labels\n",
    "    for true_label, pred_label in zip(y_true, y_pred):\n",
    "        # Adjust labels to be 0-based (0-based indexing)\n",
    "        true_label_idx = true_label - 1  # Convert 1-10 to 0-9\n",
    "        pred_label_idx = pred_label - 1  # Convert 1-10 to 0-9\n",
    "        \n",
    "        # Increment the corresponding cell in the confusion matrix\n",
    "        cm[true_label_idx, pred_label_idx] += 1\n",
    "    \n",
    "    return cm      "
   ]
  },
  {
   "cell_type": "markdown",
   "metadata": {},
   "source": [
    "##### Matrix for each class\n",
    "we will generate 10 different matrices of 2X2 \\\n",
    "True Positive (TP)  False Negative (FN) \\\n",
    "False Positive (FP) True Negative (TN) \n",
    "\n"
   ]
  },
  {
   "cell_type": "code",
   "execution_count": 37,
   "metadata": {},
   "outputs": [],
   "source": [
    "def confusion_matrix_per_class(y_true, y_pred, num_classes):\n",
    "    \"\"\"\n",
    "    Compute the confusion matrix for each class (one-vs-all).\n",
    "\n",
    "    Args:\n",
    "        y_true (array): True labels \n",
    "        y_pred (array): Predicted labels \n",
    "        num_classes (int): Number of classes.\n",
    "\n",
    "    Returns:\n",
    "        class_cm (dict): A dictionary where keys are class labels and values are 2x2 confusion matrices.\n",
    "    \"\"\"\n",
    "    class_cm = {}\n",
    "    \n",
    "    for class_label in range(1, num_classes + 1): # num_classes +1 = 11 : because in range should go from 1 to 10\n",
    "        # Create binary labels for the current class : 1 for current class , 0 for other classes\n",
    "        y_true_binary = (y_true == class_label).astype(int)  # as type converts boolean value true or false to 1 or 0\n",
    "        y_pred_binary = (y_pred == class_label).astype(int)\n",
    "        \n",
    "        # Compute the 2x2 confusion matrix for the current class\n",
    "        tp = np.sum((y_true_binary == 1) & (y_pred_binary == 1))  # True Positives\n",
    "        tn = np.sum((y_true_binary == 0) & (y_pred_binary == 0))  # True Negatives\n",
    "        fp = np.sum((y_true_binary == 0) & (y_pred_binary == 1))  # False Positives\n",
    "        fn = np.sum((y_true_binary == 1) & (y_pred_binary == 0))  # False Negatives\n",
    "        \n",
    "        # Store the confusion matrix for the current class\n",
    "        class_cm[class_label] = np.array([[tn, fp], [fn, tp]])\n",
    "     \n",
    "    return class_cm"
   ]
  },
  {
   "cell_type": "markdown",
   "metadata": {},
   "source": [
    "- Accuracy = (TP + TN)/(TP + TN + FP + FN)"
   ]
  },
  {
   "cell_type": "markdown",
   "metadata": {},
   "source": [
    "##### Overall accuracy"
   ]
  },
  {
   "cell_type": "code",
   "execution_count": 38,
   "metadata": {},
   "outputs": [],
   "source": [
    "def overall_accuracy(y_true,y_pred):\n",
    "  correct_predictions = 0 # initialise counter for correct predictions TP+TN\n",
    "  for i in range(len(y_true)):\n",
    "    if(y_true[i]== y_pred[i]):\n",
    "      correct_predictions +=1\n",
    "  \n",
    "  overall_accuracy = correct_predictions / len(y_true) # len(y_true) = TP + TN + FP + FN\n",
    "  return overall_accuracy"
   ]
  },
  {
   "cell_type": "markdown",
   "metadata": {},
   "source": [
    "##### accuracy for each class"
   ]
  },
  {
   "cell_type": "code",
   "execution_count": 39,
   "metadata": {},
   "outputs": [],
   "source": [
    "def accuracy_per_class(y_true, y_pred, num_classes):\n",
    "    \"\"\"\n",
    "    Compute accuracy for each class.\n",
    "\n",
    "    Args:\n",
    "        y_true (array): True labels \n",
    "        y_pred (array): Predicted labels \n",
    "        num_classes (int): Number of classes.\n",
    "\n",
    "    Returns:\n",
    "        class_accuracy (dict): A dictionary where keys are class labels and values are accuracies.\n",
    "    \"\"\"\n",
    "    class_accuracy = {}\n",
    "    \n",
    "    for class_label in range(1, num_classes + 1):  # Classes are labeled from 1 to num_classes\n",
    "        # Indices of samples that belong to the current class\n",
    "        class_indices = (y_true == class_label) # boolean values 0 or 1 for rows of y_true corresponding to the class\n",
    "        \n",
    "        # Number of samples for the current class\n",
    "        total_samples = np.sum(class_indices) # sum of boolean values is going to be number of rows of the class\n",
    "        \n",
    "        if total_samples == 0:\n",
    "            # If there are no samples for this class, set accuracy to 0 or handle it as needed\n",
    "            class_accuracy[class_label] = 0. # float\n",
    "            continue\n",
    "        \n",
    "        # Number of correct predictions for the current class\n",
    "        correct_predictions = np.sum((y_true == class_label) & (y_pred == class_label))\n",
    "        \n",
    "        # Accuracy for the current class\n",
    "        accuracy = correct_predictions / total_samples\n",
    "        class_accuracy[class_label] = accuracy\n",
    "    \n",
    "    return class_accuracy"
   ]
  },
  {
   "cell_type": "markdown",
   "metadata": {
    "id": "-mRS4onu-52j"
   },
   "source": [
    "- Recall (True Positive Rate) = TP/(TP + FN)"
   ]
  },
  {
   "cell_type": "markdown",
   "metadata": {},
   "source": [
    "##### Recall for each class"
   ]
  },
  {
   "cell_type": "code",
   "execution_count": 40,
   "metadata": {
    "colab": {
     "background_save": true
    },
    "id": "ReRWcXEYgeQe"
   },
   "outputs": [],
   "source": [
    "def recall_per_class(y_true, y_pred, num_classes):\n",
    "    \"\"\"\n",
    "    Compute recall for each class.\n",
    "\n",
    "    Args:\n",
    "        y_true (array): True labels \n",
    "        y_pred (array): Predicted labels \n",
    "        num_classes (int): Number of classes.\n",
    "\n",
    "    Returns:\n",
    "        class_recall (dict): A dictionary where keys are class labels and values are recall values.\n",
    "    \"\"\"\n",
    "    class_recall = {}\n",
    "    \n",
    "    for class_label in range(1, num_classes + 1):  # Classes are labeled from 1 to num_classes\n",
    "        # True Positives (TP): Correctly predicted as the current class\n",
    "        tp = np.sum((y_true == class_label) & (y_pred == class_label))\n",
    "        \n",
    "        # False Negatives (FN): Belong to the current class but predicted as another class\n",
    "        fn = np.sum((y_true == class_label) & (y_pred != class_label))\n",
    "        \n",
    "        # Avoid division by zero\n",
    "        if (tp + fn) == 0:\n",
    "            recall = 0.0  # If there are no samples for this class, set recall to 0\n",
    "        else:\n",
    "            # Compute recall\n",
    "            recall = tp / (tp + fn)\n",
    "        \n",
    "        # Store the recall for the current class\n",
    "        class_recall[class_label] = recall\n",
    "    \n",
    "    return class_recall"
   ]
  },
  {
   "cell_type": "markdown",
   "metadata": {},
   "source": [
    "##### Overall Recall "
   ]
  },
  {
   "cell_type": "code",
   "execution_count": 41,
   "metadata": {},
   "outputs": [],
   "source": [
    "def overall_recall(y_true, y_pred, average='macro'):\n",
    "    \"\"\"\n",
    "    Compute overall recall.\n",
    "\n",
    "    Args:\n",
    "        y_true (array): True labels \n",
    "        y_pred (array): Predicted labels \n",
    "        average (string): Define the avraging methode (macro or weighted) \n",
    "\n",
    "    Returns:\n",
    "        overall_recall (float): Overall recall.\n",
    "        \n",
    "    \"\"\"\n",
    "    # Ensure y_true, y_pred are nb arrays \n",
    "    y_true = np.asarray(y_true)\n",
    "    y_pred = np.asarray(y_pred)\n",
    "\n",
    "    unique_classes = np.union1d(y_true, y_pred)\n",
    "    total_recall = 0\n",
    "    total_weight = 0\n",
    "    recalls = []       # Stores count of recall for each class  \n",
    "    class_counts = []  # Stores count of occurrences for each class  \n",
    "    # Compute recall for each class  \n",
    "    for class_label in unique_classes:\n",
    "        tp = np.sum((y_true == class_label) & (y_pred == class_label)) # true positive\n",
    "        fn = np.sum((y_true == class_label) & (y_pred != class_label)) # false negarive\n",
    "\n",
    "        if tp + fn == 0:\n",
    "            recall = 0\n",
    "        else:\n",
    "            recall = tp / (tp + fn)\n",
    "\n",
    "        recalls.append(recall)\n",
    "        class_counts.append(np.sum(y_true == class_label))\n",
    "    # Compute macro-average recall  \n",
    "    if average == 'macro':\n",
    "        total_recall = 0\n",
    "        for recall in recalls:\n",
    "            total_recall += recall\n",
    "        return total_recall / len(unique_classes)\n",
    "    # Compute weighted-average recall  \n",
    "    if average == 'weighted':\n",
    "        weighted_recall = 0\n",
    "        total_weight = 0\n",
    "        for i in range(len(recalls)):\n",
    "            weighted_recall += recalls[i] * class_counts[i]  # Weight recall by class count  \n",
    "            total_weight += class_counts[i]    # Sum total instances \n",
    "\n",
    "        if total_weight == 0:\n",
    "            return 0\n",
    "        return weighted_recall / total_weight\n",
    "\n",
    "    raise ValueError(\"Invalid average type. Choose 'macro' or 'weighted'.\")\n",
    "\n"
   ]
  },
  {
   "cell_type": "markdown",
   "metadata": {
    "id": "iy1P5tes-jM8"
   },
   "source": [
    "- Précision = TP/(TP + FP)"
   ]
  },
  {
   "cell_type": "markdown",
   "metadata": {
    "colab": {
     "background_save": true
    },
    "id": "bnHz28P0Z36s"
   },
   "source": [
    "##### Precision for each class\n"
   ]
  },
  {
   "cell_type": "code",
   "execution_count": 42,
   "metadata": {},
   "outputs": [],
   "source": [
    "def precision_per_class(y_true, y_pred, num_classes):\n",
    "    \n",
    "    class_precision = {}\n",
    "        \n",
    "    for class_label in range(1, num_classes + 1):  # Classes are labeled from 1 to num_classes\n",
    "         # True Positives (TP): Correctly predicted as the current class\n",
    "        TP = np.sum((y_true == class_label) & (y_pred == class_label))\n",
    "         # False Positives (FP): Predicted as this class but actually not this class\n",
    "        FP = np.sum((y_pred == class_label) & (y_true != class_label))\n",
    "        \n",
    "        # Avoid division by zero\n",
    "        if (TP + FP) == 0:\n",
    "            precision = 0.0  # If there are no samples for this class, set precison to 0\n",
    "        else:\n",
    "            # Compute precision\n",
    "            precision = TP / (TP + FP)\n",
    "         \n",
    "        # Store the precision for the current class\n",
    "        class_precision[class_label] = precision\n",
    "    \n",
    "    return class_precision\n",
    "    "
   ]
  },
  {
   "cell_type": "markdown",
   "metadata": {},
   "source": [
    "##### Overall Precision"
   ]
  },
  {
   "cell_type": "code",
   "execution_count": 43,
   "metadata": {},
   "outputs": [],
   "source": [
    "def overall_precision(y_true, y_pred, average='macro'):\n",
    "    \"\"\"\n",
    "    Compute overall precision.\n",
    "\n",
    "    Args:\n",
    "        y_true (array): True labels \n",
    "        y_pred (array): Predicted labels \n",
    "        average (string): Define the avraging equation (macro or weighted)\n",
    "\n",
    "    Returns:\n",
    "        overall_precision (float): Overall precision.\n",
    "        \n",
    "    \"\"\"\n",
    "   # Ensure y_true, y_pred are numpy arrays  \n",
    "    y_true = np.asarray(y_true)  \n",
    "    y_pred = np.asarray(y_pred)  \n",
    "\n",
    "# Get unique class labels from both true and predicted values  \n",
    "    unique_classes = np.union1d(y_true, y_pred)  \n",
    "    total_precision = 0  \n",
    "    total_weight = 0  \n",
    "    precisions = []  # Contains precision of each class  \n",
    "    class_counts = []  # Stores count of occurrences for each class  \n",
    "\n",
    "# Compute precision for each class  \n",
    "    for class_label in unique_classes:  \n",
    "        tp = np.sum((y_true == class_label) & (y_pred == class_label))  # True positives  \n",
    "        fp = np.sum((y_pred == class_label) & (y_true != class_label))  # False positives  \n",
    "\n",
    "        if tp + fp == 0:  \n",
    "            precision = 0  # Avoid division by zero  \n",
    "        else:  \n",
    "            precision = tp / (tp + fp)  \n",
    "\n",
    "        precisions.append(precision)  \n",
    "        class_counts.append(np.sum(y_true == class_label))  # Count occurrences of class in y_true  \n",
    "\n",
    "    # Compute macro-average precision  \n",
    "    if average == 'macro':  \n",
    "        total_precision = sum(precisions)  # Sum all class precisions  \n",
    "        return total_precision / len(unique_classes)  # Divide by the number of classes  \n",
    "\n",
    "    # Compute weighted-average precision  \n",
    "    if average == 'weighted':  \n",
    "        weighted_precision = 0  \n",
    "\n",
    "        for i in range(len(precisions)):  \n",
    "            weighted_precision += precisions[i] * class_counts[i]  # Weight precision by class count  \n",
    "            total_weight += class_counts[i]  # Sum total instances  \n",
    "\n",
    "        if total_weight == 0:  \n",
    "            return 0  # Avoid division by zero  \n",
    "        return weighted_precision / total_weight  \n",
    "\n",
    "    # Raise an error for invalid average type  \n",
    "    raise ValueError(\"Invalid average type. Choose 'macro' or 'weighted'.\")  \n",
    "\n",
    "\n"
   ]
  },
  {
   "cell_type": "markdown",
   "metadata": {
    "id": "2SUXNHkz-qd5"
   },
   "source": [
    "- Taux de FP (False Positive Rate) = FP / (FP + TN)"
   ]
  },
  {
   "cell_type": "markdown",
   "metadata": {
    "colab": {
     "background_save": true
    },
    "id": "r_o0qyv2l0z3"
   },
   "source": [
    "##### False Positive Rate for each class"
   ]
  },
  {
   "cell_type": "code",
   "execution_count": 44,
   "metadata": {},
   "outputs": [],
   "source": [
    "def FP_rate_per_class(y_true, y_pred, num_classes):\n",
    "    \n",
    "    class_FP_rate = {}\n",
    "        \n",
    "    for class_label in range(1, num_classes + 1):  # Classes are labeled from 1 to num_classes\n",
    "          # False Positives (FP): Predicted as this class but actually not this class\n",
    "        FP = np.sum((y_pred == class_label) & (y_true != class_label))\n",
    "         # True Negatives (TN)\n",
    "        TN = np.sum((y_true != class_label) & (y_pred != class_label))\n",
    "        \n",
    "        # Avoid division by zero\n",
    "        if (TN + FP) == 0:\n",
    "            FP_rate = 0.0  # If there are no samples for this class, set FP_rate to 0\n",
    "        else:\n",
    "            # Compute FP_rate\n",
    "            FP_rate = FP / (FP + TN)\n",
    "         \n",
    "        # Store the FP_rate for the current class\n",
    "        class_FP_rate[class_label] = FP_rate\n",
    "    \n",
    "    return class_FP_rate\n",
    "    "
   ]
  },
  {
   "cell_type": "markdown",
   "metadata": {},
   "source": [
    "##### Overall False Positive Rate"
   ]
  },
  {
   "cell_type": "code",
   "execution_count": 45,
   "metadata": {},
   "outputs": [],
   "source": [
    "\n",
    "\n",
    "def overall_FP_rate(y_true, y_pred):\n",
    "    \n",
    "    # Initialize variables to store total TN and FP\n",
    "    total_TN = 0\n",
    "    total_FP = 0\n",
    "    # Ensure y_true, y_pred are nb arrays \n",
    "    y_true = np.asarray(y_true)\n",
    "    y_pred = np.asarray(y_pred)\n",
    "    # find the number of classes\n",
    "    unique_classes = np.union1d(y_true, y_pred)\n",
    "\n",
    "    # Iterate through each class\n",
    "    for class_label in unique_classes:  # Classes from 0 to num_classes-1\n",
    "        # False Positives (FP): Predicted as this class but actually not this class\n",
    "        FP = np.sum((y_pred == class_label) & (y_true != class_label))\n",
    "        total_FP += FP\n",
    "        \n",
    "        # True Negatives (TN): Neither of this class, nor predicted as this class\n",
    "        TN = np.sum((y_true != class_label) & (y_pred != class_label))\n",
    "        total_TN += TN\n",
    "    \n",
    "    # Compute the overall false positive rate (FPR)\n",
    "    if (total_FP + total_TN) == 0:\n",
    "        overall_FP_rate = 0.0  # Avoid division by zero\n",
    "    else:\n",
    "        overall_FP_rate = total_FP / (total_FP + total_TN)\n",
    "    \n",
    "    return overall_FP_rate\n"
   ]
  },
  {
   "cell_type": "markdown",
   "metadata": {
    "id": "7gx9qcAK-wnc"
   },
   "source": [
    "- Spécificité (True Negative Rate) = TN / (TN + FP)"
   ]
  },
  {
   "cell_type": "markdown",
   "metadata": {
    "colab": {
     "background_save": true
    },
    "id": "DEXYGvurl0z5"
   },
   "source": [
    "##### Specificity for each class"
   ]
  },
  {
   "cell_type": "code",
   "execution_count": 46,
   "metadata": {},
   "outputs": [],
   "source": [
    "def Specificity_per_class(y_true, y_pred, num_classes):\n",
    "    \n",
    "    class_Specificity = {}\n",
    "        \n",
    "    for class_label in range(1, num_classes + 1):  # Classes are labeled from 1 to num_classes\n",
    "          # False Positives (FP): Predicted as this class but actually not this class\n",
    "        FP = np.sum((y_pred == class_label) & (y_true != class_label))\n",
    "         # True Negatives (TN)\n",
    "        TN = np.sum((y_true != class_label) & (y_pred != class_label))\n",
    "        \n",
    "        # Avoid division by zero\n",
    "        if (TN + FP) == 0:\n",
    "            Specificity = 0.0  # If there are no samples for this class, set Specificity to 0\n",
    "        else:\n",
    "            # Compute Specificity\n",
    "            Specificity = TN / (FP + TN)\n",
    "         \n",
    "        # Store the Specificity for the current class\n",
    "        class_Specificity[class_label] = Specificity\n",
    "    \n",
    "    return   class_Specificity\n",
    "    "
   ]
  },
  {
   "cell_type": "markdown",
   "metadata": {},
   "source": [
    "##### Overall Specificity "
   ]
  },
  {
   "cell_type": "code",
   "execution_count": 47,
   "metadata": {},
   "outputs": [],
   "source": [
    "def overall_Specificity(y_true, y_pred):\n",
    "    \n",
    "    # Initialize variables to store total TN and FP\n",
    "    total_TN = 0\n",
    "    total_FP = 0\n",
    "    \n",
    "    # Iterate through each class\n",
    "    # Extract unique classes from both y_true and y_pred\n",
    "    unique_classes = np.union1d(y_true, y_pred)  # Ensures all seen classes are considered\n",
    "\n",
    "\n",
    "    for class_label in unique_classes:  # Classes from 0 to num_classes-1\n",
    "        # False Positives (FP): Predicted as this class but actually not this class\n",
    "        FP = np.sum((y_pred == class_label) & (y_true != class_label))\n",
    "        total_FP += FP\n",
    "        \n",
    "        # True Negatives (TN): Neither of this class, nor predicted as this class\n",
    "        TN = np.sum((y_true != class_label) & (y_pred != class_label))\n",
    "        total_TN += TN\n",
    "    \n",
    "    # Compute the overall Specificity\n",
    "    if (total_FP + total_TN) == 0:\n",
    "        overall_Specificity = 0.0  # Avoid division by zero\n",
    "    else:\n",
    "        overall_Specificity = total_TN / (total_FP + total_TN)\n",
    "    \n",
    "    return overall_Specificity"
   ]
  },
  {
   "cell_type": "markdown",
   "metadata": {
    "id": "ENA_XiFMl0z5"
   },
   "source": [
    "- Courbe ROC"
   ]
  },
  {
   "cell_type": "code",
   "execution_count": 48,
   "metadata": {},
   "outputs": [],
   "source": [
    "def roc_curve(actual, predicted_probabilities, positive_label):\n",
    "    \"\"\"\n",
    "    Compute the ROC curve for a specific class.\n",
    "\n",
    "    Args:\n",
    "    actual (array-like): Ground truth labels.\n",
    "    predicted_probabilities (array-like): Predicted probabilities for the target class.\n",
    "    positive_label (int): The class considered as positive.\n",
    "\n",
    "    Returns:\n",
    "    tuple: Lists of FPR and TPR values.\n",
    "    \"\"\"\n",
    "    # Generate thresholds from the predicted probabilities\n",
    "    thresholds = sorted(set(predicted_probabilities), reverse=True)\n",
    "    \n",
    "    tpr_list = []  # True Positive Rate values\n",
    "    fpr_list = []  # False Positive Rate values\n",
    "    \n",
    "    for threshold in thresholds:\n",
    "        # Convert probabilities into binary predictions based on the threshold\n",
    "        predicted_labels = [1 if prob >= threshold else 0 for prob in predicted_probabilities]\n",
    "        \n",
    "        # Compute TPR (Recall) and FPR\n",
    "        tp = sum((actual == positive_label) & (predicted_labels == 1))\n",
    "        fn = sum((actual == positive_label) & (predicted_labels == 0))\n",
    "        fp = sum((actual != positive_label) & (predicted_labels == 1))\n",
    "        tn = sum((actual != positive_label) & (predicted_labels == 0))\n",
    "        \n",
    "        tpr = tp / (tp + fn) if (tp + fn) > 0 else 0\n",
    "        fpr = fp / (fp + tn) if (fp + tn) > 0 else 0\n",
    "        \n",
    "        # Append values to lists\n",
    "        tpr_list.append(tpr)\n",
    "        fpr_list.append(fpr)\n",
    "\n",
    "    return fpr_list, tpr_list\n"
   ]
  },
  {
   "cell_type": "markdown",
   "metadata": {},
   "source": [
    "##### affichage de la courbe "
   ]
  },
  {
   "cell_type": "code",
   "execution_count": 49,
   "metadata": {},
   "outputs": [],
   "source": [
    "def plot_roc_curve(fpr, tpr, positive_label):\n",
    "    \"\"\"\n",
    "    Plot the ROC curve using Matplotlib.\n",
    "\n",
    "    Args:\n",
    "    fpr (list): List of False Positive Rates.\n",
    "    tpr (list): List of True Positive Rates.\n",
    "    positive_label (int): The class being analyzed.\n",
    "    \"\"\"\n",
    "    plt.figure(figsize=(8, 6))\n",
    "    plt.plot(fpr, tpr, marker='o', linestyle='-', color='b', label=f'Class {positive_label}')\n",
    "    plt.plot([0, 1], [0, 1], 'k--', label='Random Classifier')  # Diagonal line for reference\n",
    "    plt.xlabel(\"False Positive Rate (FPR)\")\n",
    "    plt.ylabel(\"True Positive Rate (TPR)\")\n",
    "    plt.title(f\"ROC Curve for Class {positive_label}\")\n",
    "    plt.legend(loc=\"lower right\")\n",
    "    plt.grid()\n",
    "    plt.show()\n"
   ]
  },
  {
   "cell_type": "markdown",
   "metadata": {
    "id": "IHfn7fgbl0z6"
   },
   "source": [
    "# Classification"
   ]
  },
  {
   "cell_type": "markdown",
   "metadata": {
    "id": "PGKbOn3el0z7"
   },
   "source": [
    "Définir d'abord la base d'entrainement Xt, Yt et la base de test Xtt, Ytt"
   ]
  },
  {
   "cell_type": "code",
   "execution_count": 50,
   "metadata": {
    "executionInfo": {
     "elapsed": 250,
     "status": "ok",
     "timestamp": 1646667242179,
     "user": {
      "displayName": "Mounir Dekali",
      "photoUrl": "https://lh3.googleusercontent.com/a-/AOh14Gg8ysiB3LFZobpTpBaxvF4VcyOV4pcw95wF6Mdyhw=s64",
      "userId": "18151484264085085052"
     },
     "user_tz": -60
    },
    "id": "mH2tdgEPl0z7"
   },
   "outputs": [],
   "source": [
    "scaler = StandardScaler()\n",
    "scaler.fit(X)\n",
    "scaled_features = scaler.transform(X)\n",
    "Xt, Xtt, Yt, Ytt = train_test_split(\n",
    "      scaled_features, Y, test_size = 0.30)"
   ]
  },
  {
   "cell_type": "markdown",
   "metadata": {
    "id": "ZEArHIKJl0z8"
   },
   "source": [
    "# Méthode 0: K- Plus Proches Voisins"
   ]
  },
  {
   "cell_type": "markdown",
   "metadata": {
    "id": "Uh7xVfJUl0z9"
   },
   "source": [
    "Ici il faudra implémenter la méthode, puis la tester et vérifier les métriques en variant le nombre K"
   ]
  },
  {
   "cell_type": "markdown",
   "metadata": {},
   "source": [
    "### implementer la fonction qui calcule la distance Euclidienne"
   ]
  },
  {
   "cell_type": "code",
   "execution_count": 51,
   "metadata": {
    "id": "1lKZnt7zl0z9"
   },
   "outputs": [
    {
     "name": "stdout",
     "output_type": "stream",
     "text": [
      "9.486832980505138\n"
     ]
    }
   ],
   "source": [
    "\n",
    "\n",
    "def euclidean_distance(point1 : np.ndarray , point2 : np.ndarray)-> float:\n",
    "    \"\"\"\n",
    "    Calculate the euclidien distance between two points (numpy arrays)\n",
    "    \"\"\"\n",
    "    if point1.shape != point2.shape :\n",
    "        raise ValueError(\"Both points must have same dimentions\")\n",
    "    \n",
    "    distance =  np.sqrt(np.sum((point1 - point2)**2))\n",
    "    return distance\n",
    "\n",
    "#test \n",
    "a = np.array([5 , 3 ]); \n",
    "b = np.array([2 , 12 ]); \n",
    "\n",
    "print(euclidean_distance(a , b))"
   ]
  },
  {
   "cell_type": "markdown",
   "metadata": {},
   "source": [
    "### Implementer l'algorithme KNN"
   ]
  },
  {
   "cell_type": "code",
   "execution_count": 52,
   "metadata": {},
   "outputs": [],
   "source": [
    "def KNN(new_point : np.array , data : np.array , lables :np.array, k:int):\n",
    "    \"\"\"\n",
    "    This function uses the K-Nearest Neighbors (KNN) algorithme to predict the lable of new_point\n",
    "        new_point : is the data we want to classify\n",
    "        data : a numpy array containes samples of lables data (only the features)\n",
    "        lables : the lables of data\n",
    "        k: The number of nearest neighbors to consider.\n",
    "    \"\"\"\n",
    "    distances = []\n",
    "    # 1. Calculate euclidienne distance with each point of the dataset \n",
    "\n",
    "    for i in range(data.shape[0]): # Iterate throught  dataset samples\n",
    "        distances.append(( euclidean_distance(data[i] , new_point),lables[i]))\n",
    "\n",
    "    # 2. Sort by distance\n",
    "    distances.sort(key=lambda pair: pair[0])\n",
    "\n",
    "    #3. Select the first k points\n",
    "    k_nearest = [distances[i][1] for i in range(0,k)]\n",
    "\n",
    "    #4. Return the most commun lebel as a prediction for \n",
    "    pred_lable= max(set(k_nearest), key=k_nearest.count)\n",
    "    return pred_lable\n",
    "        \n"
   ]
  },
  {
   "cell_type": "markdown",
   "metadata": {},
   "source": [
    "### Tester l'algorithme KNN sur le dataset iris flowers avec diffrents valeurs de K"
   ]
  },
  {
   "cell_type": "code",
   "execution_count": 53,
   "metadata": {},
   "outputs": [
    {
     "name": "stdout",
     "output_type": "stream",
     "text": [
      ".. _iris_dataset:\n",
      "\n",
      "Iris plants dataset\n",
      "--------------------\n",
      "\n",
      "**Data Set Characteristics:**\n",
      "\n",
      "    :Number of Instances: 150 (50 in each of three classes)\n",
      "    :Number of Attributes: 4 numeric, predictive attributes and the class\n",
      "    :Attribute Information:\n",
      "        - sepal length in cm\n",
      "        - sepal width in cm\n",
      "        - petal length in cm\n",
      "        - petal width in cm\n",
      "        - class:\n",
      "                - Iris-Setosa\n",
      "                - Iris-Versicolour\n",
      "                - Iris-Virginica\n",
      "                \n",
      "    :Summary Statistics:\n",
      "\n",
      "    ============== ==== ==== ======= ===== ====================\n",
      "                    Min  Max   Mean    SD   Class Correlation\n",
      "    ============== ==== ==== ======= ===== ====================\n",
      "    sepal length:   4.3  7.9   5.84   0.83    0.7826\n",
      "    sepal width:    2.0  4.4   3.05   0.43   -0.4194\n",
      "    petal length:   1.0  6.9   3.76   1.76    0.9490  (high!)\n",
      "    petal width:    0.1  2.5   1.20   0.76    0.9565  (high!)\n",
      "    ============== ==== ==== ======= ===== ====================\n",
      "\n",
      "    :Missing Attribute Values: None\n",
      "    :Class Distribution: 33.3% for each of 3 classes.\n",
      "    :Creator: R.A. Fisher\n",
      "    :Donor: Michael Marshall (MARSHALL%PLU@io.arc.nasa.gov)\n",
      "    :Date: July, 1988\n",
      "\n",
      "The famous Iris database, first used by Sir R.A. Fisher. The dataset is taken\n",
      "from Fisher's paper. Note that it's the same as in R, but not as in the UCI\n",
      "Machine Learning Repository, which has two wrong data points.\n",
      "\n",
      "This is perhaps the best known database to be found in the\n",
      "pattern recognition literature.  Fisher's paper is a classic in the field and\n",
      "is referenced frequently to this day.  (See Duda & Hart, for example.)  The\n",
      "data set contains 3 classes of 50 instances each, where each class refers to a\n",
      "type of iris plant.  One class is linearly separable from the other 2; the\n",
      "latter are NOT linearly separable from each other.\n",
      "\n",
      ".. topic:: References\n",
      "\n",
      "   - Fisher, R.A. \"The use of multiple measurements in taxonomic problems\"\n",
      "     Annual Eugenics, 7, Part II, 179-188 (1936); also in \"Contributions to\n",
      "     Mathematical Statistics\" (John Wiley, NY, 1950).\n",
      "   - Duda, R.O., & Hart, P.E. (1973) Pattern Classification and Scene Analysis.\n",
      "     (Q327.D83) John Wiley & Sons.  ISBN 0-471-22361-1.  See page 218.\n",
      "   - Dasarathy, B.V. (1980) \"Nosing Around the Neighborhood: A New System\n",
      "     Structure and Classification Rule for Recognition in Partially Exposed\n",
      "     Environments\".  IEEE Transactions on Pattern Analysis and Machine\n",
      "     Intelligence, Vol. PAMI-2, No. 1, 67-71.\n",
      "   - Gates, G.W. (1972) \"The Reduced Nearest Neighbor Rule\".  IEEE Transactions\n",
      "     on Information Theory, May 1972, 431-433.\n",
      "   - See also: 1988 MLC Proceedings, 54-64.  Cheeseman et al\"s AUTOCLASS II\n",
      "     conceptual clustering system finds 3 classes in the data.\n",
      "   - Many, many more ...\n"
     ]
    }
   ],
   "source": [
    "\n",
    "from sklearn import datasets\n",
    "\n",
    "# Load the Iris dataset\n",
    "iris = datasets.load_iris()\n",
    "X = iris.data  # Features (sepal & petal measurements)\n",
    "y = iris.target  # Labels (0 = setosa, 1 = versicolor, 2 = virginica)\n",
    "\n",
    "# Split data to test KNN : \n",
    "X_train, X_test, y_train, y_test  = train_test_split(X,y, test_size=0.4, random_state=17)\n",
    "\n",
    "print(iris.DESCR)\n",
    "num_lables = 3"
   ]
  },
  {
   "cell_type": "code",
   "execution_count": 54,
   "metadata": {},
   "outputs": [
    {
     "name": "stdout",
     "output_type": "stream",
     "text": [
      "\n",
      "Print confusion matrix for one sample with k=4 :\n",
      "\n",
      "\n",
      "Confusion Matrix (Tabular Format):\n",
      "            setosa  versicolor  virginica\n",
      "setosa          27           0          0\n",
      "versicolor       2          16          0\n",
      "virginica        0           0         15\n"
     ]
    }
   ],
   "source": [
    "\n",
    "# Define number of classes\n",
    "num_classes = len(np.unique(y))\n",
    "\n",
    "print(\"\\nPrint confusion matrix for one sample with k=4 :\\n\")\n",
    "k = 4\n",
    "\n",
    "# Run KNN and ensure y_pred is an array\n",
    "y_pred = [KNN(sample, X_train, y_train, k) for sample in X_test]\n",
    "y_test_sample = np.array([y_test[0]])  # Extract corresponding true label\n",
    "\n",
    "# Compute the confusion matrix\n",
    "cm = compute_confusion_matrix(y_true=y_test, y_pred=y_pred, num_classes=num_classes)\n",
    "\n",
    "# Convert to DataFrame for better readability\n",
    "class_labels = iris.target_names  # Use 'setosa', 'versicolor', 'virginica' instead of numbers\n",
    "cm_df = pd.DataFrame(cm, index=class_labels, columns=class_labels)\n",
    "\n",
    "# Print formatted confusion matrix\n",
    "print(\"\\nConfusion Matrix (Tabular Format):\")\n",
    "print(cm_df.to_string())\n",
    "\n"
   ]
  },
  {
   "cell_type": "code",
   "execution_count": 55,
   "metadata": {},
   "outputs": [
    {
     "name": "stdout",
     "output_type": "stream",
     "text": [
      "Test with our metrics\n",
      "k = 2: Accuracy = 0.93, Precision = 0.96, Recall = 0.93, Specificity = 0.97 , FP_rate=0.03\n",
      "k = 3: Accuracy = 0.97, Precision = 0.97, Recall = 0.97, Specificity = 0.98 , FP_rate=0.02\n",
      "k = 4: Accuracy = 0.97, Precision = 0.98, Recall = 0.97, Specificity = 0.98 , FP_rate=0.02\n",
      "k = 5: Accuracy = 0.95, Precision = 0.96, Recall = 0.95, Specificity = 0.97 , FP_rate=0.03\n",
      "k = 6: Accuracy = 0.95, Precision = 0.97, Recall = 0.95, Specificity = 0.97 , FP_rate=0.03\n",
      "k = 7: Accuracy = 0.95, Precision = 0.97, Recall = 0.95, Specificity = 0.97 , FP_rate=0.03\n",
      "k = 8: Accuracy = 0.95, Precision = 0.97, Recall = 0.95, Specificity = 0.97 , FP_rate=0.03\n",
      "k = 9: Accuracy = 0.97, Precision = 0.97, Recall = 0.97, Specificity = 0.98 , FP_rate=0.02\n",
      "\n",
      "Test with sklearn metrics\n",
      "\n",
      "k = 2: Accuracy = 0.93, Precision = 0.96, Recall = 0.93\n",
      "k = 3: Accuracy = 0.97, Precision = 0.97, Recall = 0.97\n",
      "k = 4: Accuracy = 0.97, Precision = 0.98, Recall = 0.97\n",
      "k = 5: Accuracy = 0.95, Precision = 0.96, Recall = 0.95\n",
      "k = 6: Accuracy = 0.95, Precision = 0.97, Recall = 0.95\n",
      "k = 7: Accuracy = 0.95, Precision = 0.97, Recall = 0.95\n",
      "k = 8: Accuracy = 0.95, Precision = 0.97, Recall = 0.95\n",
      "k = 9: Accuracy = 0.97, Precision = 0.97, Recall = 0.97\n"
     ]
    }
   ],
   "source": [
    "print(\"Test with our metrics\")\n",
    "# Evaluate KNN with diffrent K values   : \n",
    "for k in range(2,10):\n",
    "    y_pred = [KNN(sample, X_train, y_train, k) for sample in X_test]\n",
    "    y_pred = np.array(y_pred)  # Convert list to NumPy array\n",
    "    # Calculate accuracy \n",
    "    accuracy = overall_accuracy(y_test , y_pred ) \n",
    "    precision = overall_precision(y_test, y_pred , average=\"macro\") \n",
    "    recall = overall_recall(y_test, y_pred , average='weighted')\n",
    "    Specificity = overall_Specificity(y_test, y_pred )\n",
    "    FP_rate = overall_FP_rate(y_test, y_pred )\n",
    "    \n",
    "    print(f\"k = {k}: Accuracy = {accuracy:.2f}, Precision = {precision:.2f}, Recall = {recall:.2f}, Specificity = {Specificity:.2f} , FP_rate={FP_rate:.2f}\")\n",
    "\n",
    "print(\"\\nTest with sklearn metrics\\n\")\n",
    "# Evaluate KNN with diffrent K values   : \n",
    "for k in range(2,10):\n",
    "    y_pred = [KNN(sample, X_train, y_train, k) for sample in X_test]\n",
    "    y_pred = np.array(y_pred)  # Convert list to NumPy array\n",
    "\n",
    "    # Calculate accuracy \n",
    "    accuracy = accuracy_score(y_test , y_pred) \n",
    "    precision = precision_score(y_test, y_pred, average='macro') \n",
    "    recall = recall_score(y_test, y_pred, average='weighted')\n",
    "    print(f\"k = {k}: Accuracy = {accuracy:.2f}, Precision = {precision:.2f}, Recall = {recall:.2f}\")\n",
    "\n",
    "\n"
   ]
  },
  {
   "cell_type": "markdown",
   "metadata": {
    "id": "v9wv0lPTl0z-",
    "scrolled": false
   },
   "source": [
    "# Méthode 1: MVS\n",
    "Machine à Vecteurs de Support"
   ]
  },
  {
   "cell_type": "code",
   "execution_count": 56,
   "metadata": {
    "colab": {
     "background_save": true
    },
    "id": "I87X5WBKl0z_"
   },
   "outputs": [],
   "source": [
    "#Créer le modèle\n",
    "model= svm.SVC(kernel='linear') \n",
    "# entrainement \n",
    "model.fit(Xt, Yt)\n",
    "# Prediction\n",
    "y_pred = model.predict(Xtt)"
   ]
  },
  {
   "cell_type": "code",
   "execution_count": 57,
   "metadata": {
    "colab": {
     "background_save": true
    },
    "id": "qC8bd0uCl0z_"
   },
   "outputs": [
    {
     "name": "stdout",
     "output_type": "stream",
     "text": [
      "3\n"
     ]
    },
    {
     "data": {
      "text/plain": [
       "<matplotlib.image.AxesImage at 0x23bd2160370>"
      ]
     },
     "execution_count": 57,
     "metadata": {},
     "output_type": "execute_result"
    },
    {
     "data": {
      "image/png": "[encoded data removed]",
      "text/plain": [
       "<Figure size 640x480 with 1 Axes>"
      ]
     },
     "metadata": {},
     "output_type": "display_data"
    }
   ],
   "source": [
    "# tester une image\n",
    "c= 3\n",
    "print (y_pred[c])\n",
    "a = Xtt[c,:].reshape((20, 20))\n",
    "a=np.transpose(a)\n",
    "plt.title('label '+ str(Ytt[c]))\n",
    "plt.imshow(a,cmap='gray')"
   ]
  },
  {
   "cell_type": "markdown",
   "metadata": {
    "id": "kF8Vvak9l00A"
   },
   "source": [
    "# Méthode 2: Arbres de décision\n"
   ]
  },
  {
   "cell_type": "code",
   "execution_count": 58,
   "metadata": {
    "colab": {
     "background_save": true
    },
    "id": "SOGXAVhGl00B"
   },
   "outputs": [],
   "source": [
    "# Créer le modèle\n",
    "model = DecisionTreeClassifier()\n",
    "# Entrainer le modèle\n",
    "model = model.fit(Xt, Yt)\n",
    "# Prediction\n",
    "y_pred = model.predict(Xtt)"
   ]
  },
  {
   "cell_type": "code",
   "execution_count": 59,
   "metadata": {
    "colab": {
     "background_save": true
    },
    "id": "jcndAmvbl00B"
   },
   "outputs": [
    {
     "name": "stdout",
     "output_type": "stream",
     "text": [
      "3\n"
     ]
    },
    {
     "data": {
      "text/plain": [
       "<matplotlib.image.AxesImage at 0x23bdd90e740>"
      ]
     },
     "execution_count": 59,
     "metadata": {},
     "output_type": "execute_result"
    },
    {
     "data": {
      "image/png": "[encoded data removed]",
      "text/plain": [
       "<Figure size 640x480 with 1 Axes>"
      ]
     },
     "metadata": {},
     "output_type": "display_data"
    }
   ],
   "source": [
    "# tester une image\n",
    "c= 3\n",
    "print (y_pred[c])\n",
    "a = Xtt[c,:].reshape((20, 20))\n",
    "a=np.transpose(a)\n",
    "plt.title('label '+ str(Ytt[c]))\n",
    "plt.imshow(a,cmap='gray')"
   ]
  },
  {
   "cell_type": "markdown",
   "metadata": {
    "id": "4rZNPN91l00C"
   },
   "source": [
    "# Méthode 3: RN \n",
    "Réseaux de neurones Perceptron"
   ]
  },
  {
   "cell_type": "code",
   "execution_count": 60,
   "metadata": {
    "colab": {
     "background_save": true
    },
    "id": "ZqseGqptl00E"
   },
   "outputs": [
    {
     "ename": "ValueError",
     "evalue": "Found input variables with inconsistent numbers of samples: [150, 5000]",
     "output_type": "error",
     "traceback": [
      "\u001b[1;31m---------------------------------------------------------------------------\u001b[0m",
      "\u001b[1;31mValueError\u001b[0m                                Traceback (most recent call last)",
      "Cell \u001b[1;32mIn[60], line 2\u001b[0m\n\u001b[0;32m      1\u001b[0m model \u001b[38;5;241m=\u001b[39m MLPClassifier(solver\u001b[38;5;241m=\u001b[39m\u001b[38;5;124m'\u001b[39m\u001b[38;5;124msgd\u001b[39m\u001b[38;5;124m'\u001b[39m, alpha\u001b[38;5;241m=\u001b[39m\u001b[38;5;241m1e-5\u001b[39m, hidden_layer_sizes\u001b[38;5;241m=\u001b[39m(\u001b[38;5;241m25\u001b[39m),max_iter\u001b[38;5;241m=\u001b[39m\u001b[38;5;241m100000\u001b[39m)\n\u001b[1;32m----> 2\u001b[0m Xt, Xtt, Yt, Ytt \u001b[38;5;241m=\u001b[39m \u001b[43mtrain_test_split\u001b[49m\u001b[43m(\u001b[49m\u001b[43mX\u001b[49m\u001b[43m,\u001b[49m\u001b[43m \u001b[49m\u001b[43mY\u001b[49m\u001b[43m,\u001b[49m\u001b[43m \u001b[49m\u001b[43mrandom_state\u001b[49m\u001b[38;5;241;43m=\u001b[39;49m\u001b[38;5;241;43m0\u001b[39;49m\u001b[43m,\u001b[49m\u001b[43m \u001b[49m\u001b[43mtest_size\u001b[49m\u001b[38;5;241;43m=\u001b[39;49m\u001b[38;5;241;43m0.7\u001b[39;49m\u001b[43m)\u001b[49m\n\u001b[0;32m      3\u001b[0m model\u001b[38;5;241m.\u001b[39mfit(Xt, Yt)\n",
      "File \u001b[1;32mc:\\Users\\jn_fe\\anaconda3\\lib\\site-packages\\sklearn\\model_selection\\_split.py:2559\u001b[0m, in \u001b[0;36mtrain_test_split\u001b[1;34m(test_size, train_size, random_state, shuffle, stratify, *arrays)\u001b[0m\n\u001b[0;32m   2556\u001b[0m \u001b[38;5;28;01mif\u001b[39;00m n_arrays \u001b[38;5;241m==\u001b[39m \u001b[38;5;241m0\u001b[39m:\n\u001b[0;32m   2557\u001b[0m     \u001b[38;5;28;01mraise\u001b[39;00m \u001b[38;5;167;01mValueError\u001b[39;00m(\u001b[38;5;124m\"\u001b[39m\u001b[38;5;124mAt least one array required as input\u001b[39m\u001b[38;5;124m\"\u001b[39m)\n\u001b[1;32m-> 2559\u001b[0m arrays \u001b[38;5;241m=\u001b[39m \u001b[43mindexable\u001b[49m\u001b[43m(\u001b[49m\u001b[38;5;241;43m*\u001b[39;49m\u001b[43marrays\u001b[49m\u001b[43m)\u001b[49m\n\u001b[0;32m   2561\u001b[0m n_samples \u001b[38;5;241m=\u001b[39m _num_samples(arrays[\u001b[38;5;241m0\u001b[39m])\n\u001b[0;32m   2562\u001b[0m n_train, n_test \u001b[38;5;241m=\u001b[39m _validate_shuffle_split(\n\u001b[0;32m   2563\u001b[0m     n_samples, test_size, train_size, default_test_size\u001b[38;5;241m=\u001b[39m\u001b[38;5;241m0.25\u001b[39m\n\u001b[0;32m   2564\u001b[0m )\n",
      "File \u001b[1;32mc:\\Users\\jn_fe\\anaconda3\\lib\\site-packages\\sklearn\\utils\\validation.py:443\u001b[0m, in \u001b[0;36mindexable\u001b[1;34m(*iterables)\u001b[0m\n\u001b[0;32m    424\u001b[0m \u001b[38;5;250m\u001b[39m\u001b[38;5;124;03m\"\"\"Make arrays indexable for cross-validation.\u001b[39;00m\n\u001b[0;32m    425\u001b[0m \n\u001b[0;32m    426\u001b[0m \u001b[38;5;124;03mChecks consistent length, passes through None, and ensures that everything\u001b[39;00m\n\u001b[1;32m   (...)\u001b[0m\n\u001b[0;32m    439\u001b[0m \u001b[38;5;124;03m    sparse matrix, or dataframe) or `None`.\u001b[39;00m\n\u001b[0;32m    440\u001b[0m \u001b[38;5;124;03m\"\"\"\u001b[39;00m\n\u001b[0;32m    442\u001b[0m result \u001b[38;5;241m=\u001b[39m [_make_indexable(X) \u001b[38;5;28;01mfor\u001b[39;00m X \u001b[38;5;129;01min\u001b[39;00m iterables]\n\u001b[1;32m--> 443\u001b[0m \u001b[43mcheck_consistent_length\u001b[49m\u001b[43m(\u001b[49m\u001b[38;5;241;43m*\u001b[39;49m\u001b[43mresult\u001b[49m\u001b[43m)\u001b[49m\n\u001b[0;32m    444\u001b[0m \u001b[38;5;28;01mreturn\u001b[39;00m result\n",
      "File \u001b[1;32mc:\\Users\\jn_fe\\anaconda3\\lib\\site-packages\\sklearn\\utils\\validation.py:397\u001b[0m, in \u001b[0;36mcheck_consistent_length\u001b[1;34m(*arrays)\u001b[0m\n\u001b[0;32m    395\u001b[0m uniques \u001b[38;5;241m=\u001b[39m np\u001b[38;5;241m.\u001b[39munique(lengths)\n\u001b[0;32m    396\u001b[0m \u001b[38;5;28;01mif\u001b[39;00m \u001b[38;5;28mlen\u001b[39m(uniques) \u001b[38;5;241m>\u001b[39m \u001b[38;5;241m1\u001b[39m:\n\u001b[1;32m--> 397\u001b[0m     \u001b[38;5;28;01mraise\u001b[39;00m \u001b[38;5;167;01mValueError\u001b[39;00m(\n\u001b[0;32m    398\u001b[0m         \u001b[38;5;124m\"\u001b[39m\u001b[38;5;124mFound input variables with inconsistent numbers of samples: \u001b[39m\u001b[38;5;132;01m%r\u001b[39;00m\u001b[38;5;124m\"\u001b[39m\n\u001b[0;32m    399\u001b[0m         \u001b[38;5;241m%\u001b[39m [\u001b[38;5;28mint\u001b[39m(l) \u001b[38;5;28;01mfor\u001b[39;00m l \u001b[38;5;129;01min\u001b[39;00m lengths]\n\u001b[0;32m    400\u001b[0m     )\n",
      "\u001b[1;31mValueError\u001b[0m: Found input variables with inconsistent numbers of samples: [150, 5000]"
     ]
    }
   ],
   "source": [
    "model = MLPClassifier(solver='sgd', alpha=1e-5, hidden_layer_sizes=(25),max_iter=100000)\n",
    "Xt, Xtt, Yt, Ytt = train_test_split(X, Y, random_state=0, test_size=0.7)\n",
    "model.fit(Xt, Yt)"
   ]
  },
  {
   "cell_type": "code",
   "execution_count": null,
   "metadata": {
    "colab": {
     "background_save": true
    },
    "id": "4M7gZVVWl00F"
   },
   "outputs": [],
   "source": [
    "# Choisir un image de test \n",
    "c=0"
   ]
  },
  {
   "cell_type": "code",
   "execution_count": null,
   "metadata": {
    "colab": {
     "background_save": true
    },
    "id": "Xy0Rda31l00F",
    "scrolled": true
   },
   "outputs": [],
   "source": [
    "model.predict([Xtt[c,:]])"
   ]
  },
  {
   "cell_type": "code",
   "execution_count": null,
   "metadata": {
    "colab": {
     "background_save": true
    },
    "id": "QN122JmZl00G"
   },
   "outputs": [],
   "source": [
    "# pour ROC, il faudra les probabilités:\n",
    "model.predict_proba([Xtt[c,:]])"
   ]
  },
  {
   "cell_type": "markdown",
   "metadata": {
    "id": "5bnMb0U1l00H"
   },
   "source": [
    "Afficher l'image testée"
   ]
  },
  {
   "cell_type": "code",
   "execution_count": null,
   "metadata": {
    "colab": {
     "background_save": true
    },
    "id": "wX7-5roHl00H"
   },
   "outputs": [],
   "source": [
    "a = Xtt[c,:].reshape((20, 20))\n",
    "a=np.transpose(a)\n",
    "plt.title('label '+ str(Ytt[c]))\n",
    "plt.imshow(a,cmap='gray')"
   ]
  },
  {
   "cell_type": "markdown",
   "metadata": {
    "id": "lXTjUzQal00J"
   },
   "source": [
    "# Méthode 4: RNC\n",
    "Réseaux de Neurones Convolutifs"
   ]
  },
  {
   "cell_type": "markdown",
   "metadata": {
    "id": "_txSaLVpl00L"
   },
   "source": [
    "# Appliquer les métriques implementées pour voir le résultat"
   ]
  },
  {
   "cell_type": "code",
   "execution_count": null,
   "metadata": {
    "colab": {
     "background_save": true
    },
    "id": "nkZxFuQKl00M"
   },
   "outputs": [],
   "source": []
  }
 ],
 "metadata": {
  "colab": {
   "collapsed_sections": [],
   "name": "TP 1 Mesures de performance.ipynb",
   "provenance": []
  },
  "kernelspec": {
   "display_name": "base",
   "language": "python",
   "name": "python3"
  },
  "language_info": {
   "codemirror_mode": {
    "name": "ipython",
    "version": 3
   },
   "file_extension": ".py",
   "mimetype": "text/x-python",
   "name": "python",
   "nbconvert_exporter": "python",
   "pygments_lexer": "ipython3",
   "version": "3.10.9"
  }
 },
 "nbformat": 4,
 "nbformat_minor": 1
}
