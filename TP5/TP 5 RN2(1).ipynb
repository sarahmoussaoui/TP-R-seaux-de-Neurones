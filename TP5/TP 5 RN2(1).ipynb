{
 "cells": [
  {
   "cell_type": "markdown",
   "metadata": {},
   "source": [
    "# TP 5 Réseaux de neurones - Multi classification et Propagation en arrière\n",
    "Dans ce TP, nous aimerions entrainer un réseau de neurones pour la tâche de classification en utilisant l'algorithme d propagation en arrière (backpropagation).\n",
    "\n",
    "L'ensemble de données que nous allons utiliser est le même que celui utilisé durant le TP1, i.e. les images de chiffres manuscrits.\n"
   ]
  },
  {
   "cell_type": "markdown",
   "metadata": {},
   "source": [
    "# Importation des librairies necessaires au travail"
   ]
  },
  {
   "cell_type": "code",
   "execution_count": 95,
   "metadata": {},
   "outputs": [],
   "source": [
    "import numpy as np\n",
    "import matplotlib.pyplot as plt\n",
    "from numpy import random\n",
    "import cv2 "
   ]
  },
  {
   "cell_type": "markdown",
   "metadata": {},
   "source": [
    "# Lecture des fichiers de données\n",
    "Pour ce TP, nous allons lire les données à partir d'un fichier csv."
   ]
  },
  {
   "cell_type": "code",
   "execution_count": 96,
   "metadata": {},
   "outputs": [
    {
     "data": {
      "text/plain": [
       "(5000, 401)"
      ]
     },
     "execution_count": 96,
     "metadata": {},
     "output_type": "execute_result"
    }
   ],
   "source": [
    "# données\n",
    "data = np.genfromtxt('data.csv', delimiter=',', dtype=float)\n",
    "data.shape"
   ]
  },
  {
   "cell_type": "markdown",
   "metadata": {},
   "source": [
    "Dans ces données (data), les 400 premières colonnes representent les pixels de l'image (20x20), la dernière colonne represente la classe de l'image (chiffres de 0 à 9). (http://yann.lecun.com/exdb/mnist/)\n",
    "\n",
    "Chaque ligne represente un exemple de notre ensemble de données. \n",
    "\n",
    "Mettons ces données dans leus vecteurs correspondants."
   ]
  },
  {
   "cell_type": "code",
   "execution_count": 97,
   "metadata": {},
   "outputs": [],
   "source": [
    "# rajoutons l'ordonnée à l'origine theta 0\n",
    "intercept=np.ones((data.shape[0],1))\n",
    "X=np.column_stack((intercept,data[:,:-1]))\n",
    "y=data[:,-1]\n",
    "# forcer y à avoir une seule colonne\n",
    "y = y.reshape( y.shape[0], 1)"
   ]
  },
  {
   "cell_type": "code",
   "execution_count": 98,
   "metadata": {},
   "outputs": [
    {
     "name": "stdout",
     "output_type": "stream",
     "text": [
      "X (5000, 401)  y  (5000, 1)\n"
     ]
    }
   ],
   "source": [
    "print('X', X.shape ,' y ', y.shape)"
   ]
  },
  {
   "cell_type": "markdown",
   "metadata": {},
   "source": [
    "Visualisation aléatoire de quelques données"
   ]
  },
  {
   "cell_type": "code",
   "execution_count": 99,
   "metadata": {},
   "outputs": [
    {
     "data": {
      "image/png": "[encoded data removed]",
      "text/plain": [
       "<Figure size 1080x576 with 13 Axes>"
      ]
     },
     "metadata": {
      "needs_background": "light"
     },
     "output_type": "display_data"
    }
   ],
   "source": [
    "plt.figure(figsize=(15,8))\n",
    "for i in range(13):\n",
    "    c = random.randint(X.shape[0])\n",
    "    a = X[c,1:].reshape((20, 20))\n",
    "    a=np.transpose(a)\n",
    "    plt.subplot(1,13,i+1)\n",
    "    plt.title('label '+ str(y[c]))\n",
    "    plt.imshow(a,cmap='gray')"
   ]
  },
  {
   "cell_type": "markdown",
   "metadata": {},
   "source": [
    "Transformer y de tel sorte à avoir un vecteur pour chaque exemple\n",
    "\n",
    "Equivalent de tocategorical"
   ]
  },
  {
   "cell_type": "code",
   "execution_count": 100,
   "metadata": {},
   "outputs": [
    {
     "data": {
      "text/plain": [
       "(5000, 10)"
      ]
     },
     "execution_count": 100,
     "metadata": {},
     "output_type": "execute_result"
    }
   ],
   "source": [
    "YY=np.zeros((y.shape[0], int(np.max(y))+1))\n",
    "YY.shape"
   ]
  },
  {
   "cell_type": "code",
   "execution_count": 101,
   "metadata": {},
   "outputs": [],
   "source": [
    "for i in range (YY.shape[0]):\n",
    "    YY[i,int(y[i])]=1"
   ]
  },
  {
   "cell_type": "markdown",
   "metadata": {},
   "source": [
    "# Réseaux de neurones\n",
    "Pour cette partie, nous choisissons une réseau simple:\n",
    "\n",
    "- une couche d'entrée avec 400 noeuds (20 x 20 pixels) + le biais\n",
    "- une couche cachée avec 25 noeuds\n",
    "- une couche de sortie avec 10 noeuds (nombre de classes)"
   ]
  },
  {
   "cell_type": "code",
   "execution_count": 3,
   "metadata": {},
   "outputs": [
    {
     "data": {
      "text/plain": [
       "(25, 401)"
      ]
     },
     "execution_count": 3,
     "metadata": {},
     "output_type": "execute_result"
    }
   ],
   "source": [
    "# poids de la couche 1\n",
    "W1 = np.genfromtxt('W1.csv', delimiter=',', dtype=float)\n",
    "W1.shape\n"
   ]
  },
  {
   "cell_type": "code",
   "execution_count": 4,
   "metadata": {},
   "outputs": [
    {
     "data": {
      "text/plain": [
       "(10, 26)"
      ]
     },
     "execution_count": 4,
     "metadata": {},
     "output_type": "execute_result"
    }
   ],
   "source": [
    "# poids de la couche 2\n",
    "W2 = np.genfromtxt('W2.csv', delimiter=',', dtype=float)\n",
    "W2.shape"
   ]
  },
  {
   "cell_type": "code",
   "execution_count": 5,
   "metadata": {},
   "outputs": [],
   "source": [
    "input_layer_size  = 400\n",
    "hidden_layer_size = 25   \n",
    "num_labels = 10"
   ]
  },
  {
   "cell_type": "markdown",
   "metadata": {},
   "source": [
    "# Calcul du coût"
   ]
  },
  {
   "cell_type": "markdown",
   "metadata": {},
   "source": [
    "# TODO  1 calcul du coût\n",
    "**Tâche 1**: Modifier la fonction computeCost afin d'obtenir un coût avec régularisation\n",
    "\n",
    "Rappelons que le coût avec régularisation est calculé comme suit:\n",
    "\n",
    "$ J(\\theta)= \\frac{1}{m} \\sum_{i=1}^m\\sum_{k=1}^K \\left[ -y_k^{(i)} \\log (h_\\theta(x^{(i)}) )_k - (1-y_k^{(i)}) \\log (1-h_\\theta(x^{(i)}) )_k \\right] + \\frac{\\lambda}{2m} \\left[ \\sum_{j=1}^{25}\\sum_{k=1}^{400} \\left( \\theta_{j,k}^{(1)} \\right)^2 +   \\sum_{j=1}^{10}\\sum_{k=1}^{25} \\left( \\theta_{j,k}^{(2)} \\right)^2 \\right] $"
   ]
  },
  {
   "cell_type": "code",
   "execution_count": 59,
   "metadata": {},
   "outputs": [],
   "source": [
    "def Sigmoid(z):\n",
    "    # pour une valeur donnée, cette fonction calculera sa sigmoid\n",
    "    return 1/(1+np.exp(-z))"
   ]
  },
  {
   "cell_type": "code",
   "execution_count": 89,
   "metadata": {},
   "outputs": [],
   "source": [
    "def computeCost(X, YY, theta1, theta2,hidden_layer_size, lambda_):\n",
    "    a1=X; \n",
    "\n",
    "    z2= np.zeros((X.shape[0],hidden_layer_size))\n",
    "    a2= np.zeros((X.shape[0],hidden_layer_size)) \n",
    "\n",
    "    intercept=np.ones((X.shape[0],1))\n",
    "    z2=np.column_stack((intercept,np.matmul(a1,np.transpose(theta1))))\n",
    "    a2=Sigmoid(z2)\n",
    "    a2[:,0]=1\n",
    "\n",
    "    z3= np.zeros((YY.shape[0],YY.shape[1]))    \n",
    "    a3= np.zeros((YY.shape[0],YY.shape[1]))  \n",
    "\n",
    "    z3=np.matmul(a2,np.transpose(theta2))\n",
    "    a3=Sigmoid(z3)\n",
    "\n",
    "    J=np.zeros((YY.shape[0],1))\n",
    "    J= (1/y.shape[0])*(np.sum(np.sum((-YY*np.log(a3))-((1-YY)*np.log(1-a3)))))\n",
    "\n",
    "    return J"
   ]
  },
  {
   "cell_type": "markdown",
   "metadata": {},
   "source": [
    "# TODO  2 calcul du gradient\n",
    "**Tâche 2**: Implémenter la fonction NNCostFunction afin de retourner:\n",
    "\n",
    "- Le coût avec régularisation\n",
    "- Le gardient du coût par rapport à chaqu'un des paramètres du réseau\n",
    "\n",
    "Rappelons le gradient de la sigmoid:\n",
    "\n",
    "$ sigmoid(z) =\\sigma(z)= \\frac{1}{1-e^{-z}}$\n",
    "\n",
    "$ \\sigma(z)^\\prime = \\sigma(z)(1-\\sigma(z)) =a(1-a)$ tel que $a$ est l'activation d'une couche donnée\n",
    "\n",
    "L'algorithme à implementer est comme suit:\n",
    "\n",
    "Pour chaque exemple de l'ensemble d'apprentissage faire\n",
    "\n",
    "Pour chaque noeud de la couche de sortie, calculer la dérivée (gradient):\n",
    "\n",
    "$\\delta_k^{(3)} = \\left( a_k^{(3)}- y_k \\right)  $\n",
    "\n",
    "Pour chaque noeud de la couche caché calculer la dérivée (gradient):\n",
    "\n",
    "$\\delta^{(2)} =  \\left(\\Theta^{(2)}\\right)^T \\delta^{(3)} \\quad .* \\quad \\sigma^\\prime\\left(z^{(2)} \\right) $\n",
    "\n",
    "Notons que l'opérateur $.*$ represente la multiplication élement par élement et non pas la multiplication matricielle\n",
    "\n",
    "Le gradient de chaque noeud et de chaque couche sera finalement:\n",
    "\n",
    "$\\Delta^{(l)} =  \\Delta^{(l)} + \\delta^{(l)} * \\left( a^{(l)} \\right)^T $\n",
    "\n",
    "Fin pour\n",
    "\n",
    "Fin pour\n",
    "\n",
    "Diviser le gradient cumulé par le nombre d'exemples:\n",
    "\n",
    "$ \\frac{\\partial J(\\Theta)} { \\partial \\Theta_{i,j)}^{(l)}} = \\frac{1}{m} \\Delta_{i,j)}^{(l)}$\n"
   ]
  },
  {
   "cell_type": "code",
   "execution_count": null,
   "metadata": {},
   "outputs": [],
   "source": [
    "def NNCostFunction(X, YY, theta1, theta2,hidden_layer_size):\n",
    "    theta1_grad = np.zeros((theta1.shape[0],theta1.shape[1]))\n",
    "    theta2_grad = np.zeros((theta2.shape[0],theta2.shape[1]))\n",
    "\n",
    "    return J, grad"
   ]
  },
  {
   "cell_type": "markdown",
   "metadata": {},
   "source": [
    "# TODO  3 entrainement du réseau\n",
    "**Tâche 3**: Entrainer le réseau en utilisant la descente du gradient:\n",
    "Ici il faudra reprendre l'algorithme de la descente du gradient afin de mettre à jour les paramètres du réseau\n"
   ]
  },
  {
   "cell_type": "code",
   "execution_count": null,
   "metadata": {},
   "outputs": [],
   "source": [
    "def gradientDescent(X, y, Theta, alpha, iterations):\n",
    "    "
   ]
  },
  {
   "cell_type": "markdown",
   "metadata": {},
   "source": [
    "# TODO 4 : Régularisation\n",
    "Mettre à jour le calcul du coût en ajoutant le terme de régularisation et comparer les résultats (avec et sans régularisation)"
   ]
  },
  {
   "cell_type": "code",
   "execution_count": null,
   "metadata": {},
   "outputs": [],
   "source": []
  },
  {
   "cell_type": "markdown",
   "metadata": {},
   "source": [
    "# TODO 5 : Prédiction\n",
    "\n",
    "Appliquer une propagation en avant en utilisant les paramètres données pour prédir les classes de l'ensemble d'apprentissage.\n",
    "\n"
   ]
  },
  {
   "cell_type": "code",
   "execution_count": null,
   "metadata": {},
   "outputs": [],
   "source": [
    "def predict (W1, W2, X):\n",
    "    \n",
    "    # appliquer une propagation en avant\n",
    "    # !--- n'oubliez pas d'appliquer la sigmoid à chaque couche afin d'avoir les probabilités ---!\n",
    "    \n",
    "    # prédire la classe en choisissant la probabilité maximale parmi les 10 noeuds de sortie\n",
    "    return y_pred"
   ]
  },
  {
   "cell_type": "code",
   "execution_count": 78,
   "metadata": {},
   "outputs": [],
   "source": [
    "# calcul de precision = nombre de valeurs bien prédites (ici sur toute la base X)\n",
    "y_pred=predict(X)\n",
    "precision = np.mean(y==y_pred)*100\n",
    "precision"
   ]
  },
  {
   "cell_type": "markdown",
   "metadata": {},
   "source": [
    "# optionnel 1 : Vérification de l'implementation\n",
    "Comparer vos algorithmes à ceux de scikitlearn"
   ]
  },
  {
   "cell_type": "code",
   "execution_count": null,
   "metadata": {},
   "outputs": [],
   "source": []
  },
  {
   "cell_type": "markdown",
   "metadata": {},
   "source": [
    "# Optionnel 2 : Renforcement de l'apprentissage\n",
    "Mettre ici toute idée qui pourrait renforcer votre apprentissage"
   ]
  },
  {
   "cell_type": "code",
   "execution_count": null,
   "metadata": {},
   "outputs": [],
   "source": []
  }
 ],
 "metadata": {
  "kernelspec": {
   "display_name": "Python 3",
   "language": "python",
   "name": "python3"
  },
  "language_info": {
   "codemirror_mode": {
    "name": "ipython",
    "version": 3
   },
   "file_extension": ".py",
   "mimetype": "text/x-python",
   "name": "python",
   "nbconvert_exporter": "python",
   "pygments_lexer": "ipython3",
   "version": "3.7.3"
  }
 },
 "nbformat": 4,
 "nbformat_minor": 2
}
